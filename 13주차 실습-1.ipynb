{
 "cells": [
  {
   "cell_type": "code",
   "execution_count": null,
   "id": "6f3979cf-1cb6-4c41-a78e-b67e73850ca1",
   "metadata": {},
   "outputs": [],
   "source": [
    "# 학번: 2022177357\n",
    "# 이름: 문재형"
   ]
  },
  {
   "cell_type": "code",
   "execution_count": null,
   "id": "875be2ba-44b1-4581-8967-d5205ce25728",
   "metadata": {},
   "outputs": [],
   "source": []
  },
  {
   "cell_type": "code",
   "execution_count": 9,
   "id": "e7dddd1a-3399-4d59-8b22-7bfc8e0c36b4",
   "metadata": {},
   "outputs": [],
   "source": [
    "# 1. XML 파싱(해석) - ElementTree"
   ]
  },
  {
   "cell_type": "code",
   "execution_count": 1,
   "id": "27a42f61-2161-48a4-b900-3a1a73aecb21",
   "metadata": {},
   "outputs": [],
   "source": [
    "import xml.etree.ElementTree as et\n",
    "tree = et.ElementTree(file='menu.xml')\n",
    "root = tree.getroot()"
   ]
  },
  {
   "cell_type": "code",
   "execution_count": 2,
   "id": "303bd151-e6a2-4512-8601-87aa4c29ea7b",
   "metadata": {},
   "outputs": [
    {
     "name": "stdout",
     "output_type": "stream",
     "text": [
      "menu\n"
     ]
    }
   ],
   "source": [
    "print(root.tag)"
   ]
  },
  {
   "cell_type": "code",
   "execution_count": 3,
   "id": "01290597-ffab-4157-aeee-1b3ee8b7e1e9",
   "metadata": {},
   "outputs": [
    {
     "data": {
      "text/plain": [
       "xml.etree.ElementTree.Element"
      ]
     },
     "execution_count": 3,
     "metadata": {},
     "output_type": "execute_result"
    }
   ],
   "source": [
    "type(root)"
   ]
  },
  {
   "cell_type": "code",
   "execution_count": null,
   "id": "b4b8511b-0291-4fdb-8f74-b9302589762b",
   "metadata": {},
   "outputs": [],
   "source": []
  },
  {
   "cell_type": "code",
   "execution_count": 5,
   "id": "e6e21d51-ed9b-4b08-bad5-a41c4da490c4",
   "metadata": {},
   "outputs": [
    {
     "name": "stdout",
     "output_type": "stream",
     "text": [
      "tag: breakfast attributes: {'hours': '7-11'}\n",
      "\ttag: item attributes: {'price': '$6.00'}\n",
      "\ttag: item attributes: {'price': '$4.00'}\n",
      "tag: lunch attributes: {'hours': '11-3'}\n",
      "\ttag: item attributes: {'price': '$5.00'}\n",
      "tag: dinner attributes: {'hours': '3-10'}\n",
      "\ttag: item attributes: {'price': '8.00'}\n"
     ]
    }
   ],
   "source": [
    "for child in root:\n",
    "    print('tag:', child.tag, 'attributes:', child.attrib)\n",
    "    for grandchild in child:\n",
    "        print('\\ttag:', grandchild.tag, 'attributes:', grandchild.attrib)"
   ]
  },
  {
   "cell_type": "code",
   "execution_count": null,
   "id": "ac2ae86c-bd74-4df1-8950-adee1ca31b3b",
   "metadata": {},
   "outputs": [],
   "source": []
  },
  {
   "cell_type": "code",
   "execution_count": 6,
   "id": "a314b564-4ae0-4a06-bd47-5e581ced3c33",
   "metadata": {},
   "outputs": [
    {
     "data": {
      "text/plain": [
       "3"
      ]
     },
     "execution_count": 6,
     "metadata": {},
     "output_type": "execute_result"
    }
   ],
   "source": [
    "len(root)"
   ]
  },
  {
   "cell_type": "code",
   "execution_count": 7,
   "id": "dccb1069-a907-4264-8c6e-7d5a0901b7f0",
   "metadata": {},
   "outputs": [
    {
     "data": {
      "text/plain": [
       "2"
      ]
     },
     "execution_count": 7,
     "metadata": {},
     "output_type": "execute_result"
    }
   ],
   "source": [
    "len(root[0])"
   ]
  },
  {
   "cell_type": "code",
   "execution_count": 8,
   "id": "44f03b7a-ce83-481a-a532-d868fda41faa",
   "metadata": {},
   "outputs": [
    {
     "data": {
      "text/plain": [
       "xml.etree.ElementTree.Element"
      ]
     },
     "execution_count": 8,
     "metadata": {},
     "output_type": "execute_result"
    }
   ],
   "source": [
    "type(root[0])"
   ]
  },
  {
   "cell_type": "code",
   "execution_count": null,
   "id": "5db59055-3f2e-4732-b595-31bde693eb21",
   "metadata": {},
   "outputs": [],
   "source": []
  },
  {
   "cell_type": "code",
   "execution_count": 10,
   "id": "ac72b892-05b5-4346-a1ef-d454526ea543",
   "metadata": {},
   "outputs": [],
   "source": [
    "#특정 태그의 속성 값 및 태그 자체 접근"
   ]
  },
  {
   "cell_type": "code",
   "execution_count": 11,
   "id": "d8ba0c71-3a4d-42c2-9261-935cf3ec8dab",
   "metadata": {},
   "outputs": [
    {
     "name": "stdout",
     "output_type": "stream",
     "text": [
      "<Element 'breakfast' at 0x000001903FE95A30>\n"
     ]
    }
   ],
   "source": [
    "print(root[0])"
   ]
  },
  {
   "cell_type": "code",
   "execution_count": 13,
   "id": "78beb47c-9fb4-4d62-a107-f3fb0d30ff36",
   "metadata": {},
   "outputs": [
    {
     "name": "stdout",
     "output_type": "stream",
     "text": [
      "7-11\n"
     ]
    }
   ],
   "source": [
    "print(root[0].get(\"hours\"))"
   ]
  },
  {
   "cell_type": "code",
   "execution_count": 14,
   "id": "4f5f4113-83b3-482f-8996-912a07fa2051",
   "metadata": {},
   "outputs": [
    {
     "name": "stdout",
     "output_type": "stream",
     "text": [
      "['hours']\n"
     ]
    }
   ],
   "source": [
    "print(root[0].keys())"
   ]
  },
  {
   "cell_type": "code",
   "execution_count": 15,
   "id": "5e36be3b-b341-433c-83b9-6356b6b01fc8",
   "metadata": {},
   "outputs": [
    {
     "name": "stdout",
     "output_type": "stream",
     "text": [
      "[('hours', '7-11')]\n"
     ]
    }
   ],
   "source": [
    "print(root[0].items())"
   ]
  },
  {
   "cell_type": "code",
   "execution_count": 17,
   "id": "b16cd853-1da6-4e01-8f39-2c40d711ec8f",
   "metadata": {},
   "outputs": [],
   "source": [
    "lunch = root.find(\"lunch\")"
   ]
  },
  {
   "cell_type": "code",
   "execution_count": 18,
   "id": "ec771aec-04c0-48a2-8939-52231f1c7dfe",
   "metadata": {},
   "outputs": [
    {
     "name": "stdout",
     "output_type": "stream",
     "text": [
      "<Element 'lunch' at 0x000001903FE95CB0>\n"
     ]
    }
   ],
   "source": [
    "print(lunch)"
   ]
  },
  {
   "cell_type": "code",
   "execution_count": 19,
   "id": "e97de0ee-4d85-420d-8096-fdcd1dfddc3a",
   "metadata": {},
   "outputs": [
    {
     "name": "stdout",
     "output_type": "stream",
     "text": [
      "11-3\n"
     ]
    }
   ],
   "source": [
    "print(lunch.get(\"hours\"))"
   ]
  },
  {
   "cell_type": "code",
   "execution_count": 21,
   "id": "c00dc178-e4d3-4edb-9528-b222ddb5be7c",
   "metadata": {},
   "outputs": [
    {
     "name": "stdout",
     "output_type": "stream",
     "text": [
      "['hours']\n"
     ]
    }
   ],
   "source": [
    "print(lunch.keys())"
   ]
  },
  {
   "cell_type": "code",
   "execution_count": 22,
   "id": "a967063b-c785-448e-bb25-3374c045afdf",
   "metadata": {},
   "outputs": [
    {
     "name": "stdout",
     "output_type": "stream",
     "text": [
      "<built-in method items of xml.etree.ElementTree.Element object at 0x000001903FE95CB0>\n"
     ]
    }
   ],
   "source": [
    "print(lunch.items)"
   ]
  },
  {
   "cell_type": "code",
   "execution_count": 24,
   "id": "8a722c71-8e28-4c01-84d4-aa678b4af4b7",
   "metadata": {},
   "outputs": [
    {
     "data": {
      "text/plain": [
       "xml.etree.ElementTree.Element"
      ]
     },
     "execution_count": 24,
     "metadata": {},
     "output_type": "execute_result"
    }
   ],
   "source": [
    "type(lunch)"
   ]
  },
  {
   "cell_type": "code",
   "execution_count": 26,
   "id": "b6539c91-cadd-4943-84b4-d249ca99c1c7",
   "metadata": {},
   "outputs": [
    {
     "name": "stdout",
     "output_type": "stream",
     "text": [
      "[<Element 'item' at 0x000001903FE95AD0>, <Element 'item' at 0x000001903FE95BC0>]\n"
     ]
    }
   ],
   "source": [
    "print(root[0].findall('item'))"
   ]
  },
  {
   "cell_type": "code",
   "execution_count": 27,
   "id": "8d921a06-13d6-4cdd-a95e-9fdd4e3e62f7",
   "metadata": {},
   "outputs": [
    {
     "name": "stdout",
     "output_type": "stream",
     "text": [
      "[<Element 'item' at 0x000001903FE95AD0>, <Element 'item' at 0x000001903FE95BC0>]\n"
     ]
    }
   ],
   "source": [
    "print(root[0].findall('item'))"
   ]
  },
  {
   "cell_type": "code",
   "execution_count": 29,
   "id": "a0aead4e-0b2c-48c7-993c-a38feb54e620",
   "metadata": {},
   "outputs": [
    {
     "name": "stdout",
     "output_type": "stream",
     "text": [
      "$6.00\n",
      "breakfast burritos\n",
      "$4.00\n",
      "pancakes\n"
     ]
    }
   ],
   "source": [
    "for item in root[0].findall('item'):\n",
    "    print(item.get('price'))\n",
    "    print(item.text)"
   ]
  },
  {
   "cell_type": "code",
   "execution_count": null,
   "id": "a0d73efc-0449-4860-9d58-0477fe65fd68",
   "metadata": {},
   "outputs": [],
   "source": []
  },
  {
   "cell_type": "code",
   "execution_count": 32,
   "id": "19a22a2f-bc29-4e83-8f0a-d5fd56b7c611",
   "metadata": {},
   "outputs": [],
   "source": [
    "#2. JSON 파일"
   ]
  },
  {
   "cell_type": "code",
   "execution_count": 36,
   "id": "3f30763d-b926-41c3-a379-032c4a2d3f9f",
   "metadata": {},
   "outputs": [
    {
     "data": {
      "text/plain": [
       "{'이름': '홍길동',\n",
       " '나이': 25,\n",
       " '성별': '남',\n",
       " '주소': '서울특별시 양천구 목동',\n",
       " '특기': ['농구', '도술'],\n",
       " '가족관계': {'#': 2, '아버지': '홍판서', '어머니': '춘섬'},\n",
       " '회사': '경기 수원시 팔달구 우만동'}"
      ]
     },
     "execution_count": 36,
     "metadata": {},
     "output_type": "execute_result"
    }
   ],
   "source": [
    "{\n",
    "    \"이름\": \"홍길동\",\n",
    "    \"나이\": 25,\n",
    "    \"성별\": \"남\",\n",
    "    \"주소\": \"서울특별시 양천구 목동\",\n",
    "    \"특기\": [\"농구\", \"도술\"],\n",
    "    \"가족관계\": {\"#\": 2, \"아버지\": \"홍판서\", \"어머니\": \"춘섬\"},\n",
    "    \"회사\": \"경기 수원시 팔달구 우만동\"\n",
    "}"
   ]
  },
  {
   "cell_type": "code",
   "execution_count": 40,
   "id": "63885600-06a7-47a4-87d9-f5eddfd4628b",
   "metadata": {},
   "outputs": [],
   "source": [
    "import json as js"
   ]
  },
  {
   "cell_type": "code",
   "execution_count": 41,
   "id": "64846672-5cff-4dde-9412-3c7498f55396",
   "metadata": {},
   "outputs": [],
   "source": [
    "j1 = {\"name\": \"문재형\", \"birth\": \"19900601\", \"age\": 34}"
   ]
  },
  {
   "cell_type": "code",
   "execution_count": 42,
   "id": "14d8395c-cb2c-411b-b228-0cd4030c7a8f",
   "metadata": {},
   "outputs": [
    {
     "data": {
      "text/plain": [
       "{'name': '문재형', 'birth': '19900601', 'age': 34}"
      ]
     },
     "execution_count": 42,
     "metadata": {},
     "output_type": "execute_result"
    }
   ],
   "source": [
    "j1"
   ]
  },
  {
   "cell_type": "code",
   "execution_count": 43,
   "id": "e08b3b85-7a15-4329-ba8e-e5177ef0f7c9",
   "metadata": {},
   "outputs": [
    {
     "data": {
      "text/plain": [
       "'{\"name\": \"\\\\ubb38\\\\uc7ac\\\\ud615\", \"birth\": \"19900601\", \"age\": 34}'"
      ]
     },
     "execution_count": 43,
     "metadata": {},
     "output_type": "execute_result"
    }
   ],
   "source": [
    "js.dumps(j1)"
   ]
  },
  {
   "cell_type": "code",
   "execution_count": 48,
   "id": "5c0e3dbb-12f0-42a4-a130-1dff586146a1",
   "metadata": {},
   "outputs": [
    {
     "name": "stdout",
     "output_type": "stream",
     "text": [
      "{\n",
      "  \"name\": \"\\ubb38\\uc7ac\\ud615\",\n",
      "  \"birth\": \"19900601\",\n",
      "  \"age\": 34\n",
      "}\n"
     ]
    }
   ],
   "source": [
    "print(json.dumps(j1, indent=2)) #세로로 문자열 정렬"
   ]
  },
  {
   "cell_type": "code",
   "execution_count": 51,
   "id": "5bf29b81-a4f3-4311-b5de-4f26900b1980",
   "metadata": {},
   "outputs": [
    {
     "data": {
      "text/plain": [
       "'[1, 2, 3]'"
      ]
     },
     "execution_count": 51,
     "metadata": {},
     "output_type": "execute_result"
    }
   ],
   "source": [
    "js.dumps([1,2,3]) #리스트 -> JSON"
   ]
  },
  {
   "cell_type": "code",
   "execution_count": 52,
   "id": "029389cc-9608-4d1b-808e-fb49ac462be8",
   "metadata": {},
   "outputs": [
    {
     "data": {
      "text/plain": [
       "'[4, 5, 6]'"
      ]
     },
     "execution_count": 52,
     "metadata": {},
     "output_type": "execute_result"
    }
   ],
   "source": [
    "js.dumps((4,5,6)) #튜플 -> JSON"
   ]
  },
  {
   "cell_type": "code",
   "execution_count": 53,
   "id": "c73c6e7c-a33c-445a-bc12-3a4566651cab",
   "metadata": {},
   "outputs": [],
   "source": [
    "j2 = {\"name\": \"문재형\", \"birth\": \"19900601\", \"age\": 30}"
   ]
  },
  {
   "cell_type": "code",
   "execution_count": 54,
   "id": "d93663ef-49f6-487f-8e42-83bcdb3bb3c3",
   "metadata": {},
   "outputs": [],
   "source": [
    "d1 = json.dumps(j2)"
   ]
  },
  {
   "cell_type": "code",
   "execution_count": 55,
   "id": "dd5690f8-48fc-4fa9-8a22-3f13e6f8f839",
   "metadata": {},
   "outputs": [
    {
     "data": {
      "text/plain": [
       "{'name': '문재형', 'birth': '19900601', 'age': 30}"
      ]
     },
     "execution_count": 55,
     "metadata": {},
     "output_type": "execute_result"
    }
   ],
   "source": [
    "json.loads(d1)"
   ]
  },
  {
   "cell_type": "code",
   "execution_count": 60,
   "id": "5fd3077c-7578-4dec-a2df-24400b8ca773",
   "metadata": {},
   "outputs": [
    {
     "ename": "UnicodeDecodeError",
     "evalue": "'cp949' codec can't decode byte 0xed in position 15: illegal multibyte sequence",
     "output_type": "error",
     "traceback": [
      "\u001b[1;31m---------------------------------------------------------------------------\u001b[0m",
      "\u001b[1;31mUnicodeDecodeError\u001b[0m                        Traceback (most recent call last)",
      "Cell \u001b[1;32mIn[60], line 2\u001b[0m\n\u001b[0;32m      1\u001b[0m \u001b[38;5;28;01mwith\u001b[39;00m \u001b[38;5;28mopen\u001b[39m(\u001b[38;5;124m'\u001b[39m\u001b[38;5;124mC:/Users/User/Documents/python_Programing/w13/myinfo.json\u001b[39m\u001b[38;5;124m'\u001b[39m) \u001b[38;5;28;01mas\u001b[39;00m f:\n\u001b[1;32m----> 2\u001b[0m     data \u001b[38;5;241m=\u001b[39m \u001b[43mjson\u001b[49m\u001b[38;5;241;43m.\u001b[39;49m\u001b[43mload\u001b[49m\u001b[43m(\u001b[49m\u001b[43mf\u001b[49m\u001b[43m)\u001b[49m\n",
      "File \u001b[1;32m~\\AppData\\Local\\Programs\\Python\\Python312\\Lib\\json\\__init__.py:293\u001b[0m, in \u001b[0;36mload\u001b[1;34m(fp, cls, object_hook, parse_float, parse_int, parse_constant, object_pairs_hook, **kw)\u001b[0m\n\u001b[0;32m    274\u001b[0m \u001b[38;5;28;01mdef\u001b[39;00m \u001b[38;5;21mload\u001b[39m(fp, \u001b[38;5;241m*\u001b[39m, \u001b[38;5;28mcls\u001b[39m\u001b[38;5;241m=\u001b[39m\u001b[38;5;28;01mNone\u001b[39;00m, object_hook\u001b[38;5;241m=\u001b[39m\u001b[38;5;28;01mNone\u001b[39;00m, parse_float\u001b[38;5;241m=\u001b[39m\u001b[38;5;28;01mNone\u001b[39;00m,\n\u001b[0;32m    275\u001b[0m         parse_int\u001b[38;5;241m=\u001b[39m\u001b[38;5;28;01mNone\u001b[39;00m, parse_constant\u001b[38;5;241m=\u001b[39m\u001b[38;5;28;01mNone\u001b[39;00m, object_pairs_hook\u001b[38;5;241m=\u001b[39m\u001b[38;5;28;01mNone\u001b[39;00m, \u001b[38;5;241m*\u001b[39m\u001b[38;5;241m*\u001b[39mkw):\n\u001b[0;32m    276\u001b[0m \u001b[38;5;250m    \u001b[39m\u001b[38;5;124;03m\"\"\"Deserialize ``fp`` (a ``.read()``-supporting file-like object containing\u001b[39;00m\n\u001b[0;32m    277\u001b[0m \u001b[38;5;124;03m    a JSON document) to a Python object.\u001b[39;00m\n\u001b[0;32m    278\u001b[0m \n\u001b[1;32m   (...)\u001b[0m\n\u001b[0;32m    291\u001b[0m \u001b[38;5;124;03m    kwarg; otherwise ``JSONDecoder`` is used.\u001b[39;00m\n\u001b[0;32m    292\u001b[0m \u001b[38;5;124;03m    \"\"\"\u001b[39;00m\n\u001b[1;32m--> 293\u001b[0m     \u001b[38;5;28;01mreturn\u001b[39;00m loads(\u001b[43mfp\u001b[49m\u001b[38;5;241;43m.\u001b[39;49m\u001b[43mread\u001b[49m\u001b[43m(\u001b[49m\u001b[43m)\u001b[49m,\n\u001b[0;32m    294\u001b[0m         \u001b[38;5;28mcls\u001b[39m\u001b[38;5;241m=\u001b[39m\u001b[38;5;28mcls\u001b[39m, object_hook\u001b[38;5;241m=\u001b[39mobject_hook,\n\u001b[0;32m    295\u001b[0m         parse_float\u001b[38;5;241m=\u001b[39mparse_float, parse_int\u001b[38;5;241m=\u001b[39mparse_int,\n\u001b[0;32m    296\u001b[0m         parse_constant\u001b[38;5;241m=\u001b[39mparse_constant, object_pairs_hook\u001b[38;5;241m=\u001b[39mobject_pairs_hook, \u001b[38;5;241m*\u001b[39m\u001b[38;5;241m*\u001b[39mkw)\n",
      "\u001b[1;31mUnicodeDecodeError\u001b[0m: 'cp949' codec can't decode byte 0xed in position 15: illegal multibyte sequence"
     ]
    }
   ],
   "source": [
    "with open('C:/Users/User/Documents/python_Programing/w13/myinfo.json') as f:\n",
    "    data = json.load(f)"
   ]
  },
  {
   "cell_type": "code",
   "execution_count": null,
   "id": "9f4da384-abb5-436a-9b49-ec8d44801458",
   "metadata": {},
   "outputs": [],
   "source": []
  },
  {
   "cell_type": "code",
   "execution_count": 64,
   "id": "481168f5-3077-493c-bbbe-9cc8e3af5f30",
   "metadata": {},
   "outputs": [],
   "source": [
    "#3. Web Scraping"
   ]
  },
  {
   "cell_type": "code",
   "execution_count": 67,
   "id": "a3ce580b-17e9-4c57-869c-1221e8abe12e",
   "metadata": {},
   "outputs": [
    {
     "name": "stdout",
     "output_type": "stream",
     "text": [
      "b'<html>\\n<head>\\n<title>A Useful Page</title>\\n</head>\\n<body>\\n<h1>An Interesting Title</h1>\\n<div>\\nLorem ipsum dolor sit amet, consectetur adipisicing elit, sed do eiusmod tempor incididunt ut labore et dolore magna aliqua. Ut enim ad minim veniam, quis nostrud exercitation ullamco laboris nisi ut aliquip ex ea commodo consequat. Duis aute irure dolor in reprehenderit in voluptate velit esse cillum dolore eu fugiat nulla pariatur. Excepteur sint occaecat cupidatat non proident, sunt in culpa qui officia deserunt mollit anim id est laborum.\\n</div>\\n</body>\\n</html>\\n'\n"
     ]
    }
   ],
   "source": [
    "from urllib.request import urlopen\n",
    "html = urlopen(\"http://pythonscraping.com/pages/page1.html\")\n",
    "\n",
    "print(html.read())"
   ]
  },
  {
   "cell_type": "code",
   "execution_count": 71,
   "id": "b51368e4-2e0d-4bf2-8704-0fdb031443ae",
   "metadata": {},
   "outputs": [
    {
     "name": "stdout",
     "output_type": "stream",
     "text": [
      "Requirement already satisfied: bs4 in c:\\users\\user\\appdata\\local\\programs\\python\\python312\\lib\\site-packages (0.0.1)\n",
      "Requirement already satisfied: beautifulsoup4 in c:\\users\\user\\appdata\\local\\programs\\python\\python312\\lib\\site-packages (from bs4) (4.12.2)\n",
      "Requirement already satisfied: soupsieve>1.2 in c:\\users\\user\\appdata\\local\\programs\\python\\python312\\lib\\site-packages (from beautifulsoup4->bs4) (2.5)\n"
     ]
    },
    {
     "name": "stderr",
     "output_type": "stream",
     "text": [
      "\n",
      "[notice] A new release of pip is available: 23.2.1 -> 23.3.1\n",
      "[notice] To update, run: python.exe -m pip install --upgrade pip\n"
     ]
    }
   ],
   "source": [
    "!pip install bs4"
   ]
  },
  {
   "cell_type": "code",
   "execution_count": null,
   "id": "c2cfdd31-f391-4aaa-a8b1-742485a3a32c",
   "metadata": {},
   "outputs": [],
   "source": []
  },
  {
   "cell_type": "code",
   "execution_count": 73,
   "id": "b3563425-f647-434a-b384-f4071f241b3f",
   "metadata": {},
   "outputs": [
    {
     "name": "stdout",
     "output_type": "stream",
     "text": [
      "<h1>An Interesting Title</h1>\n"
     ]
    }
   ],
   "source": [
    "from urllib.request import urlopen\n",
    "from bs4 import BeautifulSoup\n",
    "html = urlopen(\"http://pythonscraping.com/pages/page1.html\")\n",
    "bsObj = BeautifulSoup(html.read(),\"html.parser\")\n",
    "\n",
    "print(bsObj.h1)"
   ]
  },
  {
   "cell_type": "code",
   "execution_count": 74,
   "id": "13b55f90-51c6-4371-b0ef-976a029d502d",
   "metadata": {},
   "outputs": [
    {
     "name": "stdout",
     "output_type": "stream",
     "text": [
      "<html>\n",
      " <head>\n",
      "  <title>\n",
      "   A Useful Page\n",
      "  </title>\n",
      " </head>\n",
      " <body>\n",
      "  <h1>\n",
      "   An Interesting Title\n",
      "  </h1>\n",
      "  <div>\n",
      "   Lorem ipsum dolor sit amet, consectetur adipisicing elit, sed do eiusmod tempor incididunt ut labore et dolore magna aliqua. Ut enim ad minim veniam, quis nostrud exercitation ullamco laboris nisi ut aliquip ex ea commodo consequat. Duis aute irure dolor in reprehenderit in voluptate velit esse cillum dolore eu fugiat nulla pariatur. Excepteur sint occaecat cupidatat non proident, sunt in culpa qui officia deserunt mollit anim id est laborum.\n",
      "  </div>\n",
      " </body>\n",
      "</html>\n",
      "\n"
     ]
    }
   ],
   "source": [
    "print(bsObj.html.prettify())"
   ]
  },
  {
   "cell_type": "code",
   "execution_count": null,
   "id": "d8bb2dbe-b75c-4f9c-9b42-2ac5823d57a0",
   "metadata": {},
   "outputs": [],
   "source": []
  }
 ],
 "metadata": {
  "kernelspec": {
   "display_name": "Python 3 (ipykernel)",
   "language": "python",
   "name": "python3"
  },
  "language_info": {
   "codemirror_mode": {
    "name": "ipython",
    "version": 3
   },
   "file_extension": ".py",
   "mimetype": "text/x-python",
   "name": "python",
   "nbconvert_exporter": "python",
   "pygments_lexer": "ipython3",
   "version": "3.12.0"
  }
 },
 "nbformat": 4,
 "nbformat_minor": 5
}
