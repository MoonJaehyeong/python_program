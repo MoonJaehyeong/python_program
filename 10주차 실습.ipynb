{
 "cells": [
  {
   "cell_type": "code",
   "execution_count": 1,
   "id": "9eb341d5-4735-4f30-8cab-5424e3275585",
   "metadata": {},
   "outputs": [],
   "source": [
    "# 이름: 문재형\n",
    "# 학번: 2022177357"
   ]
  },
  {
   "cell_type": "code",
   "execution_count": null,
   "id": "51d62017-b1d6-4f88-8826-94ab81ddf250",
   "metadata": {},
   "outputs": [],
   "source": []
  },
  {
   "cell_type": "code",
   "execution_count": 31,
   "id": "f20c19fa-3410-472e-b04c-34faf391fc0e",
   "metadata": {},
   "outputs": [],
   "source": [
    "#실습1. Class (+함수)"
   ]
  },
  {
   "cell_type": "code",
   "execution_count": 18,
   "id": "b25518fe-f1a3-4c7f-8e56-d3d31c9e6685",
   "metadata": {},
   "outputs": [],
   "source": [
    "#더하기 계산기 만들기\n",
    "result = 0 \n",
    "def adder(num):\n",
    "    global result #global 전역변수: 함수 밖의 전역적인 변수\n",
    "    result += num #result = result + num와 같은 의미\n",
    "    return result"
   ]
  },
  {
   "cell_type": "code",
   "execution_count": 14,
   "id": "3491a50e-c77f-4c4b-9b6f-e96df45ec251",
   "metadata": {},
   "outputs": [
    {
     "name": "stdout",
     "output_type": "stream",
     "text": [
      "1\n"
     ]
    }
   ],
   "source": [
    "print(adder(1))"
   ]
  },
  {
   "cell_type": "code",
   "execution_count": 15,
   "id": "579a2216-4774-4a27-984b-09dc4dcc125a",
   "metadata": {},
   "outputs": [
    {
     "data": {
      "text/plain": [
       "16"
      ]
     },
     "execution_count": 15,
     "metadata": {},
     "output_type": "execute_result"
    }
   ],
   "source": [
    "adder(15)"
   ]
  },
  {
   "cell_type": "code",
   "execution_count": 20,
   "id": "49f35ac8-5e8b-4a56-a9e4-b3b4dd6bede6",
   "metadata": {},
   "outputs": [],
   "source": [
    "#두개의 계산기를 만들기 위한 클래스\n",
    "class Calculator:\n",
    "    def __init__(self):\n",
    "        self.result = 0 #이 계산기의 기본값은 \"0\"이다\n",
    "    def adder(self, num):\n",
    "        self.result += num\n",
    "        return self.result"
   ]
  },
  {
   "cell_type": "code",
   "execution_count": 29,
   "id": "ca636848-58d9-4e1b-81da-f6808d0d4961",
   "metadata": {},
   "outputs": [],
   "source": [
    "cal1 = Calculator() #Calculator라는 클래스로 만든 객체 cal1 혹은 Calculator의 인스턴스"
   ]
  },
  {
   "cell_type": "code",
   "execution_count": 30,
   "id": "f3c50ca2-a15d-4d09-b1cf-2a4efb34cdde",
   "metadata": {},
   "outputs": [],
   "source": [
    "cal2 = Calculator() #Calculator라는 클래스로 만든 객체 cal2 혹은 Calculator의 인스턴스"
   ]
  },
  {
   "cell_type": "code",
   "execution_count": 23,
   "id": "448e14da-cb4d-49e6-b699-41870b2c9218",
   "metadata": {},
   "outputs": [
    {
     "data": {
      "text/plain": [
       "3"
      ]
     },
     "execution_count": 23,
     "metadata": {},
     "output_type": "execute_result"
    }
   ],
   "source": [
    "cal1.adder(3)"
   ]
  },
  {
   "cell_type": "code",
   "execution_count": 25,
   "id": "955e3c0c-f8b0-4b6e-9e6e-b2db9979d5b6",
   "metadata": {},
   "outputs": [
    {
     "data": {
      "text/plain": [
       "33"
      ]
     },
     "execution_count": 25,
     "metadata": {},
     "output_type": "execute_result"
    }
   ],
   "source": [
    "cal1.adder(30)"
   ]
  },
  {
   "cell_type": "code",
   "execution_count": 24,
   "id": "5f78e9eb-eba2-47f1-be1f-3274cf5f93a5",
   "metadata": {},
   "outputs": [
    {
     "data": {
      "text/plain": [
       "5"
      ]
     },
     "execution_count": 24,
     "metadata": {},
     "output_type": "execute_result"
    }
   ],
   "source": [
    "cal2.adder(5)"
   ]
  },
  {
   "cell_type": "code",
   "execution_count": 26,
   "id": "bf3e948f-2c2b-4d08-8ccf-8046aaa4c989",
   "metadata": {},
   "outputs": [
    {
     "data": {
      "text/plain": [
       "60"
      ]
     },
     "execution_count": 26,
     "metadata": {},
     "output_type": "execute_result"
    }
   ],
   "source": [
    "cal2.adder(55)"
   ]
  },
  {
   "cell_type": "code",
   "execution_count": null,
   "id": "ec5f737d-fcc6-408a-8747-edb39f89f9a2",
   "metadata": {},
   "outputs": [],
   "source": []
  },
  {
   "cell_type": "code",
   "execution_count": 32,
   "id": "96d89ee8-873e-4ad7-95ea-c30af9a6fd8f",
   "metadata": {},
   "outputs": [],
   "source": [
    "#실습2. Class (+변수)"
   ]
  },
  {
   "cell_type": "code",
   "execution_count": 33,
   "id": "33909d26-74b1-40ec-b7e5-e8e58f3fcca6",
   "metadata": {},
   "outputs": [],
   "source": [
    "class Service:\n",
    "    secret = \"지구는 4006년에 멸망한다.\""
   ]
  },
  {
   "cell_type": "code",
   "execution_count": 37,
   "id": "e3456881-5c23-464e-9f8d-9ae197a74d45",
   "metadata": {},
   "outputs": [],
   "source": [
    "AN = Service() #AN은 객체, Service라는 클래스의 인스턴스"
   ]
  },
  {
   "cell_type": "code",
   "execution_count": 43,
   "id": "0d455dd9-1d8b-4063-b2ee-46df3c1f67f2",
   "metadata": {},
   "outputs": [
    {
     "data": {
      "text/plain": [
       "'지구는 4006년에 멸망한다.'"
      ]
     },
     "execution_count": 43,
     "metadata": {},
     "output_type": "execute_result"
    }
   ],
   "source": [
    "AN.secret #AN의 클래스 Service의 변수 secret은?"
   ]
  },
  {
   "cell_type": "code",
   "execution_count": 45,
   "id": "1afe933d-e5bf-4d75-b331-b14ef8f130d7",
   "metadata": {},
   "outputs": [
    {
     "data": {
      "text/plain": [
       "'지구는 4006년에 멸망한다.'"
      ]
     },
     "execution_count": 45,
     "metadata": {},
     "output_type": "execute_result"
    }
   ],
   "source": [
    "Service.secret #클랙스 Service의 변수 secret은?"
   ]
  },
  {
   "cell_type": "code",
   "execution_count": null,
   "id": "684fae7c-9937-4fe3-95de-5575d2c0b7f1",
   "metadata": {},
   "outputs": [],
   "source": []
  },
  {
   "cell_type": "code",
   "execution_count": 49,
   "id": "727b5015-f875-4755-ade6-26e3e9a12ed5",
   "metadata": {},
   "outputs": [],
   "source": [
    "#실습3. Class (+메소드, method)"
   ]
  },
  {
   "cell_type": "code",
   "execution_count": 53,
   "id": "d4797c9f-2e24-4447-9737-9e12a5643b6e",
   "metadata": {},
   "outputs": [],
   "source": [
    "class Service1:\n",
    "    secret = \"지구는 4006년에 멸망하지 않는다.\"\n",
    "    def sum(self, a, b):\n",
    "        result = a + b\n",
    "        print(\"%s + %s = %s이다.\" % (a, b, result))"
   ]
  },
  {
   "cell_type": "code",
   "execution_count": 54,
   "id": "99875f0d-fa67-4c94-a1dc-a0681b162e1e",
   "metadata": {},
   "outputs": [],
   "source": [
    "AN1 = Service1() #AN1은 Service1의 인스턴스"
   ]
  },
  {
   "cell_type": "code",
   "execution_count": 55,
   "id": "eead13b7-b3c8-4778-a0d9-947cdc29157d",
   "metadata": {},
   "outputs": [
    {
     "data": {
      "text/plain": [
       "'지구는 4006년에 멸망하지 않는다.'"
      ]
     },
     "execution_count": 55,
     "metadata": {},
     "output_type": "execute_result"
    }
   ],
   "source": [
    "AN1.secret"
   ]
  },
  {
   "cell_type": "code",
   "execution_count": 56,
   "id": "ff04a0a7-f992-4979-9c53-ef0fb431534b",
   "metadata": {},
   "outputs": [
    {
     "name": "stdout",
     "output_type": "stream",
     "text": [
      "1 + 1 = 2이다.\n"
     ]
    }
   ],
   "source": [
    "AN1.sum(1,1)"
   ]
  },
  {
   "cell_type": "code",
   "execution_count": null,
   "id": "5593aa74-81ab-418e-805f-c3a31ccd542c",
   "metadata": {},
   "outputs": [],
   "source": []
  },
  {
   "cell_type": "code",
   "execution_count": 57,
   "id": "85400cf2-2f54-4d10-b6e3-cf578291fc8e",
   "metadata": {},
   "outputs": [],
   "source": [
    "#실습4. Class (+객체변수)"
   ]
  },
  {
   "cell_type": "code",
   "execution_count": 75,
   "id": "805bfb08-dfb0-4e1e-818e-5ab2bea346b3",
   "metadata": {},
   "outputs": [],
   "source": [
    "class Service2:\n",
    "    secret = \"지구는 4006년에 멸망할 까?\"\n",
    "    def setname(self, name):\n",
    "        self.name = name\n",
    "    def sum(self, a, b):\n",
    "        result = a + b\n",
    "        print(\"%s 님, %s + %s = %s입니다.\" % (self.name, a, b, result))"
   ]
  },
  {
   "cell_type": "code",
   "execution_count": 76,
   "id": "fe8ce489-22d5-42b2-bd3e-b78d64942c82",
   "metadata": {},
   "outputs": [],
   "source": [
    "AN2 = Service2() #AN2은 Service2의 인스턴스"
   ]
  },
  {
   "cell_type": "code",
   "execution_count": 79,
   "id": "aaf94f0f-d205-4342-967a-484b6259290d",
   "metadata": {},
   "outputs": [],
   "source": [
    "AN2.setname(\"문재형\") #AN2의 객체변수를 \"문재형\"으로 정의"
   ]
  },
  {
   "cell_type": "code",
   "execution_count": 78,
   "id": "2fe4591f-ef38-4060-9c5c-86fb2e5d9be1",
   "metadata": {},
   "outputs": [
    {
     "name": "stdout",
     "output_type": "stream",
     "text": [
      "문재형 님, 1 + 1 = 2입니다.\n"
     ]
    }
   ],
   "source": [
    "AN2.sum(1,1)"
   ]
  },
  {
   "cell_type": "code",
   "execution_count": 85,
   "id": "0500a0e3-11b1-42d5-8261-c24f00f63b1c",
   "metadata": {},
   "outputs": [],
   "source": [
    "class Service3:\n",
    "    secret = \"지구는 4006년에 멸망할 까?\"\n",
    "    def setname(self, name):\n",
    "        self.name = name\n",
    "    def sum(self, a, b):\n",
    "        result = a + b\n",
    "        print(\"%s 님, %s + %s = %s입니다.\" % (self.name, a, b, result))"
   ]
  },
  {
   "cell_type": "code",
   "execution_count": 86,
   "id": "f31eed31-a10a-4db3-b679-c004ee9dfe0a",
   "metadata": {},
   "outputs": [],
   "source": [
    "HONG = Service3()"
   ]
  },
  {
   "cell_type": "code",
   "execution_count": 87,
   "id": "63d2e121-211e-4af6-88a2-9dd75cc31330",
   "metadata": {},
   "outputs": [],
   "source": [
    "LEE = Service3()"
   ]
  },
  {
   "cell_type": "code",
   "execution_count": 91,
   "id": "f7dd4447-20e0-4159-a0ea-3d8ec8576bce",
   "metadata": {},
   "outputs": [],
   "source": [
    "HONG.setname = \"홍길동\""
   ]
  },
  {
   "cell_type": "code",
   "execution_count": 100,
   "id": "007ea779-5729-47d4-8fa5-b5b5c15ee61b",
   "metadata": {},
   "outputs": [],
   "source": [
    "LEE.setname = \"이기자\""
   ]
  },
  {
   "cell_type": "code",
   "execution_count": 99,
   "id": "9dfdd293-096e-4155-8015-2350110f2d9f",
   "metadata": {},
   "outputs": [
    {
     "name": "stdout",
     "output_type": "stream",
     "text": [
      "홍길동\n"
     ]
    }
   ],
   "source": [
    "print(HONG.setname)"
   ]
  },
  {
   "cell_type": "code",
   "execution_count": 98,
   "id": "afb1d0f4-9829-4acc-9531-5b1b335ed2bd",
   "metadata": {},
   "outputs": [
    {
     "name": "stdout",
     "output_type": "stream",
     "text": [
      "이기자\n"
     ]
    }
   ],
   "source": [
    "print(LEE.setname)"
   ]
  },
  {
   "cell_type": "code",
   "execution_count": 95,
   "id": "a28adeaa-4974-4ace-9996-512ec913569e",
   "metadata": {},
   "outputs": [],
   "source": [
    "HONG.secret = \"비밀은 없다.\" #HONG객체의 고유 객체변수를 정의함"
   ]
  },
  {
   "cell_type": "code",
   "execution_count": 96,
   "id": "22349ce7-fa97-4ab6-a4a6-48c3d29fd3f6",
   "metadata": {},
   "outputs": [
    {
     "name": "stdout",
     "output_type": "stream",
     "text": [
      "지구는 4006년에 멸망할 까?\n"
     ]
    }
   ],
   "source": [
    "print(LEE.secret) #--> LEE는 LEE 객체의 고유 객체변수를 정의하지 않았기 떄문에, Service3의 객체변수를 호출"
   ]
  },
  {
   "cell_type": "code",
   "execution_count": 97,
   "id": "54093be9-3627-4031-95b8-4fd14b55e6e6",
   "metadata": {},
   "outputs": [
    {
     "name": "stdout",
     "output_type": "stream",
     "text": [
      "비밀은 없다.\n"
     ]
    }
   ],
   "source": [
    "print(HONG.secret) #--> HONG은 HONG의 고유 객체변수를 정의했기 때문에, Service3의 객체변수를 호출하지 않음"
   ]
  },
  {
   "cell_type": "code",
   "execution_count": 103,
   "id": "22478fcd-c870-4784-9fa3-2973ae51cd42",
   "metadata": {},
   "outputs": [
    {
     "data": {
      "text/plain": [
       "'지구는 4006년에 멸망할 까?'"
      ]
     },
     "execution_count": 103,
     "metadata": {},
     "output_type": "execute_result"
    }
   ],
   "source": [
    "Service3.secret #--> Service3의 객체변수를 호출함"
   ]
  },
  {
   "cell_type": "code",
   "execution_count": null,
   "id": "847a001f-d55c-4e0c-b8b8-4b0874bfcf0f",
   "metadata": {},
   "outputs": [],
   "source": []
  },
  {
   "cell_type": "code",
   "execution_count": null,
   "id": "2dc0c9fd-192d-4c80-9b68-550a56c35238",
   "metadata": {},
   "outputs": [],
   "source": [
    "#실습5. Class (__init__)"
   ]
  },
  {
   "cell_type": "code",
   "execution_count": 119,
   "id": "48a0eaab-5aa8-46b4-ad4e-f1ca2b054a1b",
   "metadata": {},
   "outputs": [],
   "source": [
    "class Service4:\n",
    "    secret = \"지구는 4006년에 멸망하면 안됑\"\n",
    "    def __init__(self, name):\n",
    "        self.name = name\n",
    "    def sum(self, a, b):\n",
    "        result = a + b\n",
    "        print(\"%s 님, %s + %s = %s입니다.\" % (self.name, a, b, result))"
   ]
  },
  {
   "cell_type": "code",
   "execution_count": 121,
   "id": "b86d3631-25dc-4e2e-a2b3-60008f6f0a37",
   "metadata": {},
   "outputs": [],
   "source": [
    "MOON = Service4(\"문석사\") #객체를 정의할 떄부터, self값을 입력함"
   ]
  },
  {
   "cell_type": "code",
   "execution_count": 122,
   "id": "9d74847a-a43b-4272-89ea-ac28e294fe5e",
   "metadata": {},
   "outputs": [
    {
     "name": "stdout",
     "output_type": "stream",
     "text": [
      "문석사 님, 100 + 1 = 101입니다.\n"
     ]
    }
   ],
   "source": [
    "MOON.sum(100,1)"
   ]
  },
  {
   "cell_type": "code",
   "execution_count": null,
   "id": "de7bb8c3-db0a-42e1-8255-5b90ca65c886",
   "metadata": {},
   "outputs": [],
   "source": []
  },
  {
   "cell_type": "code",
   "execution_count": 123,
   "id": "5d08fa6f-6359-4cf6-a38a-6906759ddd62",
   "metadata": {},
   "outputs": [],
   "source": [
    "#실습6. 사칙연산 클랙스"
   ]
  },
  {
   "cell_type": "code",
   "execution_count": 140,
   "id": "6cfa2b23-a68c-4a31-a055-8f13213af14a",
   "metadata": {},
   "outputs": [],
   "source": [
    "class FourCal:\n",
    "    def setdata(self, a, b):\n",
    "        self.a = a\n",
    "        self.b = b\n",
    "    def sum(self):\n",
    "        result = self.a + self.b\n",
    "        return result\n",
    "    def sub(self):\n",
    "        result = self.a - self.b\n",
    "        return result\n",
    "    def mul(self):\n",
    "        result = self.a * self.b\n",
    "        return result\n",
    "    def div(self):\n",
    "        result = self.a / self.b\n",
    "        return result"
   ]
  },
  {
   "cell_type": "code",
   "execution_count": 141,
   "id": "b623ee79-a500-4ef6-b30d-44f2fd6408fc",
   "metadata": {},
   "outputs": [],
   "source": [
    "PH1 = FourCal()"
   ]
  },
  {
   "cell_type": "code",
   "execution_count": 145,
   "id": "5f8a3a76-19f2-426f-82fb-aebdb0cec2be",
   "metadata": {},
   "outputs": [],
   "source": [
    "PH1.setdata(8,2)"
   ]
  },
  {
   "cell_type": "code",
   "execution_count": 146,
   "id": "39d95cd7-0c72-4e62-8abf-a0a92b6c3c74",
   "metadata": {},
   "outputs": [
    {
     "name": "stdout",
     "output_type": "stream",
     "text": [
      "8\n"
     ]
    }
   ],
   "source": [
    "print(PH1.a)"
   ]
  },
  {
   "cell_type": "code",
   "execution_count": 147,
   "id": "4681a781-19b0-45bd-9991-b2ef997a59c9",
   "metadata": {},
   "outputs": [
    {
     "name": "stdout",
     "output_type": "stream",
     "text": [
      "2\n"
     ]
    }
   ],
   "source": [
    "print(PH1.b)"
   ]
  },
  {
   "cell_type": "code",
   "execution_count": 149,
   "id": "7d0cf1a7-4d53-4012-90c0-c02fcf7ef93b",
   "metadata": {},
   "outputs": [
    {
     "data": {
      "text/plain": [
       "10"
      ]
     },
     "execution_count": 149,
     "metadata": {},
     "output_type": "execute_result"
    }
   ],
   "source": [
    "PH1.sum()"
   ]
  },
  {
   "cell_type": "code",
   "execution_count": 150,
   "id": "a208c9a4-b40a-453e-8e36-8139717caebf",
   "metadata": {},
   "outputs": [
    {
     "data": {
      "text/plain": [
       "6"
      ]
     },
     "execution_count": 150,
     "metadata": {},
     "output_type": "execute_result"
    }
   ],
   "source": [
    "PH1.sub()"
   ]
  },
  {
   "cell_type": "code",
   "execution_count": 151,
   "id": "52c70697-80cc-442c-a518-eeea5e9f022f",
   "metadata": {},
   "outputs": [
    {
     "data": {
      "text/plain": [
       "16"
      ]
     },
     "execution_count": 151,
     "metadata": {},
     "output_type": "execute_result"
    }
   ],
   "source": [
    "PH1.mul()"
   ]
  },
  {
   "cell_type": "code",
   "execution_count": 153,
   "id": "e71b043a-b7d2-42c6-82a0-8bbbdd845d8d",
   "metadata": {},
   "outputs": [
    {
     "data": {
      "text/plain": [
       "4.0"
      ]
     },
     "execution_count": 153,
     "metadata": {},
     "output_type": "execute_result"
    }
   ],
   "source": [
    "PH1.div()"
   ]
  },
  {
   "cell_type": "code",
   "execution_count": null,
   "id": "1f5ffe2a-d33e-4f1a-b267-7e6ec092150a",
   "metadata": {},
   "outputs": [],
   "source": []
  },
  {
   "cell_type": "code",
   "execution_count": 154,
   "id": "a460db6d-e736-498a-8c08-36e9864d4d8e",
   "metadata": {},
   "outputs": [],
   "source": [
    "#실습7. 주사위 게임"
   ]
  },
  {
   "cell_type": "code",
   "execution_count": 176,
   "id": "344a1ccc-418a-4ca1-913f-ef4b8f229636",
   "metadata": {},
   "outputs": [],
   "source": [
    "#순차적 코딩1\n",
    "import random\n",
    "player1_dice = []\n",
    "player2_dice = []"
   ]
  },
  {
   "cell_type": "code",
   "execution_count": 159,
   "id": "eeb930ef-f852-462a-b9bc-247928e5164f",
   "metadata": {},
   "outputs": [],
   "source": [
    "#순차적 코딩2\n",
    "for i in range(3):\n",
    "    player1_dice.append(random.randint(1,6))\n",
    "    player2_dice.append(random.randint(1,6))"
   ]
  },
  {
   "cell_type": "raw",
   "id": "8ae5ed08-397f-4435-b2b5-997d608f7d20",
   "metadata": {},
   "source": [
    "#순차적 코딩3\n",
    "print(\"print 1 rolled\" + str(player1_dice))\n",
    "print(\"print 2 rolled\" + str(player2_dice))"
   ]
  },
  {
   "cell_type": "code",
   "execution_count": 163,
   "id": "18219393-53d2-4433-bd15-fed37e96e9c6",
   "metadata": {},
   "outputs": [
    {
     "name": "stdout",
     "output_type": "stream",
     "text": [
      "Player 2 wins\n"
     ]
    }
   ],
   "source": [
    "순차적 코딩4\n",
    "if sum(player1_dice) == sum(player2_dice):\n",
    "    print(\"Draw\")\n",
    "elif sum(player1_dice) > sum(player2_dice):\n",
    "     print(\"Player 1 wins\")\n",
    "else:\n",
    "     print(\"Player 2 wins\")"
   ]
  },
  {
   "cell_type": "code",
   "execution_count": 178,
   "id": "3f4dfc8d-2d92-43d8-a235-e6ab39c298ce",
   "metadata": {},
   "outputs": [],
   "source": [
    "#객체지향적 코딩\n",
    "from random import randint"
   ]
  },
  {
   "cell_type": "code",
   "execution_count": 167,
   "id": "33283d65-eec9-4500-bede-92af92af646a",
   "metadata": {},
   "outputs": [],
   "source": [
    "class Player:\n",
    "    def __init__(self):\n",
    "        self.dice = [1]\n",
    "    def roll(self):\n",
    "        self.dice =[]\n",
    "        for i  in range(3):\n",
    "            self.dice.append(randint(1,6))\n",
    "    def get_dice(self):\n",
    "        return self.dice"
   ]
  },
  {
   "cell_type": "code",
   "execution_count": 172,
   "id": "52a8ff31-da9f-4cb2-a0c6-21d6c4e5ba2a",
   "metadata": {},
   "outputs": [],
   "source": [
    "P1 = Player() #P1은 객체, Player의 인스턴스"
   ]
  },
  {
   "cell_type": "code",
   "execution_count": 173,
   "id": "05565384-d018-4549-a4ac-878eb477b99e",
   "metadata": {},
   "outputs": [],
   "source": [
    "P2 = Player() #P2은 객체, Player의 인스턴스"
   ]
  },
  {
   "cell_type": "code",
   "execution_count": 174,
   "id": "ff0ccfc4-4360-4ea1-952e-34811f17c6fb",
   "metadata": {},
   "outputs": [],
   "source": [
    "P1.roll() #P1에 roll함수를 호출"
   ]
  },
  {
   "cell_type": "code",
   "execution_count": 175,
   "id": "80e2e5df-7773-4f25-b39b-005af61e7359",
   "metadata": {},
   "outputs": [],
   "source": [
    "P2.roll() #P2에 roll함수를 호출"
   ]
  },
  {
   "cell_type": "code",
   "execution_count": null,
   "id": "35cadc9f-b0a1-4d99-9950-9d2a2e7cae6c",
   "metadata": {},
   "outputs": [],
   "source": []
  }
 ],
 "metadata": {
  "kernelspec": {
   "display_name": "Python 3 (ipykernel)",
   "language": "python",
   "name": "python3"
  },
  "language_info": {
   "codemirror_mode": {
    "name": "ipython",
    "version": 3
   },
   "file_extension": ".py",
   "mimetype": "text/x-python",
   "name": "python",
   "nbconvert_exporter": "python",
   "pygments_lexer": "ipython3",
   "version": "3.11.5"
  }
 },
 "nbformat": 4,
 "nbformat_minor": 5
}
