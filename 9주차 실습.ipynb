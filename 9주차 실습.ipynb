{
 "cells": [
  {
   "cell_type": "code",
   "execution_count": 1,
   "id": "416238e4-7b6d-479f-8feb-94c00c5df673",
   "metadata": {},
   "outputs": [],
   "source": [
    "# 이름: 문재형\n",
    "# 학번: 2022177357"
   ]
  },
  {
   "cell_type": "code",
   "execution_count": null,
   "id": "881d9a48-e17f-4cdd-9132-bc86bdd4ff1c",
   "metadata": {},
   "outputs": [],
   "source": []
  },
  {
   "cell_type": "code",
   "execution_count": 82,
   "id": "8f0ae6db-9809-44fe-ba06-62abe42ca4b8",
   "metadata": {},
   "outputs": [],
   "source": [
    "# 1-1.(List)Comprehension 실습(1) - 정수 리스트"
   ]
  },
  {
   "cell_type": "code",
   "execution_count": null,
   "id": "6a1f53b0-8b42-447c-9d10-350f359ca843",
   "metadata": {},
   "outputs": [],
   "source": [
    "# for문을 이용한 1~5 정수 리스트 만들기"
   ]
  },
  {
   "cell_type": "code",
   "execution_count": 5,
   "id": "19536c43-c1e8-4b9a-baf9-89a7f6febc8c",
   "metadata": {},
   "outputs": [],
   "source": [
    "number_list = [] #'number_list'라는 빈 리스트 만들기\n",
    "for number in range(1,6): #1~5라는 범위 안의 숫자를 반복해줘\n",
    "    number_list.append(number) #반복된 숫자를 리스트에 넣어줘(append라는 함수를 이용해서)"
   ]
  },
  {
   "cell_type": "code",
   "execution_count": 6,
   "id": "e2867254-98de-4922-8a20-50b2f7f5d504",
   "metadata": {},
   "outputs": [
    {
     "data": {
      "text/plain": [
       "[1, 2, 3, 4, 5]"
      ]
     },
     "execution_count": 6,
     "metadata": {},
     "output_type": "execute_result"
    }
   ],
   "source": [
    "number_list"
   ]
  },
  {
   "cell_type": "code",
   "execution_count": 83,
   "id": "4dae9f1e-a784-4f61-8674-e71cb40a2a75",
   "metadata": {},
   "outputs": [
    {
     "ename": "NameError",
     "evalue": "name 'Print' is not defined",
     "output_type": "error",
     "traceback": [
      "\u001b[1;31m---------------------------------------------------------------------------\u001b[0m",
      "\u001b[1;31mNameError\u001b[0m                                 Traceback (most recent call last)",
      "Cell \u001b[1;32mIn[83], line 1\u001b[0m\n\u001b[1;32m----> 1\u001b[0m \u001b[43mPrint\u001b[49m(number_list) \u001b[38;5;66;03m#리스트는 프린트가 안되는 구나...\u001b[39;00m\n",
      "\u001b[1;31mNameError\u001b[0m: name 'Print' is not defined"
     ]
    }
   ],
   "source": [
    "Print(number_list) #리스트는 프린트가 안되는 구나..."
   ]
  },
  {
   "cell_type": "code",
   "execution_count": 8,
   "id": "2cc5c90f-2cc9-4500-8530-34c431fc0b06",
   "metadata": {},
   "outputs": [],
   "source": [
    "number_list = list(range(1,6))"
   ]
  },
  {
   "cell_type": "code",
   "execution_count": 9,
   "id": "bec23f48-856a-40bc-a8d5-d0222f88677a",
   "metadata": {},
   "outputs": [
    {
     "data": {
      "text/plain": [
       "[1, 2, 3, 4, 5]"
      ]
     },
     "execution_count": 9,
     "metadata": {},
     "output_type": "execute_result"
    }
   ],
   "source": [
    "number_list"
   ]
  },
  {
   "cell_type": "code",
   "execution_count": 20,
   "id": "d925b028-8ee3-4ded-abe6-87159d5cf201",
   "metadata": {},
   "outputs": [],
   "source": [
    "#List Comprehension(LC)을 통한 정수 리스트 만들기"
   ]
  },
  {
   "cell_type": "code",
   "execution_count": 19,
   "id": "24305762-222c-4478-bb6e-25c6576678db",
   "metadata": {},
   "outputs": [],
   "source": [
    "number_list = [number for number in range(1,6)] #1~5라는 범위 안의 숫자를 반복해서 리스트(number_list)에 넣어줘"
   ]
  },
  {
   "cell_type": "code",
   "execution_count": 13,
   "id": "2fb35050-ae38-4e40-8067-bd955e9ee83e",
   "metadata": {},
   "outputs": [
    {
     "data": {
      "text/plain": [
       "[1, 2, 3, 4, 5]"
      ]
     },
     "execution_count": 13,
     "metadata": {},
     "output_type": "execute_result"
    }
   ],
   "source": [
    "number_list"
   ]
  },
  {
   "cell_type": "code",
   "execution_count": 14,
   "id": "b937ce64-5404-4401-a7a0-9264d4666d9d",
   "metadata": {},
   "outputs": [],
   "source": [
    "#LC+함수 적용"
   ]
  },
  {
   "cell_type": "code",
   "execution_count": 21,
   "id": "88b88ca3-be03-4ea3-b248-8d8519d1eb7b",
   "metadata": {},
   "outputs": [],
   "source": [
    "number_list1 = [number-1 for number in range(1,6)] # 1~5라는 범위 안의 숫자를 반복하되, 각각 -1을 한 값을 리스트(number_list1)에 넣어줘"
   ]
  },
  {
   "cell_type": "code",
   "execution_count": 17,
   "id": "a7bd9547-4b89-479a-9d11-b5c4995d9391",
   "metadata": {},
   "outputs": [
    {
     "data": {
      "text/plain": [
       "[0, 1, 2, 3, 4]"
      ]
     },
     "execution_count": 17,
     "metadata": {},
     "output_type": "execute_result"
    }
   ],
   "source": [
    "number_list1"
   ]
  },
  {
   "cell_type": "code",
   "execution_count": 18,
   "id": "fabf450a-f9ee-4726-9e98-6d05df1a39de",
   "metadata": {},
   "outputs": [],
   "source": [
    "#LC+조건 적용"
   ]
  },
  {
   "cell_type": "code",
   "execution_count": 23,
   "id": "cd26eab5-1b4c-459d-921e-a1641f203443",
   "metadata": {},
   "outputs": [],
   "source": [
    "number_list2 = [number for number in range(1,6) if number % 2 == 1] # 1~5라는 범위 안의 숫자에서 2로 나눈 값이 1인 숫자를 반복해서 리스트(number_list2)에 넣어줘"
   ]
  },
  {
   "cell_type": "code",
   "execution_count": 24,
   "id": "a2d906d4-17bf-405a-b18d-3d9e1d58804c",
   "metadata": {},
   "outputs": [
    {
     "data": {
      "text/plain": [
       "[1, 3, 5]"
      ]
     },
     "execution_count": 24,
     "metadata": {},
     "output_type": "execute_result"
    }
   ],
   "source": [
    "number_list2"
   ]
  },
  {
   "cell_type": "code",
   "execution_count": null,
   "id": "2caada28-3d80-4a53-9b40-93585bc70051",
   "metadata": {},
   "outputs": [],
   "source": []
  },
  {
   "cell_type": "code",
   "execution_count": 84,
   "id": "258e877e-bfe0-4a74-868d-620df6edbb4d",
   "metadata": {},
   "outputs": [],
   "source": [
    "#1-2.(List)Comprehension 실습(2) - string 리스트"
   ]
  },
  {
   "cell_type": "code",
   "execution_count": 29,
   "id": "74494caa-8376-48cb-a500-94a398b86a39",
   "metadata": {},
   "outputs": [],
   "source": [
    "sentence = ['I', 'Love', 'Python', 'Soooo', 'Much'] #sentence라는 리스트에 string 값들을 부여함"
   ]
  },
  {
   "cell_type": "code",
   "execution_count": 85,
   "id": "c4407e21-93cb-4985-b48c-4c336dcdfa04",
   "metadata": {},
   "outputs": [],
   "source": [
    "a_list1 = [word.lower() for word in sentence] #sentence의 string값들을 소문자로 바꾼 후 리스트(a_list1)에 넣어줘"
   ]
  },
  {
   "cell_type": "code",
   "execution_count": 34,
   "id": "ba7d5c8e-4f7d-4d57-86fe-f706ca103a4d",
   "metadata": {},
   "outputs": [
    {
     "data": {
      "text/plain": [
       "['i', 'love', 'python', 'soooo', 'much']"
      ]
     },
     "execution_count": 34,
     "metadata": {},
     "output_type": "execute_result"
    }
   ],
   "source": [
    "a_list1"
   ]
  },
  {
   "cell_type": "code",
   "execution_count": 39,
   "id": "9509d7c8-a606-49c3-ae24-00542ebd8cdd",
   "metadata": {},
   "outputs": [],
   "source": [
    "a_list2 = [word for word in sentence if len(word) > 3] #sentence의 string값 중 글자수가 3보다 큰 값을 리스트(a_list2)에 넣어줘"
   ]
  },
  {
   "cell_type": "code",
   "execution_count": 40,
   "id": "e9b8498b-b547-4d09-a792-68cf6f8c6ca9",
   "metadata": {},
   "outputs": [
    {
     "data": {
      "text/plain": [
       "['Love', 'Python', 'Soooo', 'Much']"
      ]
     },
     "execution_count": 40,
     "metadata": {},
     "output_type": "execute_result"
    }
   ],
   "source": [
    "a_list2"
   ]
  },
  {
   "cell_type": "code",
   "execution_count": 43,
   "id": "7ff32507-64da-4114-9c10-818f61373216",
   "metadata": {},
   "outputs": [],
   "source": [
    "a_tuple = [(word.lower(), word.upper()) for word in sentence if len(word) > 3] #sentence의 string값들을 각각 (소/대문자)로 바꾼 후, 글자수가 3보다 큰 값을 튜플(a_tuple)에 넣어줘"
   ]
  },
  {
   "cell_type": "code",
   "execution_count": 44,
   "id": "7ae161a9-9d65-47c2-a0ac-750170329b34",
   "metadata": {},
   "outputs": [
    {
     "data": {
      "text/plain": [
       "[('love', 'LOVE'), ('python', 'PYTHON'), ('soooo', 'SOOOO'), ('much', 'MUCH')]"
      ]
     },
     "execution_count": 44,
     "metadata": {},
     "output_type": "execute_result"
    }
   ],
   "source": [
    "a_tuple"
   ]
  },
  {
   "cell_type": "code",
   "execution_count": 86,
   "id": "af8f1421-fc9a-4603-bdf4-3dfcfec68f30",
   "metadata": {},
   "outputs": [],
   "source": [
    "#1-3.(List)Comprehension 실습(3) - 두개의 for문"
   ]
  },
  {
   "cell_type": "code",
   "execution_count": 52,
   "id": "ae53bf80-4af6-4920-8d6a-20705341b640",
   "metadata": {},
   "outputs": [
    {
     "name": "stdout",
     "output_type": "stream",
     "text": [
      "1 1\n",
      "1 2\n",
      "2 1\n",
      "2 2\n",
      "3 1\n",
      "3 2\n"
     ]
    }
   ],
   "source": [
    "rows = range(1,4)\n",
    "cols = range(1,3)\n",
    "for row in rows:\n",
    "    for col in cols:\n",
    "        print(row,col) #일반적인 for문을 이용함 "
   ]
  },
  {
   "cell_type": "code",
   "execution_count": 54,
   "id": "a5c0ac2e-d6b8-4f85-88ab-cc6da2f92a38",
   "metadata": {},
   "outputs": [
    {
     "name": "stdout",
     "output_type": "stream",
     "text": [
      "(1, 1)\n",
      "(1, 2)\n",
      "(2, 1)\n",
      "(2, 2)\n",
      "(3, 1)\n",
      "(3, 2)\n"
     ]
    }
   ],
   "source": [
    "rows1= range(1,4)\n",
    "cols1 = range(1,3)\n",
    "cells = [(row,col) for row in rows1 for col in cols1] #List Comprehension을 동시에 이용함\n",
    "for cell in cells:\n",
    "    print(cell)"
   ]
  },
  {
   "cell_type": "code",
   "execution_count": 57,
   "id": "774235f6-8fbb-49d1-8ffa-7ae4318fa48c",
   "metadata": {},
   "outputs": [],
   "source": [
    "cells2 = [(i,j) for i in range(5) for j in range(i)]"
   ]
  },
  {
   "cell_type": "code",
   "execution_count": 56,
   "id": "d0915f42-1a0f-4561-9b4d-95b038b4b277",
   "metadata": {},
   "outputs": [
    {
     "data": {
      "text/plain": [
       "[(1, 0),\n",
       " (2, 0),\n",
       " (2, 1),\n",
       " (3, 0),\n",
       " (3, 1),\n",
       " (3, 2),\n",
       " (4, 0),\n",
       " (4, 1),\n",
       " (4, 2),\n",
       " (4, 3)]"
      ]
     },
     "execution_count": 56,
     "metadata": {},
     "output_type": "execute_result"
    }
   ],
   "source": [
    "cells2"
   ]
  },
  {
   "cell_type": "code",
   "execution_count": null,
   "id": "0803daf5-a357-4bf4-81be-db696907a8a2",
   "metadata": {},
   "outputs": [],
   "source": []
  },
  {
   "cell_type": "code",
   "execution_count": 87,
   "id": "43a20e57-a581-4ff3-9224-b96d2240a69b",
   "metadata": {},
   "outputs": [],
   "source": [
    "#2.(Dictionary)Comprehension 실습"
   ]
  },
  {
   "cell_type": "code",
   "execution_count": 63,
   "id": "f9ecf9b9-323b-4095-9afd-3202d2462bb1",
   "metadata": {},
   "outputs": [],
   "source": [
    "word = 'letter' #word라는 변수를 string으로 정의\n",
    "letter_counts = {letter: word.count(letter) for letter in word}"
   ]
  },
  {
   "cell_type": "code",
   "execution_count": 62,
   "id": "f23eb1ce-d23c-40f2-9e1d-2835780baf87",
   "metadata": {},
   "outputs": [
    {
     "data": {
      "text/plain": [
       "{'l': 1, 'e': 2, 't': 2, 'r': 1}"
      ]
     },
     "execution_count": 62,
     "metadata": {},
     "output_type": "execute_result"
    }
   ],
   "source": [
    "letter_counts"
   ]
  },
  {
   "cell_type": "code",
   "execution_count": 88,
   "id": "536cb83f-d179-4ce9-912c-d98e73f6e9a5",
   "metadata": {},
   "outputs": [],
   "source": [
    "#3.(Set)Comprehension 실습"
   ]
  },
  {
   "cell_type": "code",
   "execution_count": 70,
   "id": "c3e150be-d410-452a-8178-462d299d69e9",
   "metadata": {},
   "outputs": [],
   "source": [
    "a_set = {number for number in range(1,6) if number %3 ==1} #1~5 범위 안에서 각각의 수가 3으로 나눈 나머지가 1인 경우, 그 값을 세트(a_set)에 넣어줘"
   ]
  },
  {
   "cell_type": "code",
   "execution_count": 69,
   "id": "0d37dd21-fa7d-4dc6-86cb-d2f4a6982903",
   "metadata": {},
   "outputs": [
    {
     "data": {
      "text/plain": [
       "{1, 4}"
      ]
     },
     "execution_count": 69,
     "metadata": {},
     "output_type": "execute_result"
    }
   ],
   "source": [
    "a_set"
   ]
  },
  {
   "cell_type": "code",
   "execution_count": null,
   "id": "3f98db99-5d52-48e5-9e0a-dcd64a83494d",
   "metadata": {},
   "outputs": [],
   "source": []
  },
  {
   "cell_type": "code",
   "execution_count": 89,
   "id": "5c66591f-514c-4fde-bc48-ed9ff7d30e21",
   "metadata": {},
   "outputs": [],
   "source": [
    "# 2-1. Function 실습(1)_함수 정의"
   ]
  },
  {
   "cell_type": "code",
   "execution_count": 73,
   "id": "24667a14-e35a-4f33-a32c-8eb22fe80748",
   "metadata": {},
   "outputs": [],
   "source": [
    "def sum(a, b):\n",
    "    return a+b"
   ]
  },
  {
   "cell_type": "code",
   "execution_count": 74,
   "id": "ea463eef-0ba2-4bcf-b717-6f45a8df00f8",
   "metadata": {},
   "outputs": [
    {
     "data": {
      "text/plain": [
       "3"
      ]
     },
     "execution_count": 74,
     "metadata": {},
     "output_type": "execute_result"
    }
   ],
   "source": [
    "sum(1, 2)"
   ]
  },
  {
   "cell_type": "code",
   "execution_count": 81,
   "id": "c3cce57b-5349-4c3d-9b0e-ae89387a6788",
   "metadata": {},
   "outputs": [
    {
     "data": {
      "text/plain": [
       "'I am'"
      ]
     },
     "execution_count": 81,
     "metadata": {},
     "output_type": "execute_result"
    }
   ],
   "source": [
    "sum(\"I \", \"am\")"
   ]
  },
  {
   "cell_type": "code",
   "execution_count": 90,
   "id": "15c5e588-8f80-413f-b7d7-d273242a3771",
   "metadata": {},
   "outputs": [],
   "source": [
    "#2-2. Function 실습(2)_zip을 이용한 순회"
   ]
  },
  {
   "cell_type": "code",
   "execution_count": 93,
   "id": "fe7178be-0620-48f2-b3de-8a4da0241c28",
   "metadata": {},
   "outputs": [],
   "source": [
    "days = [\"Monday\", \"Tuesday\", \"Wednesday\"] #각 값(string)을 days, fruits, drinks, desserts라는 리스트에 넣어줘\n",
    "fruits = [\"banana\", \"orange\", \"peach\"]\n",
    "drinks = [\"coffe\", \"tea\", \"beer\"]\n",
    "desserts = [\"tiramisu\", \"ice cream\", \"pie\", \"pudding\"]"
   ]
  },
  {
   "cell_type": "code",
   "execution_count": 97,
   "id": "743e428f-d36e-4291-8d17-f9920e45a7d0",
   "metadata": {},
   "outputs": [
    {
     "name": "stdout",
     "output_type": "stream",
     "text": [
      "Monday :drink banana - eat coffe - enjoy tiramisu\n",
      "Tuesday :drink orange - eat tea - enjoy ice cream\n",
      "Wednesday :drink peach - eat beer - enjoy pie\n"
     ]
    }
   ],
   "source": [
    "for day, fruit, drink, dessert in zip(days, fruits, drinks, desserts):\n",
    "    print(day, \":drink\", fruit, \"- eat\", drink, \"- enjoy\", dessert) #4개의 리스트를 zip 즉, '병렬'로 묶어주고, 각 리스트 범위에서 day, fruit, drink, dessert 값을 반복적으로 넣어주고, 그걸 아래와 같은 형태로 프린트 해줘"
   ]
  },
  {
   "cell_type": "code",
   "execution_count": 98,
   "id": "b5a4139d-b97c-492d-8082-b6aba660cf07",
   "metadata": {},
   "outputs": [],
   "source": [
    "english = 'Monday', 'Tuesday', 'Wednesday'\n",
    "french = 'Lundi', 'Mardi', 'Mercredi'"
   ]
  },
  {
   "cell_type": "code",
   "execution_count": 99,
   "id": "a6394c8b-cbac-45e3-80fc-8128a5156b96",
   "metadata": {},
   "outputs": [
    {
     "data": {
      "text/plain": [
       "[('Monday', 'Lundi'), ('Tuesday', 'Mardi'), ('Wednesday', 'Mercredi')]"
      ]
     },
     "execution_count": 99,
     "metadata": {},
     "output_type": "execute_result"
    }
   ],
   "source": [
    "list(zip(english, french))"
   ]
  },
  {
   "cell_type": "code",
   "execution_count": 100,
   "id": "21d5b6c3-3a9d-4744-9c98-73e2ef9771a2",
   "metadata": {},
   "outputs": [
    {
     "data": {
      "text/plain": [
       "{'Monday': 'Lundi', 'Tuesday': 'Mardi', 'Wednesday': 'Mercredi'}"
      ]
     },
     "execution_count": 100,
     "metadata": {},
     "output_type": "execute_result"
    }
   ],
   "source": [
    "dict(zip(english, french))"
   ]
  },
  {
   "cell_type": "code",
   "execution_count": 109,
   "id": "70fd480d-59e7-480b-9bd0-3658818ef6ed",
   "metadata": {},
   "outputs": [],
   "source": [
    "#2-3. Function 실습(3)_함수 위치/키워드 인자"
   ]
  },
  {
   "cell_type": "code",
   "execution_count": 104,
   "id": "15d184ba-60c3-460e-8637-d8ac1dea4e79",
   "metadata": {},
   "outputs": [],
   "source": [
    "def menu(wine, entree, dessert):\n",
    "    return {\"wine\": wine, \"entree\": entree, \"dessert\": dessert}"
   ]
  },
  {
   "cell_type": "code",
   "execution_count": 110,
   "id": "d826f8b6-0691-42aa-85c2-7de26e78c46b",
   "metadata": {},
   "outputs": [
    {
     "data": {
      "text/plain": [
       "{'wine': 'red', 'entree': 'salad', 'dessert': 'cake'}"
      ]
     },
     "execution_count": 110,
     "metadata": {},
     "output_type": "execute_result"
    }
   ],
   "source": [
    "menu(\"red\", \"salad\", \"cake\") #위치 인자 입력"
   ]
  },
  {
   "cell_type": "code",
   "execution_count": 111,
   "id": "8fbdc3ec-6cfa-47df-bbe9-803263b776cb",
   "metadata": {},
   "outputs": [
    {
     "data": {
      "text/plain": [
       "{'wine': 'white wine', 'entree': 'salmon', 'dessert': 'cheese cake'}"
      ]
     },
     "execution_count": 111,
     "metadata": {},
     "output_type": "execute_result"
    }
   ],
   "source": [
    "menu(dessert=\"cheese cake\", wine=\"white wine\", entree=\"salmon\") #키워드 인자 입력"
   ]
  },
  {
   "cell_type": "code",
   "execution_count": 113,
   "id": "88454cb7-7a01-4ade-852f-31f1e5806720",
   "metadata": {},
   "outputs": [
    {
     "data": {
      "text/plain": [
       "{'wine': 'mimi wine', 'entree': 'salmon', 'dessert': 'cheese cake'}"
      ]
     },
     "execution_count": 113,
     "metadata": {},
     "output_type": "execute_result"
    }
   ],
   "source": [
    "menu(\"mimi wine\", dessert=\"cheese cake\", entree=\"salmon\") #위치 -> 키워드 인자 순으로 입력"
   ]
  },
  {
   "cell_type": "code",
   "execution_count": 118,
   "id": "c8621dbe-077c-42f0-a1a7-7be0c2b3f6f4",
   "metadata": {},
   "outputs": [],
   "source": [
    "def menu2(wine, entree, dessert=\"pudding\"): #dessert의 기본값으로 pudding\n",
    "    return {\"wine\": wine, \"entree\": entree, \"dessert\": dessert}"
   ]
  },
  {
   "cell_type": "code",
   "execution_count": 117,
   "id": "d882ea3b-7889-4837-8b1f-13bbae675482",
   "metadata": {},
   "outputs": [
    {
     "data": {
      "text/plain": [
       "{'wine': 'red', 'entree': 'bread', 'dessert': 'pudding'}"
      ]
     },
     "execution_count": 117,
     "metadata": {},
     "output_type": "execute_result"
    }
   ],
   "source": [
    "menu2(\"red\", \"bread\")"
   ]
  },
  {
   "cell_type": "code",
   "execution_count": 121,
   "id": "fdcc92dd-bd7a-4cce-8947-ea1bc7f925f7",
   "metadata": {},
   "outputs": [],
   "source": [
    "def menu3(price, wine=\"red\", entree=\"bread\", dessert=\"pudding\"): \n",
    "    return {\"price\": price, \"wine\": wine, \"entree\": entree, \"dessert\": dessert}"
   ]
  },
  {
   "cell_type": "code",
   "execution_count": 122,
   "id": "a1d2c119-9430-4534-a378-506819701acc",
   "metadata": {},
   "outputs": [
    {
     "data": {
      "text/plain": [
       "{'price': 100, 'wine': 'red', 'entree': 'bread', 'dessert': 'pudding'}"
      ]
     },
     "execution_count": 122,
     "metadata": {},
     "output_type": "execute_result"
    }
   ],
   "source": [
    "menu3(100)"
   ]
  },
  {
   "cell_type": "code",
   "execution_count": 123,
   "id": "1d7e30e7-d205-436a-9ad3-815abfd8f8d1",
   "metadata": {},
   "outputs": [
    {
     "data": {
      "text/plain": [
       "{'price': 100, 'wine': 'red', 'entree': 'bread', 'dessert': 'pudding'}"
      ]
     },
     "execution_count": 123,
     "metadata": {},
     "output_type": "execute_result"
    }
   ],
   "source": [
    "menu3(price=100)"
   ]
  },
  {
   "cell_type": "code",
   "execution_count": 126,
   "id": "d490012c-6a38-466d-a92e-7044aa2af074",
   "metadata": {},
   "outputs": [
    {
     "data": {
      "text/plain": [
       "{'price': 120, 'wine': 'red', 'entree': 'beef', 'dessert': 'pudding'}"
      ]
     },
     "execution_count": 126,
     "metadata": {},
     "output_type": "execute_result"
    }
   ],
   "source": [
    "menu3(price=120, entree='beef')"
   ]
  },
  {
   "cell_type": "code",
   "execution_count": 129,
   "id": "2e14da39-859e-469d-9f42-38a92517cd88",
   "metadata": {},
   "outputs": [
    {
     "data": {
      "text/plain": [
       "{'price': 110, 'wine': 'red', 'entree': 'bread', 'dessert': 'bagel'}"
      ]
     },
     "execution_count": 129,
     "metadata": {},
     "output_type": "execute_result"
    }
   ],
   "source": [
    "menu3(dessert='bagel', price=110)"
   ]
  },
  {
   "cell_type": "code",
   "execution_count": 130,
   "id": "ccd3dee5-d08c-4bd7-a15a-a56029a78c53",
   "metadata": {},
   "outputs": [
    {
     "data": {
      "text/plain": [
       "{'price': 'eighty',\n",
       " 'wine': 'saint-pierre',\n",
       " 'entree': 'fish',\n",
       " 'dessert': 'pudding'}"
      ]
     },
     "execution_count": 130,
     "metadata": {},
     "output_type": "execute_result"
    }
   ],
   "source": [
    "menu3('eighty', 'saint-pierre', 'fish')"
   ]
  },
  {
   "cell_type": "code",
   "execution_count": 132,
   "id": "f1e07953-ef0b-498f-8bae-e5c50130169b",
   "metadata": {},
   "outputs": [
    {
     "data": {
      "text/plain": [
       "{'price': 'hundred',\n",
       " 'wine': 'saint-pierre',\n",
       " 'entree': 'bread',\n",
       " 'dessert': 'pudding'}"
      ]
     },
     "execution_count": 132,
     "metadata": {},
     "output_type": "execute_result"
    }
   ],
   "source": [
    "menu3('hundred', wine='saint-pierre')"
   ]
  },
  {
   "cell_type": "code",
   "execution_count": 133,
   "id": "c6458507-2055-4c9d-b277-732c84314065",
   "metadata": {},
   "outputs": [],
   "source": [
    "#2-3. Function 실습(4)_docstring"
   ]
  },
  {
   "cell_type": "code",
   "execution_count": 135,
   "id": "c3ed1116-0a7d-4b57-af04-52b2d894cd5f",
   "metadata": {},
   "outputs": [],
   "source": [
    "def echo(anything):\n",
    "    'echo returns its input argument' #docstring\n",
    "    return anything"
   ]
  },
  {
   "cell_type": "code",
   "execution_count": 137,
   "id": "f0b2fa48-127e-4439-a252-4703769faa76",
   "metadata": {},
   "outputs": [
    {
     "data": {
      "text/plain": [
       "'alert'"
      ]
     },
     "execution_count": 137,
     "metadata": {},
     "output_type": "execute_result"
    }
   ],
   "source": [
    "echo(\"alert\")"
   ]
  },
  {
   "cell_type": "code",
   "execution_count": 136,
   "id": "4bc2c3a2-8c68-4e11-96c7-4b208b33af86",
   "metadata": {},
   "outputs": [],
   "source": [
    "def print_if_true(thing, check):\n",
    "    \"\"\"\n",
    "    Prints the first argument if a second argument is true.\n",
    "    The operation is:\n",
    "    1. Check whether the *second* argument is true.\n",
    "    2. If it is, print the *first* argument.\n",
    "    \"\"\"\n",
    "    if check:\n",
    "        print(thing)"
   ]
  },
  {
   "cell_type": "code",
   "execution_count": 138,
   "id": "1bfc9c08-d541-4765-b2bd-2f11a9fcc7ad",
   "metadata": {},
   "outputs": [
    {
     "name": "stdout",
     "output_type": "stream",
     "text": [
      "Help on function echo in module __main__:\n",
      "\n",
      "echo(anything)\n",
      "    echo returns its input argument\n",
      "\n"
     ]
    }
   ],
   "source": [
    "help(echo)"
   ]
  },
  {
   "cell_type": "code",
   "execution_count": 139,
   "id": "539b93ca-27ac-47d0-9be7-54f306c6511f",
   "metadata": {},
   "outputs": [
    {
     "name": "stdout",
     "output_type": "stream",
     "text": [
      "Help on function print_if_true in module __main__:\n",
      "\n",
      "print_if_true(thing, check)\n",
      "    Prints the first argument if a second argument is true.\n",
      "    The operation is:\n",
      "    1. Check whether the *second* argument is true.\n",
      "    2. If it is, print the *first* argument.\n",
      "\n"
     ]
    }
   ],
   "source": [
    "help(print_if_true)"
   ]
  },
  {
   "cell_type": "code",
   "execution_count": null,
   "id": "70c778f7-da14-43d3-8737-fcb609951056",
   "metadata": {},
   "outputs": [],
   "source": []
  }
 ],
 "metadata": {
  "kernelspec": {
   "display_name": "Python 3 (ipykernel)",
   "language": "python",
   "name": "python3"
  },
  "language_info": {
   "codemirror_mode": {
    "name": "ipython",
    "version": 3
   },
   "file_extension": ".py",
   "mimetype": "text/x-python",
   "name": "python",
   "nbconvert_exporter": "python",
   "pygments_lexer": "ipython3",
   "version": "3.11.5"
  }
 },
 "nbformat": 4,
 "nbformat_minor": 5
}
