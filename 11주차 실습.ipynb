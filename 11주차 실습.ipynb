{
 "cells": [
  {
   "cell_type": "code",
   "execution_count": 1,
   "id": "cde2c4d1-713e-427c-8478-48526d06a7bf",
   "metadata": {},
   "outputs": [],
   "source": [
    "#이름: 문재형\n",
    "#학번: 2022177357"
   ]
  },
  {
   "cell_type": "code",
   "execution_count": null,
   "id": "6867899d-c463-48c5-98e9-1081788e60e5",
   "metadata": {},
   "outputs": [],
   "source": []
  },
  {
   "cell_type": "code",
   "execution_count": 2,
   "id": "5a9cc296-56fc-4dbd-ac16-5b3f0af42c8f",
   "metadata": {},
   "outputs": [
    {
     "name": "stdout",
     "output_type": "stream",
     "text": [
      "Requirement already satisfied: numpy in c:\\users\\tothe\\appdata\\local\\programs\\python\\python311\\lib\\site-packages (1.26.2)\n"
     ]
    },
    {
     "name": "stderr",
     "output_type": "stream",
     "text": [
      "\n",
      "[notice] A new release of pip is available: 23.2.1 -> 23.3.1\n",
      "[notice] To update, run: python.exe -m pip install --upgrade pip\n"
     ]
    }
   ],
   "source": [
    "!pip install numpy #이미 설치되어 있음"
   ]
  },
  {
   "cell_type": "code",
   "execution_count": null,
   "id": "0e064884-cb1f-4061-9b39-4caf42b405f8",
   "metadata": {},
   "outputs": [],
   "source": []
  },
  {
   "cell_type": "code",
   "execution_count": 3,
   "id": "98c4bbfc-157a-4c91-9eb0-8ef592ea1fa2",
   "metadata": {},
   "outputs": [],
   "source": [
    "import numpy as np"
   ]
  },
  {
   "cell_type": "code",
   "execution_count": 4,
   "id": "110f694a-b5f0-4ad0-ab3d-a4ba6407e8b0",
   "metadata": {},
   "outputs": [],
   "source": [
    "a = np.arange(6)"
   ]
  },
  {
   "cell_type": "code",
   "execution_count": 7,
   "id": "a90928a1-c795-4bb6-aaa8-a0bbb7f5777f",
   "metadata": {},
   "outputs": [
    {
     "data": {
      "text/plain": [
       "(6,)"
      ]
     },
     "execution_count": 7,
     "metadata": {},
     "output_type": "execute_result"
    }
   ],
   "source": [
    "a.shape"
   ]
  },
  {
   "cell_type": "code",
   "execution_count": 5,
   "id": "c51a95b1-c700-421a-877a-1a648a77cab9",
   "metadata": {},
   "outputs": [],
   "source": [
    "a2 = a[np.newaxis, :]"
   ]
  },
  {
   "cell_type": "code",
   "execution_count": 6,
   "id": "4e36d005-7992-489f-bccb-1dc3fe514f7b",
   "metadata": {},
   "outputs": [
    {
     "data": {
      "text/plain": [
       "(1, 6)"
      ]
     },
     "execution_count": 6,
     "metadata": {},
     "output_type": "execute_result"
    }
   ],
   "source": [
    "a2.shape"
   ]
  },
  {
   "cell_type": "code",
   "execution_count": null,
   "id": "06939dc7-2837-4256-937e-c6a9a97f73de",
   "metadata": {},
   "outputs": [],
   "source": []
  },
  {
   "cell_type": "code",
   "execution_count": 31,
   "id": "dc243ca9-8fbc-4155-b363-4c306cff1a27",
   "metadata": {},
   "outputs": [],
   "source": [
    "#1.배열이란?(a)"
   ]
  },
  {
   "cell_type": "code",
   "execution_count": 24,
   "id": "c0363a22-7bd0-4fdb-befa-aceaf5a2d900",
   "metadata": {},
   "outputs": [],
   "source": [
    "a1 = np.array([1,2,3,4,5,6]) #정수값이 하나의 인덱스인 1차원 정렬"
   ]
  },
  {
   "cell_type": "code",
   "execution_count": 25,
   "id": "dd108e08-959b-445f-80e9-a975aa0091a7",
   "metadata": {},
   "outputs": [],
   "source": [
    "a2 = np.array([range(7)]) #?"
   ]
  },
  {
   "cell_type": "code",
   "execution_count": 34,
   "id": "dc90727d-5497-48bb-bdda-2f0d9b758f1f",
   "metadata": {},
   "outputs": [
    {
     "ename": "SyntaxError",
     "evalue": "invalid syntax (1304728521.py, line 1)",
     "output_type": "error",
     "traceback": [
      "\u001b[1;36m  Cell \u001b[1;32mIn[34], line 1\u001b[1;36m\u001b[0m\n\u001b[1;33m    a5 = np.array([for range in range(7)]) #??\u001b[0m\n\u001b[1;37m                   ^\u001b[0m\n\u001b[1;31mSyntaxError\u001b[0m\u001b[1;31m:\u001b[0m invalid syntax\n"
     ]
    }
   ],
   "source": [
    "a5 = np.array([for range in range(7)]) #??"
   ]
  },
  {
   "cell_type": "code",
   "execution_count": 27,
   "id": "85b9834e-c38f-44c5-af39-87af0236eb09",
   "metadata": {},
   "outputs": [],
   "source": [
    "a3 = np.array([[1,2,3,4], [5,6,7,8], [9,10,11,12]]) #리스트가 하나의 인덱스인 1차원 정렬"
   ]
  },
  {
   "cell_type": "code",
   "execution_count": 28,
   "id": "b051c6f3-197c-4037-92de-45980c582a49",
   "metadata": {},
   "outputs": [
    {
     "name": "stdout",
     "output_type": "stream",
     "text": [
      "1\n"
     ]
    }
   ],
   "source": [
    "print(a1[0]) #a1 정렬의 첫번째 인덱스(정수값) 호출"
   ]
  },
  {
   "cell_type": "code",
   "execution_count": 29,
   "id": "8307899c-6d96-44f0-9472-032e4ce7af56",
   "metadata": {},
   "outputs": [
    {
     "name": "stdout",
     "output_type": "stream",
     "text": [
      "[0 1 2 3 4 5 6]\n"
     ]
    }
   ],
   "source": [
    "print(a2[0]) #a2 정렬의 첫번째 인덱스 호출"
   ]
  },
  {
   "cell_type": "code",
   "execution_count": 30,
   "id": "dd39ee8b-ebc8-41b4-9cce-3492c44b917c",
   "metadata": {},
   "outputs": [
    {
     "name": "stdout",
     "output_type": "stream",
     "text": [
      "[1 2 3 4]\n"
     ]
    }
   ],
   "source": [
    "print(a3[0]) #a3 정렬의 첫번째 인덱스(리스트) 호출"
   ]
  },
  {
   "cell_type": "code",
   "execution_count": null,
   "id": "794646c7-3208-44a7-8e78-33ed8ec56b5a",
   "metadata": {},
   "outputs": [],
   "source": []
  },
  {
   "cell_type": "code",
   "execution_count": 35,
   "id": "37a33942-33ad-49e0-bf0a-04a9fc0efcf1",
   "metadata": {},
   "outputs": [],
   "source": [
    "#2.기본 배열(b)"
   ]
  },
  {
   "cell_type": "code",
   "execution_count": 138,
   "id": "d067627f-9ce5-4e32-9437-b2f1d0ba4e38",
   "metadata": {},
   "outputs": [
    {
     "ename": "TypeError",
     "evalue": "array() takes from 1 to 2 positional arguments but 3 were given",
     "output_type": "error",
     "traceback": [
      "\u001b[1;31m---------------------------------------------------------------------------\u001b[0m",
      "\u001b[1;31mTypeError\u001b[0m                                 Traceback (most recent call last)",
      "Cell \u001b[1;32mIn[138], line 1\u001b[0m\n\u001b[1;32m----> 1\u001b[0m b1 \u001b[38;5;241m=\u001b[39m \u001b[43mnp\u001b[49m\u001b[38;5;241;43m.\u001b[39;49m\u001b[43marray\u001b[49m\u001b[43m(\u001b[49m\u001b[38;5;241;43m1\u001b[39;49m\u001b[43m,\u001b[49m\u001b[38;5;241;43m2\u001b[39;49m\u001b[43m,\u001b[49m\u001b[38;5;241;43m3\u001b[39;49m\u001b[43m)\u001b[49m \u001b[38;5;66;03m#왜왜?? 정수는 안돼? --> 정수는 하나의 값만 즉, array(x)에서 정수x는 range(y)의 정수y와 비슷한 개념.. 길이를 의미\u001b[39;00m\n",
      "\u001b[1;31mTypeError\u001b[0m: array() takes from 1 to 2 positional arguments but 3 were given"
     ]
    }
   ],
   "source": [
    "b1 = np.array(1,2,3) #왜왜?? 정수는 안돼? --> 정수는 하나의 값만 즉, array(x)에서 정수x는 range(y)의 정수y와 비슷한 개념.. 길이를 의미"
   ]
  },
  {
   "cell_type": "code",
   "execution_count": 53,
   "id": "1cb86ea3-8991-4bbe-8eb9-84e0c20c42d1",
   "metadata": {},
   "outputs": [],
   "source": [
    "b2 = np.array([1,2,3]) #b2에 [1,2,3,]리스트를 1차원적으로 배열화해서 넣어줘"
   ]
  },
  {
   "cell_type": "code",
   "execution_count": 54,
   "id": "61e3c9db-bb98-4f18-9b52-55bda15078d5",
   "metadata": {},
   "outputs": [
    {
     "data": {
      "text/plain": [
       "array([1, 2, 3])"
      ]
     },
     "execution_count": 54,
     "metadata": {},
     "output_type": "execute_result"
    }
   ],
   "source": [
    "b2"
   ]
  },
  {
   "cell_type": "code",
   "execution_count": 50,
   "id": "d7288ff9-97d6-43ae-98c7-3255b2679327",
   "metadata": {},
   "outputs": [],
   "source": [
    "b3 = np.zeros(4) #b3에 '실수 0'이 4개인 리스트를 1차원적으로 배열화해서 넣어줘"
   ]
  },
  {
   "cell_type": "code",
   "execution_count": 47,
   "id": "d9e25065-e53e-4f93-9e38-38df9a0c0cab",
   "metadata": {},
   "outputs": [
    {
     "data": {
      "text/plain": [
       "array([0., 0., 0., 0.])"
      ]
     },
     "execution_count": 47,
     "metadata": {},
     "output_type": "execute_result"
    }
   ],
   "source": [
    "b3"
   ]
  },
  {
   "cell_type": "code",
   "execution_count": 64,
   "id": "0df30d06-6843-4ace-a210-d6a4fe5c6089",
   "metadata": {},
   "outputs": [],
   "source": [
    "b4 = np.ones(6) #b4에 '실수 1'이 6개인 리스트를 1차원적으로 배열화해서 넣어줘"
   ]
  },
  {
   "cell_type": "code",
   "execution_count": 52,
   "id": "ba229ae5-f383-4b61-84ff-9944fcc6ef77",
   "metadata": {},
   "outputs": [
    {
     "data": {
      "text/plain": [
       "array([1., 1., 1., 1., 1., 1.])"
      ]
     },
     "execution_count": 52,
     "metadata": {},
     "output_type": "execute_result"
    }
   ],
   "source": [
    "b4"
   ]
  },
  {
   "cell_type": "code",
   "execution_count": 62,
   "id": "c15a2265-353a-4254-ac6f-428d47634e02",
   "metadata": {},
   "outputs": [],
   "source": [
    "b5 = np.empty(6)"
   ]
  },
  {
   "cell_type": "code",
   "execution_count": 63,
   "id": "f0dfb8fe-53da-439d-bd8b-fcb4721377da",
   "metadata": {},
   "outputs": [
    {
     "data": {
      "text/plain": [
       "array([4.63939877e-308, 5.64938534e+036, 1.78409531e+046, 4.32950182e-035,\n",
       "       8.72433218e-026, 1.57234264e-063])"
      ]
     },
     "execution_count": 63,
     "metadata": {},
     "output_type": "execute_result"
    }
   ],
   "source": [
    "b5"
   ]
  },
  {
   "cell_type": "code",
   "execution_count": 68,
   "id": "e48a992c-d1c5-476a-8e89-773c20985185",
   "metadata": {},
   "outputs": [],
   "source": [
    "b6 = np.arange(8) #b6에 '정수'가 8개인 리스트를 1차원적으로 배열화해서 넣어줘.. 다만, 첫번째 인덱스는 0부터 시작(기본 중 기본!!!)"
   ]
  },
  {
   "cell_type": "code",
   "execution_count": 66,
   "id": "a59bfb8f-beb5-4f0f-8e73-e0c733311ba0",
   "metadata": {},
   "outputs": [
    {
     "data": {
      "text/plain": [
       "array([0, 1, 2, 3, 4, 5, 6, 7])"
      ]
     },
     "execution_count": 66,
     "metadata": {},
     "output_type": "execute_result"
    }
   ],
   "source": [
    "b6"
   ]
  },
  {
   "cell_type": "code",
   "execution_count": 78,
   "id": "ac673e9c-8239-49cd-80d8-883a163b3a59",
   "metadata": {},
   "outputs": [],
   "source": [
    "b7 = np.linspace(0, 10, num=5) #b7에 '실수 0~10'까지의 수를 5등분한 리스트를 1차원적으로 배열화해서 넣어줘"
   ]
  },
  {
   "cell_type": "code",
   "execution_count": 77,
   "id": "d6f2330c-0aaa-4e38-bc80-4a41372cc681",
   "metadata": {},
   "outputs": [
    {
     "data": {
      "text/plain": [
       "array([ 0. ,  2.5,  5. ,  7.5, 10. ])"
      ]
     },
     "execution_count": 77,
     "metadata": {},
     "output_type": "execute_result"
    }
   ],
   "source": [
    "b7"
   ]
  },
  {
   "cell_type": "code",
   "execution_count": 83,
   "id": "9b23b9a9-0b56-4d88-b4f2-de989e243c4f",
   "metadata": {},
   "outputs": [],
   "source": [
    "b8 = np.ones(2, dtype=np.int64)"
   ]
  },
  {
   "cell_type": "code",
   "execution_count": 84,
   "id": "52b1fe5a-ba30-40a1-a32e-94224a446006",
   "metadata": {},
   "outputs": [
    {
     "data": {
      "text/plain": [
       "array([1, 1], dtype=int64)"
      ]
     },
     "execution_count": 84,
     "metadata": {},
     "output_type": "execute_result"
    }
   ],
   "source": [
    "b8"
   ]
  },
  {
   "cell_type": "code",
   "execution_count": null,
   "id": "f8b6f89f-d1d8-4bdd-be93-bedc3961165d",
   "metadata": {},
   "outputs": [],
   "source": []
  },
  {
   "cell_type": "code",
   "execution_count": 102,
   "id": "937569ce-c542-4084-b22d-b82dfc023adb",
   "metadata": {},
   "outputs": [],
   "source": [
    "#3.요소 추가, 제거 및 정렬(c,d)"
   ]
  },
  {
   "cell_type": "code",
   "execution_count": 87,
   "id": "f2a49283-75ca-4849-8f6f-7427157230ea",
   "metadata": {},
   "outputs": [],
   "source": [
    "c = np.array([2,1,6,4,8,5,7,3])"
   ]
  },
  {
   "cell_type": "code",
   "execution_count": 88,
   "id": "9a65ddee-0343-481c-a368-a7fdf4170a31",
   "metadata": {},
   "outputs": [
    {
     "data": {
      "text/plain": [
       "array([2, 1, 6, 4, 8, 5, 7, 3])"
      ]
     },
     "execution_count": 88,
     "metadata": {},
     "output_type": "execute_result"
    }
   ],
   "source": [
    "c"
   ]
  },
  {
   "cell_type": "code",
   "execution_count": 94,
   "id": "55d66ca2-5704-4811-a82e-3b91be2e4be0",
   "metadata": {},
   "outputs": [],
   "source": [
    "c1 = np.sort(c) #Numpy님~ c배열을 순서대로 알아서 정렬해줘"
   ]
  },
  {
   "cell_type": "code",
   "execution_count": 91,
   "id": "1e854d2c-0dc4-44fd-ad64-22ebd5f8a6eb",
   "metadata": {},
   "outputs": [
    {
     "data": {
      "text/plain": [
       "array([1, 2, 3, 4, 5, 6, 7, 8])"
      ]
     },
     "execution_count": 91,
     "metadata": {},
     "output_type": "execute_result"
    }
   ],
   "source": [
    "c1"
   ]
  },
  {
   "cell_type": "code",
   "execution_count": 95,
   "id": "68dbc8e7-9685-4bee-abf3-f7c290814b24",
   "metadata": {},
   "outputs": [],
   "source": [
    "c2 = np.argsort(c)"
   ]
  },
  {
   "cell_type": "code",
   "execution_count": 96,
   "id": "c0726c79-4aa7-4f10-943b-72490721c528",
   "metadata": {},
   "outputs": [
    {
     "data": {
      "text/plain": [
       "array([1, 0, 7, 3, 5, 2, 6, 4], dtype=int64)"
      ]
     },
     "execution_count": 96,
     "metadata": {},
     "output_type": "execute_result"
    }
   ],
   "source": [
    "c2"
   ]
  },
  {
   "cell_type": "code",
   "execution_count": 97,
   "id": "f4700afc-c12b-498a-8ebb-ca387ab787b5",
   "metadata": {},
   "outputs": [],
   "source": [
    "c3 = np.lexsort(c)"
   ]
  },
  {
   "cell_type": "code",
   "execution_count": 98,
   "id": "6f28195a-f932-4853-853d-9cf375ce02e5",
   "metadata": {},
   "outputs": [
    {
     "data": {
      "text/plain": [
       "0"
      ]
     },
     "execution_count": 98,
     "metadata": {},
     "output_type": "execute_result"
    }
   ],
   "source": [
    "c3"
   ]
  },
  {
   "cell_type": "code",
   "execution_count": 192,
   "id": "2ef2321d-b3c4-4f0c-83a4-10e9c068f4d5",
   "metadata": {},
   "outputs": [
    {
     "ename": "TypeError",
     "evalue": "searchsorted() missing 1 required positional argument: 'v'",
     "output_type": "error",
     "traceback": [
      "\u001b[1;31m---------------------------------------------------------------------------\u001b[0m",
      "\u001b[1;31mTypeError\u001b[0m                                 Traceback (most recent call last)",
      "Cell \u001b[1;32mIn[192], line 1\u001b[0m\n\u001b[1;32m----> 1\u001b[0m c4 \u001b[38;5;241m=\u001b[39m \u001b[43mnp\u001b[49m\u001b[38;5;241;43m.\u001b[39;49m\u001b[43msearchsorted\u001b[49m\u001b[43m(\u001b[49m\u001b[43mc\u001b[49m\u001b[43m)\u001b[49m \u001b[38;5;66;03m#??\u001b[39;00m\n",
      "\u001b[1;31mTypeError\u001b[0m: searchsorted() missing 1 required positional argument: 'v'"
     ]
    }
   ],
   "source": [
    "c4 = np.searchsorted(c) #??"
   ]
  },
  {
   "cell_type": "code",
   "execution_count": 193,
   "id": "91da6816-c1f4-48b7-bfda-b951312a2c51",
   "metadata": {},
   "outputs": [
    {
     "ename": "TypeError",
     "evalue": "partition() missing 1 required positional argument: 'kth'",
     "output_type": "error",
     "traceback": [
      "\u001b[1;31m---------------------------------------------------------------------------\u001b[0m",
      "\u001b[1;31mTypeError\u001b[0m                                 Traceback (most recent call last)",
      "Cell \u001b[1;32mIn[193], line 1\u001b[0m\n\u001b[1;32m----> 1\u001b[0m c5 \u001b[38;5;241m=\u001b[39m \u001b[43mnp\u001b[49m\u001b[38;5;241;43m.\u001b[39;49m\u001b[43mpartition\u001b[49m\u001b[43m(\u001b[49m\u001b[43mc\u001b[49m\u001b[43m)\u001b[49m \u001b[38;5;66;03m#??\u001b[39;00m\n",
      "\u001b[1;31mTypeError\u001b[0m: partition() missing 1 required positional argument: 'kth'"
     ]
    }
   ],
   "source": [
    "c5 = np.partition(c) #??"
   ]
  },
  {
   "cell_type": "code",
   "execution_count": 103,
   "id": "f9eb8a2f-a32b-4d20-b5dd-f6eff56adccd",
   "metadata": {},
   "outputs": [],
   "source": [
    "d1 = np.array([1,2,3,4])\n",
    "d2 = np.array([5,6,7,8])"
   ]
  },
  {
   "cell_type": "code",
   "execution_count": 110,
   "id": "13fd2466-fb88-4f18-ad3e-a275b0ff57a7",
   "metadata": {},
   "outputs": [],
   "source": [
    "d3 = np.concatenate((d1,d2)) #Numpy님~ d1,2배열을 합친 d3배열을 만들어줘"
   ]
  },
  {
   "cell_type": "code",
   "execution_count": 109,
   "id": "1ce3d114-8091-4e3d-96e1-674ea60477e6",
   "metadata": {},
   "outputs": [
    {
     "data": {
      "text/plain": [
       "array([1, 2, 3, 4, 5, 6, 7, 8])"
      ]
     },
     "execution_count": 109,
     "metadata": {},
     "output_type": "execute_result"
    }
   ],
   "source": [
    "d3"
   ]
  },
  {
   "cell_type": "code",
   "execution_count": 112,
   "id": "d13914e3-d2b3-4840-a7be-50f764a014bb",
   "metadata": {},
   "outputs": [],
   "source": [
    "d4 = np.array([[1,2],[3,4]])\n",
    "d5 = np.array([[5,6]])"
   ]
  },
  {
   "cell_type": "code",
   "execution_count": 115,
   "id": "22e02131-1a23-4cea-b00e-d2a4b5e986f1",
   "metadata": {},
   "outputs": [],
   "source": [
    "d6 = np.concatenate((d4,d5), axis=0) #Numpy님~ d4,5배열을 합치되, 축이 하나인 d6배열을 만들어줘"
   ]
  },
  {
   "cell_type": "code",
   "execution_count": 116,
   "id": "0860e506-c936-4bfb-98a5-2a2b8b572ac0",
   "metadata": {},
   "outputs": [
    {
     "data": {
      "text/plain": [
       "array([[1, 2],\n",
       "       [3, 4],\n",
       "       [5, 6]])"
      ]
     },
     "execution_count": 116,
     "metadata": {},
     "output_type": "execute_result"
    }
   ],
   "source": [
    "d6"
   ]
  },
  {
   "cell_type": "code",
   "execution_count": null,
   "id": "290c8bb5-aaf5-4b35-a5dd-cb1347130936",
   "metadata": {},
   "outputs": [],
   "source": []
  },
  {
   "cell_type": "code",
   "execution_count": 136,
   "id": "0b29a4ee-ac58-498c-990d-1e5efadcb1a6",
   "metadata": {},
   "outputs": [],
   "source": [
    "#4.배열의 모양과 크기(e,f)"
   ]
  },
  {
   "cell_type": "code",
   "execution_count": 123,
   "id": "c9f269d2-d140-4a32-8941-18fe67cfc6ac",
   "metadata": {},
   "outputs": [],
   "source": [
    "e = np.array([[[0,1,2,3],\n",
    "               [4,5,6,7]],\n",
    "              \n",
    "              [[8,9,10,11],\n",
    "               [12,13,14,15]],\n",
    "              \n",
    "              [[16,17,18,19],\n",
    "               [20,21,22,23]]])"
   ]
  },
  {
   "cell_type": "code",
   "execution_count": 128,
   "id": "efcad1f2-5c18-4569-9018-63d7bdeb94bd",
   "metadata": {},
   "outputs": [
    {
     "data": {
      "text/plain": [
       "3"
      ]
     },
     "execution_count": 128,
     "metadata": {},
     "output_type": "execute_result"
    }
   ],
   "source": [
    "e.ndim #e배열의 차원은?"
   ]
  },
  {
   "cell_type": "code",
   "execution_count": 129,
   "id": "8345f803-10f5-4295-9989-3e14af451814",
   "metadata": {},
   "outputs": [
    {
     "data": {
      "text/plain": [
       "24"
      ]
     },
     "execution_count": 129,
     "metadata": {},
     "output_type": "execute_result"
    }
   ],
   "source": [
    "e.size #e배열의 사이즈는?"
   ]
  },
  {
   "cell_type": "code",
   "execution_count": 130,
   "id": "b0ea9c67-3c2d-41c8-b8a2-871e9b6f9a11",
   "metadata": {},
   "outputs": [
    {
     "data": {
      "text/plain": [
       "(3, 2, 4)"
      ]
     },
     "execution_count": 130,
     "metadata": {},
     "output_type": "execute_result"
    }
   ],
   "source": [
    "e.shape #e배열의 모양(차원별 갯수)은?"
   ]
  },
  {
   "cell_type": "code",
   "execution_count": 139,
   "id": "3dc50262-dcdf-4a57-b28e-e1808f97f1d6",
   "metadata": {},
   "outputs": [],
   "source": [
    "f = np.arange(6)"
   ]
  },
  {
   "cell_type": "code",
   "execution_count": 140,
   "id": "5c3eed8e-d716-47f1-98bd-76610a5b0929",
   "metadata": {},
   "outputs": [
    {
     "data": {
      "text/plain": [
       "array([0, 1, 2, 3, 4, 5])"
      ]
     },
     "execution_count": 140,
     "metadata": {},
     "output_type": "execute_result"
    }
   ],
   "source": [
    "f"
   ]
  },
  {
   "cell_type": "code",
   "execution_count": 144,
   "id": "70446f59-2c44-446f-824a-c36d9b94cd15",
   "metadata": {},
   "outputs": [],
   "source": [
    "#arrange(x)일 때는 x = (정수값) --> range와 비슷한 개념\n",
    "#array(y)일 때는 y = (리스트 항목) --> 값 그 자체"
   ]
  },
  {
   "cell_type": "code",
   "execution_count": 148,
   "id": "5fadf1b2-3a40-4fa6-87e3-e5fe7dfbff99",
   "metadata": {},
   "outputs": [],
   "source": [
    "f1 = f.reshape(3,2) #f배열을 3개의 행과 2개의 열로 구성된 배열로 만들어줘"
   ]
  },
  {
   "cell_type": "code",
   "execution_count": 147,
   "id": "a87f535d-2082-4298-bf7e-86205512a2ee",
   "metadata": {},
   "outputs": [
    {
     "data": {
      "text/plain": [
       "array([[0, 1],\n",
       "       [2, 3],\n",
       "       [4, 5]])"
      ]
     },
     "execution_count": 147,
     "metadata": {},
     "output_type": "execute_result"
    }
   ],
   "source": [
    "f1"
   ]
  },
  {
   "cell_type": "code",
   "execution_count": 153,
   "id": "15282973-20b5-43a8-ae47-900f350ed1b8",
   "metadata": {},
   "outputs": [],
   "source": [
    "f2 = np.reshape(f, newshape=(1,6), order='C')"
   ]
  },
  {
   "cell_type": "code",
   "execution_count": 154,
   "id": "536ccd92-f8ae-4da0-bb75-ed326e954e98",
   "metadata": {},
   "outputs": [
    {
     "data": {
      "text/plain": [
       "array([[0, 1, 2, 3, 4, 5]])"
      ]
     },
     "execution_count": 154,
     "metadata": {},
     "output_type": "execute_result"
    }
   ],
   "source": [
    "f2"
   ]
  },
  {
   "cell_type": "code",
   "execution_count": null,
   "id": "1c93efc9-6896-4b07-ad43-e1487501d880",
   "metadata": {},
   "outputs": [],
   "source": []
  },
  {
   "cell_type": "code",
   "execution_count": 155,
   "id": "fea31ec8-a1c8-4232-affa-084f13759701",
   "metadata": {},
   "outputs": [],
   "source": [
    "#5.1배열의 차원 추가(g)"
   ]
  },
  {
   "cell_type": "code",
   "execution_count": 156,
   "id": "352aad7a-4fb4-401a-a1c0-8529e1c66b7c",
   "metadata": {},
   "outputs": [],
   "source": [
    "g = np.arange(7)"
   ]
  },
  {
   "cell_type": "code",
   "execution_count": 157,
   "id": "2ff8334c-ee93-4a4a-88e8-c969f90b0612",
   "metadata": {},
   "outputs": [
    {
     "data": {
      "text/plain": [
       "array([0, 1, 2, 3, 4, 5, 6])"
      ]
     },
     "execution_count": 157,
     "metadata": {},
     "output_type": "execute_result"
    }
   ],
   "source": [
    "g"
   ]
  },
  {
   "cell_type": "code",
   "execution_count": 159,
   "id": "9c5f3d5f-9a69-43f3-86ea-49759a002739",
   "metadata": {},
   "outputs": [
    {
     "data": {
      "text/plain": [
       "(7,)"
      ]
     },
     "execution_count": 159,
     "metadata": {},
     "output_type": "execute_result"
    }
   ],
   "source": [
    "g.shape # g배열의 1차원엔 7개 인덱스"
   ]
  },
  {
   "cell_type": "code",
   "execution_count": 175,
   "id": "e725ef57-ff34-4b84-8955-233fa7d661b8",
   "metadata": {},
   "outputs": [],
   "source": [
    "g1 = g[np.newaxis, :] #g배열의 '열' 차원 추가"
   ]
  },
  {
   "cell_type": "code",
   "execution_count": 161,
   "id": "675551cb-3674-4018-91e0-76ec5ff7c013",
   "metadata": {},
   "outputs": [
    {
     "data": {
      "text/plain": [
       "array([[0, 1, 2, 3, 4, 5, 6]])"
      ]
     },
     "execution_count": 161,
     "metadata": {},
     "output_type": "execute_result"
    }
   ],
   "source": [
    "g1"
   ]
  },
  {
   "cell_type": "code",
   "execution_count": 162,
   "id": "763ca18b-c239-41d0-9278-ec5183e7c006",
   "metadata": {},
   "outputs": [
    {
     "data": {
      "text/plain": [
       "(1, 7)"
      ]
     },
     "execution_count": 162,
     "metadata": {},
     "output_type": "execute_result"
    }
   ],
   "source": [
    "g1.shape"
   ]
  },
  {
   "cell_type": "code",
   "execution_count": 174,
   "id": "5066b92e-128c-4223-8820-f009fe8b4f03",
   "metadata": {},
   "outputs": [],
   "source": [
    "g2 = g[:, np.newaxis] #g배열의 '행' 차원 추가"
   ]
  },
  {
   "cell_type": "code",
   "execution_count": 170,
   "id": "dace02fd-4fd4-4940-84c5-33934f9ea740",
   "metadata": {},
   "outputs": [
    {
     "data": {
      "text/plain": [
       "array([[0],\n",
       "       [1],\n",
       "       [2],\n",
       "       [3],\n",
       "       [4],\n",
       "       [5],\n",
       "       [6]])"
      ]
     },
     "execution_count": 170,
     "metadata": {},
     "output_type": "execute_result"
    }
   ],
   "source": [
    "g2"
   ]
  },
  {
   "cell_type": "code",
   "execution_count": 176,
   "id": "c57ce3ce-3507-412f-a3bc-8c7fb75ab657",
   "metadata": {},
   "outputs": [
    {
     "data": {
      "text/plain": [
       "(7, 1)"
      ]
     },
     "execution_count": 176,
     "metadata": {},
     "output_type": "execute_result"
    }
   ],
   "source": [
    "g2.shape"
   ]
  },
  {
   "cell_type": "code",
   "execution_count": 188,
   "id": "b81dca9b-9905-4c27-933b-a086d10a5c79",
   "metadata": {},
   "outputs": [],
   "source": [
    "g01 = np.expand_dims(g, axis=1) #g배열의 인덱스 위치 '1'에 축을 추가"
   ]
  },
  {
   "cell_type": "code",
   "execution_count": 189,
   "id": "fa6d857c-883a-4e96-8141-afb2ab91b166",
   "metadata": {},
   "outputs": [
    {
     "data": {
      "text/plain": [
       "array([[0],\n",
       "       [1],\n",
       "       [2],\n",
       "       [3],\n",
       "       [4],\n",
       "       [5],\n",
       "       [6]])"
      ]
     },
     "execution_count": 189,
     "metadata": {},
     "output_type": "execute_result"
    }
   ],
   "source": [
    "g01"
   ]
  },
  {
   "cell_type": "code",
   "execution_count": 190,
   "id": "8f80f732-221b-407a-8edc-3c160f3869bd",
   "metadata": {},
   "outputs": [
    {
     "data": {
      "text/plain": [
       "(7, 1)"
      ]
     },
     "execution_count": 190,
     "metadata": {},
     "output_type": "execute_result"
    }
   ],
   "source": [
    "g01.shape"
   ]
  },
  {
   "cell_type": "code",
   "execution_count": 186,
   "id": "442829f5-79f5-46bd-802e-847400b3612f",
   "metadata": {},
   "outputs": [],
   "source": [
    "g02 = np.expand_dims(g, axis=0) #g배열의 인덱스 위치 '0'에 축을 추가"
   ]
  },
  {
   "cell_type": "code",
   "execution_count": 180,
   "id": "89158138-fb5e-4a63-9d04-23f3f15b0f95",
   "metadata": {},
   "outputs": [
    {
     "data": {
      "text/plain": [
       "array([[0, 1, 2, 3, 4, 5, 6]])"
      ]
     },
     "execution_count": 180,
     "metadata": {},
     "output_type": "execute_result"
    }
   ],
   "source": [
    "g02"
   ]
  },
  {
   "cell_type": "code",
   "execution_count": 182,
   "id": "9747fb8d-1614-46c8-b8ef-cb8884fe26b3",
   "metadata": {},
   "outputs": [
    {
     "data": {
      "text/plain": [
       "(1, 7)"
      ]
     },
     "execution_count": 182,
     "metadata": {},
     "output_type": "execute_result"
    }
   ],
   "source": [
    "g02.shape"
   ]
  },
  {
   "cell_type": "code",
   "execution_count": null,
   "id": "f237ae25-e50d-4be3-ba35-5eeb25be168e",
   "metadata": {},
   "outputs": [],
   "source": []
  },
  {
   "cell_type": "code",
   "execution_count": 204,
   "id": "e67aa4ae-2ed7-4141-8f61-04d23f4db1af",
   "metadata": {},
   "outputs": [],
   "source": [
    "#6.인덱싱 및 슬라이싱 (h,i)"
   ]
  },
  {
   "cell_type": "code",
   "execution_count": 194,
   "id": "bb095335-236c-4edc-8fe9-93272bd1de71",
   "metadata": {},
   "outputs": [],
   "source": [
    "h = np.array([1,2,3])"
   ]
  },
  {
   "cell_type": "code",
   "execution_count": 199,
   "id": "a3dc4792-84ef-4083-9011-1eb277ed6335",
   "metadata": {},
   "outputs": [
    {
     "data": {
      "text/plain": [
       "1"
      ]
     },
     "execution_count": 199,
     "metadata": {},
     "output_type": "execute_result"
    }
   ],
   "source": [
    "h[0] #h배열의 1번째 인덱스는?"
   ]
  },
  {
   "cell_type": "code",
   "execution_count": 196,
   "id": "2a76fc54-6a2b-4105-8710-6005017b0f50",
   "metadata": {},
   "outputs": [
    {
     "data": {
      "text/plain": [
       "2"
      ]
     },
     "execution_count": 196,
     "metadata": {},
     "output_type": "execute_result"
    }
   ],
   "source": [
    "h[1] #h배열의 2번째 인덱스는?"
   ]
  },
  {
   "cell_type": "code",
   "execution_count": 200,
   "id": "a14900ca-2d90-4628-aea9-ed423bd92d04",
   "metadata": {},
   "outputs": [
    {
     "data": {
      "text/plain": [
       "array([1, 2])"
      ]
     },
     "execution_count": 200,
     "metadata": {},
     "output_type": "execute_result"
    }
   ],
   "source": [
    "h[0:2] #h배열의 1번째부터 2개까지 인덱스는?"
   ]
  },
  {
   "cell_type": "code",
   "execution_count": 202,
   "id": "0950f35f-9eb1-4fee-9bf0-93d0d77a861a",
   "metadata": {},
   "outputs": [
    {
     "data": {
      "text/plain": [
       "array([2, 3])"
      ]
     },
     "execution_count": 202,
     "metadata": {},
     "output_type": "execute_result"
    }
   ],
   "source": [
    "h[1:] #h배열의 2번째부터 인덱스는?"
   ]
  },
  {
   "cell_type": "code",
   "execution_count": 203,
   "id": "f6a8ab5f-a540-400a-bf99-8432446c0d92",
   "metadata": {},
   "outputs": [
    {
     "data": {
      "text/plain": [
       "array([2, 3])"
      ]
     },
     "execution_count": 203,
     "metadata": {},
     "output_type": "execute_result"
    }
   ],
   "source": [
    "h[-2:] #h배열의 반대 2번째부터 인덱스는?"
   ]
  },
  {
   "cell_type": "code",
   "execution_count": 205,
   "id": "2a4c9a1e-8b1b-4354-b5e0-f03532c572c1",
   "metadata": {},
   "outputs": [],
   "source": [
    "i = np.array([[1,2,3,4], [5,6,7,8], [9,10,11,12]])"
   ]
  },
  {
   "cell_type": "code",
   "execution_count": 208,
   "id": "573a689d-bbc2-4d93-83fa-7deb4f572c3c",
   "metadata": {},
   "outputs": [
    {
     "name": "stdout",
     "output_type": "stream",
     "text": [
      "[1 2 3 4]\n"
     ]
    }
   ],
   "source": [
    "print(i[i<5])"
   ]
  },
  {
   "cell_type": "code",
   "execution_count": 219,
   "id": "5772b512-91a4-4212-a8e6-28b62229d5eb",
   "metadata": {},
   "outputs": [],
   "source": [
    "five_down = ( i<5) #'five_down'이라는 식을 먼저 정의"
   ]
  },
  {
   "cell_type": "code",
   "execution_count": 217,
   "id": "e935a9a7-3460-42e9-8706-fe6f12600508",
   "metadata": {},
   "outputs": [
    {
     "name": "stdout",
     "output_type": "stream",
     "text": [
      "[1 2 3 4]\n"
     ]
    }
   ],
   "source": [
    "print(i[five_down])"
   ]
  },
  {
   "cell_type": "code",
   "execution_count": 223,
   "id": "0079d3eb-6770-4b44-935e-6ea50367314f",
   "metadata": {},
   "outputs": [],
   "source": [
    "div_by_2 = i[i%2==0] #'div_by_2'이라는 식을 먼저 정의"
   ]
  },
  {
   "cell_type": "code",
   "execution_count": 222,
   "id": "2c5dd050-31ea-4521-a8ba-32240c27fe04",
   "metadata": {},
   "outputs": [
    {
     "name": "stdout",
     "output_type": "stream",
     "text": [
      "[ 2  4  6  8 10 12]\n"
     ]
    }
   ],
   "source": [
    "print(div_by_2)"
   ]
  },
  {
   "cell_type": "code",
   "execution_count": null,
   "id": "261e873a-1317-49e1-8e40-5f9547f14e72",
   "metadata": {},
   "outputs": [],
   "source": []
  },
  {
   "cell_type": "code",
   "execution_count": 252,
   "id": "b536d9c1-349e-44e6-b45d-f70f8cf8bcd6",
   "metadata": {},
   "outputs": [],
   "source": [
    "#7. 기존 데이터에서 배열을 만드는 방법 (j,k,l)"
   ]
  },
  {
   "cell_type": "code",
   "execution_count": 228,
   "id": "e2dd3302-ebc7-4d33-bf16-32e51b43d31f",
   "metadata": {},
   "outputs": [],
   "source": [
    "j = np.array([1,2,3,4,5,6,7,8,9,10])"
   ]
  },
  {
   "cell_type": "code",
   "execution_count": 231,
   "id": "8753019a-d480-4a39-b0c6-99f228d2b754",
   "metadata": {},
   "outputs": [],
   "source": [
    "JJ = j[3:8] #j 배열을 4번째 인덱스부터"
   ]
  },
  {
   "cell_type": "code",
   "execution_count": 230,
   "id": "715cec53-e012-4da1-b6dd-1da2b86c98eb",
   "metadata": {},
   "outputs": [
    {
     "data": {
      "text/plain": [
       "array([4, 5, 6, 7, 8])"
      ]
     },
     "execution_count": 230,
     "metadata": {},
     "output_type": "execute_result"
    }
   ],
   "source": [
    "JJ"
   ]
  },
  {
   "cell_type": "code",
   "execution_count": 233,
   "id": "8fcda1ae-82fa-416e-b9d9-5a128936dce6",
   "metadata": {},
   "outputs": [],
   "source": [
    "j1 = np.array([[1,1],\n",
    "              [2,2]])\n",
    "j2 = np.array([[3,3],\n",
    "              [4,4]])"
   ]
  },
  {
   "cell_type": "code",
   "execution_count": 234,
   "id": "88d8b792-711d-45a0-8c63-37f3ac28ec80",
   "metadata": {},
   "outputs": [
    {
     "data": {
      "text/plain": [
       "array([[1, 1],\n",
       "       [2, 2]])"
      ]
     },
     "execution_count": 234,
     "metadata": {},
     "output_type": "execute_result"
    }
   ],
   "source": [
    "j1"
   ]
  },
  {
   "cell_type": "code",
   "execution_count": 235,
   "id": "0868448d-19f3-49a1-95d5-6c1f04ca865e",
   "metadata": {},
   "outputs": [
    {
     "data": {
      "text/plain": [
       "array([[3, 3],\n",
       "       [4, 4]])"
      ]
     },
     "execution_count": 235,
     "metadata": {},
     "output_type": "execute_result"
    }
   ],
   "source": [
    "j2"
   ]
  },
  {
   "cell_type": "code",
   "execution_count": 237,
   "id": "a6111c53-1971-46bb-95b1-7cec082b2e75",
   "metadata": {},
   "outputs": [
    {
     "data": {
      "text/plain": [
       "array([[1, 1],\n",
       "       [2, 2],\n",
       "       [3, 3],\n",
       "       [4, 4]])"
      ]
     },
     "execution_count": 237,
     "metadata": {},
     "output_type": "execute_result"
    }
   ],
   "source": [
    "np.vstack((j1,j2)) #j1, j2 배열을 수직으로 쌓아줘"
   ]
  },
  {
   "cell_type": "code",
   "execution_count": 239,
   "id": "8f22ac01-25d3-4c02-8944-424e41281625",
   "metadata": {},
   "outputs": [
    {
     "data": {
      "text/plain": [
       "array([[1, 1, 3, 3],\n",
       "       [2, 2, 4, 4]])"
      ]
     },
     "execution_count": 239,
     "metadata": {},
     "output_type": "execute_result"
    }
   ],
   "source": [
    "np.hstack((j1,j2)) #j1, j2 배열을 수평으로 쌓아줘"
   ]
  },
  {
   "cell_type": "code",
   "execution_count": 243,
   "id": "1dfa4434-d738-45e4-af74-2e060aba01fc",
   "metadata": {},
   "outputs": [],
   "source": [
    "k = np.arange(1, 25).reshape(2,12)"
   ]
  },
  {
   "cell_type": "code",
   "execution_count": 244,
   "id": "87c75e1d-d58d-4e69-9348-e0af8e965cac",
   "metadata": {},
   "outputs": [
    {
     "data": {
      "text/plain": [
       "array([[ 1,  2,  3,  4,  5,  6,  7,  8,  9, 10, 11, 12],\n",
       "       [13, 14, 15, 16, 17, 18, 19, 20, 21, 22, 23, 24]])"
      ]
     },
     "execution_count": 244,
     "metadata": {},
     "output_type": "execute_result"
    }
   ],
   "source": [
    "k"
   ]
  },
  {
   "cell_type": "code",
   "execution_count": 248,
   "id": "d4555164-7af1-42ce-8153-6c95cea533cb",
   "metadata": {},
   "outputs": [
    {
     "data": {
      "text/plain": [
       "[array([[ 1,  2,  3,  4],\n",
       "        [13, 14, 15, 16]]),\n",
       " array([[ 5,  6,  7,  8],\n",
       "        [17, 18, 19, 20]]),\n",
       " array([[ 9, 10, 11, 12],\n",
       "        [21, 22, 23, 24]])]"
      ]
     },
     "execution_count": 248,
     "metadata": {},
     "output_type": "execute_result"
    }
   ],
   "source": [
    "np.hsplit(k,3) #k배열을 동일한 모양의 배열 3개로 분할해줘"
   ]
  },
  {
   "cell_type": "code",
   "execution_count": 249,
   "id": "69c1378f-ef0b-49e3-8b18-ff8dde820c4b",
   "metadata": {},
   "outputs": [
    {
     "data": {
      "text/plain": [
       "[array([[ 1,  2,  3],\n",
       "        [13, 14, 15]]),\n",
       " array([[ 4],\n",
       "        [16]]),\n",
       " array([[ 5,  6,  7,  8,  9, 10, 11, 12],\n",
       "        [17, 18, 19, 20, 21, 22, 23, 24]])]"
      ]
     },
     "execution_count": 249,
     "metadata": {},
     "output_type": "execute_result"
    }
   ],
   "source": [
    "np.hsplit(k, (3,4)) #k배열을 세 번째와 네 번째 열 이후에 분할해줘"
   ]
  },
  {
   "cell_type": "code",
   "execution_count": 254,
   "id": "41f2a5ad-d591-4594-8369-09d5023c4994",
   "metadata": {},
   "outputs": [],
   "source": [
    "l = np.array([[1,2,3,4], [5,6,7,8], [9,10,11,12]])"
   ]
  },
  {
   "cell_type": "code",
   "execution_count": 262,
   "id": "c04e8b8c-9ca4-46d1-96d2-6bb0973f4267",
   "metadata": {},
   "outputs": [],
   "source": [
    "l1 = l[0, :] #l1은 l배열을 슬라이스한"
   ]
  },
  {
   "cell_type": "code",
   "execution_count": 259,
   "id": "227a9699-efd9-4215-99b6-5b39b113177b",
   "metadata": {},
   "outputs": [
    {
     "data": {
      "text/plain": [
       "array([1, 2, 3, 4])"
      ]
     },
     "execution_count": 259,
     "metadata": {},
     "output_type": "execute_result"
    }
   ],
   "source": [
    "l1"
   ]
  },
  {
   "cell_type": "code",
   "execution_count": 267,
   "id": "831c7b56-73d6-4167-a32b-ee6e81e660a8",
   "metadata": {},
   "outputs": [],
   "source": [
    "l1[0] = 99 #l1의 첫번쨰 인덱스를 99로 바꿔줘 --> l의 첫번째 인덱스도 바뀜"
   ]
  },
  {
   "cell_type": "code",
   "execution_count": 261,
   "id": "77060729-73b7-4858-bc20-f7df4171f215",
   "metadata": {},
   "outputs": [
    {
     "data": {
      "text/plain": [
       "array([99,  2,  3,  4])"
      ]
     },
     "execution_count": 261,
     "metadata": {},
     "output_type": "execute_result"
    }
   ],
   "source": [
    "l1"
   ]
  },
  {
   "cell_type": "code",
   "execution_count": 265,
   "id": "be2b576d-871e-4435-a317-884da2903a28",
   "metadata": {},
   "outputs": [
    {
     "data": {
      "text/plain": [
       "array([[99,  2,  3,  4],\n",
       "       [ 5,  6,  7,  8],\n",
       "       [ 9, 10, 11, 12]])"
      ]
     },
     "execution_count": 265,
     "metadata": {},
     "output_type": "execute_result"
    }
   ],
   "source": [
    "l"
   ]
  },
  {
   "cell_type": "code",
   "execution_count": 269,
   "id": "fcb7f9f7-2f0d-479c-9fb9-ccc2240a1ab1",
   "metadata": {},
   "outputs": [],
   "source": [
    "l2 = l.copy() #copy 매서드로 카피"
   ]
  },
  {
   "cell_type": "code",
   "execution_count": null,
   "id": "dd702866-afa5-4e31-985a-216c44061551",
   "metadata": {},
   "outputs": [],
   "source": []
  },
  {
   "cell_type": "code",
   "execution_count": 307,
   "id": "be52adbc-01a8-4b41-966f-58831396cf2f",
   "metadata": {},
   "outputs": [],
   "source": [
    "#8. 기본 배열 연산 (m, n, o, p)"
   ]
  },
  {
   "cell_type": "code",
   "execution_count": 284,
   "id": "f4a84a28-f096-4d14-b8ab-4eb07e6fdbd6",
   "metadata": {},
   "outputs": [],
   "source": [
    "m = np.array([1,2])"
   ]
  },
  {
   "cell_type": "code",
   "execution_count": 285,
   "id": "49d8598a-901e-4661-ade5-488bca773fd2",
   "metadata": {},
   "outputs": [],
   "source": [
    "n = np.ones(2)"
   ]
  },
  {
   "cell_type": "code",
   "execution_count": 305,
   "id": "5e933461-33f5-4ff3-bc56-400c68be2bde",
   "metadata": {},
   "outputs": [
    {
     "data": {
      "text/plain": [
       "array([1, 2])"
      ]
     },
     "execution_count": 305,
     "metadata": {},
     "output_type": "execute_result"
    }
   ],
   "source": [
    "m"
   ]
  },
  {
   "cell_type": "code",
   "execution_count": 306,
   "id": "36e7847c-2847-494f-98df-7fdbcf2da7f3",
   "metadata": {},
   "outputs": [
    {
     "data": {
      "text/plain": [
       "array([1, 1])"
      ]
     },
     "execution_count": 306,
     "metadata": {},
     "output_type": "execute_result"
    }
   ],
   "source": [
    "n"
   ]
  },
  {
   "cell_type": "code",
   "execution_count": 288,
   "id": "5145775a-7352-4a1c-b640-bffbe30e4d1b",
   "metadata": {},
   "outputs": [],
   "source": [
    "n = np.ones(2, dtype=int) #정수로 바꿔줘~"
   ]
  },
  {
   "cell_type": "code",
   "execution_count": 292,
   "id": "26f3bed3-fe53-4d70-8d3c-0358538d40e4",
   "metadata": {},
   "outputs": [],
   "source": [
    "o1 = m + n"
   ]
  },
  {
   "cell_type": "code",
   "execution_count": 293,
   "id": "86715987-4cdf-4c84-b78b-09dc879c46a9",
   "metadata": {},
   "outputs": [
    {
     "data": {
      "text/plain": [
       "array([2, 3])"
      ]
     },
     "execution_count": 293,
     "metadata": {},
     "output_type": "execute_result"
    }
   ],
   "source": [
    "o1"
   ]
  },
  {
   "cell_type": "code",
   "execution_count": 294,
   "id": "15c0aced-fe04-4abd-9a3e-f98da0176d82",
   "metadata": {},
   "outputs": [],
   "source": [
    "o2 = m - n"
   ]
  },
  {
   "cell_type": "code",
   "execution_count": 295,
   "id": "4dc53aa4-77ff-4a3d-8a99-04abb37bb017",
   "metadata": {},
   "outputs": [
    {
     "data": {
      "text/plain": [
       "array([0, 1])"
      ]
     },
     "execution_count": 295,
     "metadata": {},
     "output_type": "execute_result"
    }
   ],
   "source": [
    "o2"
   ]
  },
  {
   "cell_type": "code",
   "execution_count": 296,
   "id": "c1300eb1-5530-4be9-ba3d-e868524e5343",
   "metadata": {},
   "outputs": [],
   "source": [
    "o3 = m * m"
   ]
  },
  {
   "cell_type": "code",
   "execution_count": 297,
   "id": "885f93bb-1953-4d3b-a158-8f24ca82fd0e",
   "metadata": {},
   "outputs": [
    {
     "data": {
      "text/plain": [
       "array([1, 4])"
      ]
     },
     "execution_count": 297,
     "metadata": {},
     "output_type": "execute_result"
    }
   ],
   "source": [
    "o3"
   ]
  },
  {
   "cell_type": "code",
   "execution_count": 303,
   "id": "5506a662-dd98-444b-aa2e-9be4b1a1e093",
   "metadata": {},
   "outputs": [],
   "source": [
    "o4 = m / m"
   ]
  },
  {
   "cell_type": "code",
   "execution_count": 304,
   "id": "fe9dd2d6-8b70-4972-958b-a89c49a0971a",
   "metadata": {},
   "outputs": [
    {
     "data": {
      "text/plain": [
       "array([1., 1.])"
      ]
     },
     "execution_count": 304,
     "metadata": {},
     "output_type": "execute_result"
    }
   ],
   "source": [
    "o4"
   ]
  },
  {
   "cell_type": "code",
   "execution_count": 312,
   "id": "e184d0e1-eaf1-48cc-8658-6ef1d94c928d",
   "metadata": {},
   "outputs": [],
   "source": [
    "p1 = np.array([1,2,3,4])"
   ]
  },
  {
   "cell_type": "code",
   "execution_count": 313,
   "id": "794152de-1305-4804-bc05-7b4a2df9ea83",
   "metadata": {},
   "outputs": [
    {
     "data": {
      "text/plain": [
       "10"
      ]
     },
     "execution_count": 313,
     "metadata": {},
     "output_type": "execute_result"
    }
   ],
   "source": [
    "p1.sum()"
   ]
  },
  {
   "cell_type": "code",
   "execution_count": 315,
   "id": "cdc04f19-bea0-441b-944d-8129813211fd",
   "metadata": {},
   "outputs": [],
   "source": [
    "p2 = np.array([[1,1], [2,2]])"
   ]
  },
  {
   "cell_type": "code",
   "execution_count": 316,
   "id": "b7925d6d-8cbb-47c4-b47a-61950c57be00",
   "metadata": {},
   "outputs": [
    {
     "data": {
      "text/plain": [
       "6"
      ]
     },
     "execution_count": 316,
     "metadata": {},
     "output_type": "execute_result"
    }
   ],
   "source": [
    "p2.sum()"
   ]
  },
  {
   "cell_type": "code",
   "execution_count": 320,
   "id": "f5a7b48b-fc91-4486-8bdc-50df4b4480d7",
   "metadata": {},
   "outputs": [
    {
     "data": {
      "text/plain": [
       "array([3, 3])"
      ]
     },
     "execution_count": 320,
     "metadata": {},
     "output_type": "execute_result"
    }
   ],
   "source": [
    "p2.sum(axis=0) #행축의 값을 합해줘 (axis=0은 행 축을 의미)"
   ]
  },
  {
   "cell_type": "code",
   "execution_count": 321,
   "id": "9c7da1a2-8a00-44cc-b07b-749230dd048c",
   "metadata": {},
   "outputs": [
    {
     "data": {
      "text/plain": [
       "array([2, 4])"
      ]
     },
     "execution_count": 321,
     "metadata": {},
     "output_type": "execute_result"
    }
   ],
   "source": [
    "p2.sum(axis=1) #열축의 값을 합해줘 (axis=1은 열 축을 의미)"
   ]
  },
  {
   "cell_type": "code",
   "execution_count": null,
   "id": "cdae0161-560c-4dc7-b182-518169c92cb4",
   "metadata": {},
   "outputs": [],
   "source": []
  },
  {
   "cell_type": "code",
   "execution_count": 322,
   "id": "8a0eaf3b-2a40-422d-94fe-193f32a337fe",
   "metadata": {},
   "outputs": [],
   "source": [
    "#9. Broadcasting (q, r)"
   ]
  },
  {
   "cell_type": "code",
   "execution_count": 323,
   "id": "8a4ce658-ed57-4245-86aa-37c5c9db0799",
   "metadata": {},
   "outputs": [],
   "source": [
    "q = np.array([1.0, 2.0])"
   ]
  },
  {
   "cell_type": "code",
   "execution_count": 325,
   "id": "26f8e68c-d782-4009-bf63-082fe169a495",
   "metadata": {},
   "outputs": [
    {
     "data": {
      "text/plain": [
       "array([1.6, 3.2])"
      ]
     },
     "execution_count": 325,
     "metadata": {},
     "output_type": "execute_result"
    }
   ],
   "source": [
    "q * 1.6"
   ]
  },
  {
   "cell_type": "code",
   "execution_count": 327,
   "id": "085a0f53-5b3b-4034-a784-612e1d7eb682",
   "metadata": {},
   "outputs": [
    {
     "data": {
      "text/plain": [
       "2.0"
      ]
     },
     "execution_count": 327,
     "metadata": {},
     "output_type": "execute_result"
    }
   ],
   "source": [
    "q.max()"
   ]
  },
  {
   "cell_type": "code",
   "execution_count": 328,
   "id": "6dc7cbac-062b-40d0-bce0-7f942b31d4be",
   "metadata": {},
   "outputs": [
    {
     "data": {
      "text/plain": [
       "1.0"
      ]
     },
     "execution_count": 328,
     "metadata": {},
     "output_type": "execute_result"
    }
   ],
   "source": [
    "q.min()"
   ]
  },
  {
   "cell_type": "code",
   "execution_count": 331,
   "id": "81a2c5ca-f3a7-40f0-85d7-600c3a5d68be",
   "metadata": {},
   "outputs": [
    {
     "data": {
      "text/plain": [
       "3.0"
      ]
     },
     "execution_count": 331,
     "metadata": {},
     "output_type": "execute_result"
    }
   ],
   "source": [
    "q.sum()"
   ]
  },
  {
   "cell_type": "code",
   "execution_count": 332,
   "id": "66a6c79a-2d07-4058-b595-814cfaf0f0f0",
   "metadata": {},
   "outputs": [],
   "source": [
    "r = np.array([[0.45053314, 0.17296777, 0.34376245, 0.5510652],\n",
    "              [0.54627315, 0.05093587, 0.40067661, 0.55645993],\n",
    "              [0.12697628, 0.82485143, 0.26590556, 0.56917101]])"
   ]
  },
  {
   "cell_type": "code",
   "execution_count": 333,
   "id": "2b9e9567-f990-49a6-8145-e9e1bec4606a",
   "metadata": {},
   "outputs": [
    {
     "data": {
      "text/plain": [
       "4.8595784"
      ]
     },
     "execution_count": 333,
     "metadata": {},
     "output_type": "execute_result"
    }
   ],
   "source": [
    "r.sum()"
   ]
  },
  {
   "cell_type": "code",
   "execution_count": 334,
   "id": "49d02f3a-6242-4869-b656-0b44a67749ee",
   "metadata": {},
   "outputs": [
    {
     "data": {
      "text/plain": [
       "0.82485143"
      ]
     },
     "execution_count": 334,
     "metadata": {},
     "output_type": "execute_result"
    }
   ],
   "source": [
    "r.max()"
   ]
  },
  {
   "cell_type": "code",
   "execution_count": 335,
   "id": "a79864b1-8787-474f-b6ef-d717acc8695a",
   "metadata": {},
   "outputs": [
    {
     "data": {
      "text/plain": [
       "0.05093587"
      ]
     },
     "execution_count": 335,
     "metadata": {},
     "output_type": "execute_result"
    }
   ],
   "source": [
    "r.min()"
   ]
  },
  {
   "cell_type": "code",
   "execution_count": 337,
   "id": "74c9aeac-6766-4708-8f04-03b728df3375",
   "metadata": {},
   "outputs": [
    {
     "data": {
      "text/plain": [
       "array([0.12697628, 0.05093587, 0.26590556, 0.5510652 ])"
      ]
     },
     "execution_count": 337,
     "metadata": {},
     "output_type": "execute_result"
    }
   ],
   "source": [
    "r.min(axis=0) #각 행을 기준으로 최소값을 알려줘"
   ]
  },
  {
   "cell_type": "code",
   "execution_count": 339,
   "id": "15cea8b7-4944-4510-a6f7-9c42c6625b1a",
   "metadata": {},
   "outputs": [
    {
     "data": {
      "text/plain": [
       "array([0.5510652 , 0.55645993, 0.82485143])"
      ]
     },
     "execution_count": 339,
     "metadata": {},
     "output_type": "execute_result"
    }
   ],
   "source": [
    "r.max(axis=1) #각 열을 기준으로 최대값을 알려줘"
   ]
  },
  {
   "cell_type": "code",
   "execution_count": null,
   "id": "ba0a64cd-4041-4872-b46a-779ea05a208b",
   "metadata": {},
   "outputs": [],
   "source": []
  },
  {
   "cell_type": "code",
   "execution_count": 340,
   "id": "196ae24d-1ba8-4179-b74e-a03ee2f9765f",
   "metadata": {},
   "outputs": [],
   "source": [
    "#10. 행렬생성 (s, t)"
   ]
  },
  {
   "cell_type": "code",
   "execution_count": 341,
   "id": "8f1844bc-16dc-4a67-8938-b4d17b3ed4c3",
   "metadata": {},
   "outputs": [],
   "source": [
    "s = np.array([[1,2], [3,4], [5,6], [7,8]])"
   ]
  },
  {
   "cell_type": "code",
   "execution_count": 343,
   "id": "3d05fd8d-0d34-41f6-9759-f152bfb17f9b",
   "metadata": {},
   "outputs": [
    {
     "data": {
      "text/plain": [
       "2"
      ]
     },
     "execution_count": 343,
     "metadata": {},
     "output_type": "execute_result"
    }
   ],
   "source": [
    "s[0,1]"
   ]
  },
  {
   "cell_type": "code",
   "execution_count": 344,
   "id": "55ea14ab-79df-43b8-a1e2-0677effea335",
   "metadata": {},
   "outputs": [
    {
     "data": {
      "text/plain": [
       "array([[1, 2]])"
      ]
     },
     "execution_count": 344,
     "metadata": {},
     "output_type": "execute_result"
    }
   ],
   "source": [
    "s[0:1]"
   ]
  },
  {
   "cell_type": "code",
   "execution_count": 345,
   "id": "80929b0f-e0a1-4d82-bbca-9636184533b9",
   "metadata": {},
   "outputs": [
    {
     "data": {
      "text/plain": [
       "array([1])"
      ]
     },
     "execution_count": 345,
     "metadata": {},
     "output_type": "execute_result"
    }
   ],
   "source": [
    "s[0, 0:1]"
   ]
  },
  {
   "cell_type": "code",
   "execution_count": 346,
   "id": "04aee466-bbfe-4637-92f1-0f8845ee75f1",
   "metadata": {},
   "outputs": [
    {
     "data": {
      "text/plain": [
       "8"
      ]
     },
     "execution_count": 346,
     "metadata": {},
     "output_type": "execute_result"
    }
   ],
   "source": [
    "s.max()"
   ]
  },
  {
   "cell_type": "code",
   "execution_count": 347,
   "id": "b4331e87-7a36-412b-b387-8013a55381cb",
   "metadata": {},
   "outputs": [
    {
     "data": {
      "text/plain": [
       "1"
      ]
     },
     "execution_count": 347,
     "metadata": {},
     "output_type": "execute_result"
    }
   ],
   "source": [
    "s.min()"
   ]
  },
  {
   "cell_type": "code",
   "execution_count": 349,
   "id": "2f332c05-006b-47dc-a7c8-2cfa7f59e47e",
   "metadata": {},
   "outputs": [
    {
     "data": {
      "text/plain": [
       "36"
      ]
     },
     "execution_count": 349,
     "metadata": {},
     "output_type": "execute_result"
    }
   ],
   "source": [
    "s.sum()"
   ]
  },
  {
   "cell_type": "code",
   "execution_count": 350,
   "id": "092d3bf1-527b-4d75-8eb1-aca4dbd8c403",
   "metadata": {},
   "outputs": [
    {
     "data": {
      "text/plain": [
       "array([2, 4, 6, 8])"
      ]
     },
     "execution_count": 350,
     "metadata": {},
     "output_type": "execute_result"
    }
   ],
   "source": [
    "s.max(axis=1)"
   ]
  },
  {
   "cell_type": "code",
   "execution_count": 351,
   "id": "1edf9b83-13ae-4b5d-b78f-d898d2463abf",
   "metadata": {},
   "outputs": [
    {
     "data": {
      "text/plain": [
       "array([1, 2])"
      ]
     },
     "execution_count": 351,
     "metadata": {},
     "output_type": "execute_result"
    }
   ],
   "source": [
    "s.min(axis=0)"
   ]
  },
  {
   "cell_type": "code",
   "execution_count": 355,
   "id": "85214a27-d1c8-4d0d-843c-c404feb62b02",
   "metadata": {},
   "outputs": [],
   "source": [
    "t1 = np.ones(3)"
   ]
  },
  {
   "cell_type": "code",
   "execution_count": 356,
   "id": "f5e54821-d653-40db-a02a-e3085ceee81e",
   "metadata": {},
   "outputs": [
    {
     "data": {
      "text/plain": [
       "array([1., 1., 1.])"
      ]
     },
     "execution_count": 356,
     "metadata": {},
     "output_type": "execute_result"
    }
   ],
   "source": [
    "t1"
   ]
  },
  {
   "cell_type": "code",
   "execution_count": 357,
   "id": "9e580f6e-05bd-49ab-85fd-1bd989967156",
   "metadata": {},
   "outputs": [],
   "source": [
    "t2 = np.zeros(3)"
   ]
  },
  {
   "cell_type": "code",
   "execution_count": 358,
   "id": "df91ee88-39fd-46b1-a856-68337b311497",
   "metadata": {},
   "outputs": [
    {
     "data": {
      "text/plain": [
       "array([0., 0., 0.])"
      ]
     },
     "execution_count": 358,
     "metadata": {},
     "output_type": "execute_result"
    }
   ],
   "source": [
    "t2"
   ]
  },
  {
   "cell_type": "code",
   "execution_count": 362,
   "id": "371589ba-62d9-4d22-b2a0-4dd973a87192",
   "metadata": {},
   "outputs": [],
   "source": [
    "t3 = np.random.default_rng()"
   ]
  },
  {
   "cell_type": "code",
   "execution_count": 364,
   "id": "9b530e60-7ce1-40b0-b880-50d78b116aa9",
   "metadata": {},
   "outputs": [
    {
     "data": {
      "text/plain": [
       "array([0.54266284, 0.52950188, 0.20000777])"
      ]
     },
     "execution_count": 364,
     "metadata": {},
     "output_type": "execute_result"
    }
   ],
   "source": [
    "t3.random(3)"
   ]
  },
  {
   "cell_type": "code",
   "execution_count": 369,
   "id": "d4f47b5a-df2c-443d-8217-ff99777a4831",
   "metadata": {},
   "outputs": [],
   "source": [
    "#11. 난수생성"
   ]
  },
  {
   "cell_type": "code",
   "execution_count": 368,
   "id": "e0f48658-79e8-4aae-8315-d00cbbe0c213",
   "metadata": {},
   "outputs": [
    {
     "data": {
      "text/plain": [
       "array([[1, 4, 3, 0],\n",
       "       [0, 3, 3, 3]], dtype=int64)"
      ]
     },
     "execution_count": 368,
     "metadata": {},
     "output_type": "execute_result"
    }
   ],
   "source": [
    "t3.integers(5, size=(2, 4))"
   ]
  },
  {
   "cell_type": "code",
   "execution_count": null,
   "id": "0ceb4918-c3a7-470f-9e54-057f0dcc84bd",
   "metadata": {},
   "outputs": [],
   "source": []
  },
  {
   "cell_type": "code",
   "execution_count": 389,
   "id": "344a03d9-be8a-4010-8914-215cad0010f3",
   "metadata": {},
   "outputs": [],
   "source": [
    "#12. 고유힌 아이템과 갯수 (u)"
   ]
  },
  {
   "cell_type": "code",
   "execution_count": 374,
   "id": "7e10f596-8a3b-4dd8-9fb9-e2f13ef49f5c",
   "metadata": {},
   "outputs": [],
   "source": [
    "u = np.array([11, 11, 12, 13, 14, 15, 16, 17, 12, 13, 11, 14, 18, 19, 20])"
   ]
  },
  {
   "cell_type": "code",
   "execution_count": 375,
   "id": "70b3640b-b974-49f2-82af-f87b20b508eb",
   "metadata": {},
   "outputs": [
    {
     "data": {
      "text/plain": [
       "array([11, 11, 12, 13, 14, 15, 16, 17, 12, 13, 11, 14, 18, 19, 20])"
      ]
     },
     "execution_count": 375,
     "metadata": {},
     "output_type": "execute_result"
    }
   ],
   "source": [
    "u"
   ]
  },
  {
   "cell_type": "code",
   "execution_count": 381,
   "id": "802b8a34-7f98-426c-86e6-b8b57ee57581",
   "metadata": {},
   "outputs": [],
   "source": [
    "u1 = np.unique(u) #고유한(중복되지 않은) 아이템만 추출"
   ]
  },
  {
   "cell_type": "code",
   "execution_count": 382,
   "id": "a343ff65-cd5d-4c9f-9789-45dc07eaa96f",
   "metadata": {},
   "outputs": [
    {
     "data": {
      "text/plain": [
       "array([11, 12, 13, 14, 15, 16, 17, 18, 19, 20])"
      ]
     },
     "execution_count": 382,
     "metadata": {},
     "output_type": "execute_result"
    }
   ],
   "source": [
    "u1"
   ]
  },
  {
   "cell_type": "code",
   "execution_count": 386,
   "id": "1d653282-b70a-4a6a-8c1b-2b638b585a14",
   "metadata": {},
   "outputs": [],
   "source": [
    "u1, u2 = np.unique(u, return_index=True)"
   ]
  },
  {
   "cell_type": "code",
   "execution_count": 387,
   "id": "56f5597d-9bcc-4c8f-aaad-04d19ee5fec2",
   "metadata": {},
   "outputs": [
    {
     "data": {
      "text/plain": [
       "array([ 0,  2,  3,  4,  5,  6,  7, 12, 13, 14], dtype=int64)"
      ]
     },
     "execution_count": 387,
     "metadata": {},
     "output_type": "execute_result"
    }
   ],
   "source": [
    "u2"
   ]
  },
  {
   "cell_type": "code",
   "execution_count": 388,
   "id": "8622af94-2857-4fb3-98e5-d56b52465fb9",
   "metadata": {},
   "outputs": [],
   "source": [
    "u1, u3 = np.unique(u, return_counts=True)"
   ]
  },
  {
   "cell_type": "code",
   "execution_count": null,
   "id": "86a2ba92-264b-46d8-8861-22a4e4fe666c",
   "metadata": {},
   "outputs": [],
   "source": []
  },
  {
   "cell_type": "code",
   "execution_count": 402,
   "id": "dda2c33e-d27f-4d45-aea3-89fa656bd4bd",
   "metadata": {},
   "outputs": [],
   "source": [
    "#13. 행렬 전치 및 형태 변경 (v)"
   ]
  },
  {
   "cell_type": "code",
   "execution_count": 391,
   "id": "5b784ef7-be7a-4559-8241-333827625fde",
   "metadata": {},
   "outputs": [],
   "source": [
    "v = np.array([[1,2], [3,4], [5,6]])"
   ]
  },
  {
   "cell_type": "code",
   "execution_count": 392,
   "id": "125a70ef-15b0-430e-81d3-2e8fccc8434b",
   "metadata": {},
   "outputs": [
    {
     "data": {
      "text/plain": [
       "array([[1, 2],\n",
       "       [3, 4],\n",
       "       [5, 6]])"
      ]
     },
     "execution_count": 392,
     "metadata": {},
     "output_type": "execute_result"
    }
   ],
   "source": [
    "v"
   ]
  },
  {
   "cell_type": "code",
   "execution_count": 393,
   "id": "e3eb7788-e402-4fcd-a4de-591813a857ff",
   "metadata": {},
   "outputs": [],
   "source": [
    "v1 = v.reshape(2,3)"
   ]
  },
  {
   "cell_type": "code",
   "execution_count": 394,
   "id": "5be895d1-5724-4b45-b6ec-b35cd676a5e8",
   "metadata": {},
   "outputs": [
    {
     "data": {
      "text/plain": [
       "array([[1, 2, 3],\n",
       "       [4, 5, 6]])"
      ]
     },
     "execution_count": 394,
     "metadata": {},
     "output_type": "execute_result"
    }
   ],
   "source": [
    "v1"
   ]
  },
  {
   "cell_type": "code",
   "execution_count": 395,
   "id": "0e482555-d7b8-4700-9da5-30ec4e1db5a8",
   "metadata": {},
   "outputs": [],
   "source": [
    "v2 = v1.reshape(3,2)"
   ]
  },
  {
   "cell_type": "code",
   "execution_count": 396,
   "id": "edb42036-aca4-4d31-b9d8-8afad8a4c7e8",
   "metadata": {},
   "outputs": [
    {
     "data": {
      "text/plain": [
       "array([[1, 2],\n",
       "       [3, 4],\n",
       "       [5, 6]])"
      ]
     },
     "execution_count": 396,
     "metadata": {},
     "output_type": "execute_result"
    }
   ],
   "source": [
    "v2"
   ]
  },
  {
   "cell_type": "code",
   "execution_count": 397,
   "id": "141d1f6e-8cde-4d7e-b782-2177a9fedf97",
   "metadata": {},
   "outputs": [],
   "source": [
    "v3 = v.transpose()"
   ]
  },
  {
   "cell_type": "code",
   "execution_count": 398,
   "id": "06226d61-95cf-4c73-9889-353b21429b76",
   "metadata": {},
   "outputs": [
    {
     "data": {
      "text/plain": [
       "array([[1, 3, 5],\n",
       "       [2, 4, 6]])"
      ]
     },
     "execution_count": 398,
     "metadata": {},
     "output_type": "execute_result"
    }
   ],
   "source": [
    "v3"
   ]
  },
  {
   "cell_type": "code",
   "execution_count": 400,
   "id": "3203a582-3eea-4c18-888f-30e0fe5ac512",
   "metadata": {},
   "outputs": [],
   "source": [
    "v4 = v.T"
   ]
  },
  {
   "cell_type": "code",
   "execution_count": 401,
   "id": "6856e340-0e4c-4b28-b01b-6b4a5c578d36",
   "metadata": {},
   "outputs": [
    {
     "data": {
      "text/plain": [
       "array([[1, 3, 5],\n",
       "       [2, 4, 6]])"
      ]
     },
     "execution_count": 401,
     "metadata": {},
     "output_type": "execute_result"
    }
   ],
   "source": [
    "v4"
   ]
  },
  {
   "cell_type": "code",
   "execution_count": null,
   "id": "17971009-0f85-470c-888f-1a77a93fc099",
   "metadata": {},
   "outputs": [],
   "source": []
  },
  {
   "cell_type": "code",
   "execution_count": 404,
   "id": "c5e687ce-b74c-4c55-9e3a-58bd78fd2bff",
   "metadata": {},
   "outputs": [],
   "source": [
    "#14. 배열을 뒤집는 방법 (w)"
   ]
  },
  {
   "cell_type": "code",
   "execution_count": 413,
   "id": "ee178a04-a6c3-4667-95ff-f1ebbf32ddcb",
   "metadata": {},
   "outputs": [],
   "source": [
    "w = np.arange(1,9) #==array([1,2,3,4,5,6,7,8])"
   ]
  },
  {
   "cell_type": "code",
   "execution_count": 412,
   "id": "8b53796c-2004-4173-9a0d-699b8cc6437b",
   "metadata": {},
   "outputs": [
    {
     "data": {
      "text/plain": [
       "array([1, 2, 3, 4, 5, 6, 7, 8])"
      ]
     },
     "execution_count": 412,
     "metadata": {},
     "output_type": "execute_result"
    }
   ],
   "source": [
    "w"
   ]
  },
  {
   "cell_type": "code",
   "execution_count": 414,
   "id": "479d315f-491c-4458-8ad4-d641fd4405a9",
   "metadata": {},
   "outputs": [],
   "source": [
    "w1 = np.flip(w)"
   ]
  },
  {
   "cell_type": "code",
   "execution_count": 415,
   "id": "ee1695e8-12cb-4c91-934b-d26b8dd71c30",
   "metadata": {},
   "outputs": [
    {
     "data": {
      "text/plain": [
       "array([8, 7, 6, 5, 4, 3, 2, 1])"
      ]
     },
     "execution_count": 415,
     "metadata": {},
     "output_type": "execute_result"
    }
   ],
   "source": [
    "w1"
   ]
  },
  {
   "cell_type": "code",
   "execution_count": null,
   "id": "245feaa2-b80a-427c-bd65-c407b4aa1de1",
   "metadata": {},
   "outputs": [],
   "source": []
  },
  {
   "cell_type": "code",
   "execution_count": 417,
   "id": "ef077bb2-58b3-421f-a2ef-5dd3b124a86b",
   "metadata": {},
   "outputs": [],
   "source": [
    "#15. 다차원 배열 재구성 및 평면화 (x)"
   ]
  },
  {
   "cell_type": "code",
   "execution_count": 420,
   "id": "69e53440-b17a-45a1-b8eb-1f7f00aae7e8",
   "metadata": {},
   "outputs": [],
   "source": [
    "x = np.array([[1,2,3,4], [5,6,7,8], [9,10,11,12]])"
   ]
  },
  {
   "cell_type": "code",
   "execution_count": 421,
   "id": "76036269-e100-4a70-b245-3a162ec60278",
   "metadata": {},
   "outputs": [],
   "source": [
    "x1 = x.flatten()"
   ]
  },
  {
   "cell_type": "code",
   "execution_count": 422,
   "id": "44925bcd-c843-40b8-866d-faa64b2d71e6",
   "metadata": {},
   "outputs": [
    {
     "data": {
      "text/plain": [
       "array([ 1,  2,  3,  4,  5,  6,  7,  8,  9, 10, 11, 12])"
      ]
     },
     "execution_count": 422,
     "metadata": {},
     "output_type": "execute_result"
    }
   ],
   "source": [
    "x1"
   ]
  },
  {
   "cell_type": "code",
   "execution_count": 423,
   "id": "22ac2ae5-868c-4e01-9de7-39d5477b62bf",
   "metadata": {},
   "outputs": [],
   "source": [
    "x1[0] = 99"
   ]
  },
  {
   "cell_type": "code",
   "execution_count": 424,
   "id": "000e9343-972a-4d4b-892b-1c023f883b14",
   "metadata": {},
   "outputs": [
    {
     "data": {
      "text/plain": [
       "array([99,  2,  3,  4,  5,  6,  7,  8,  9, 10, 11, 12])"
      ]
     },
     "execution_count": 424,
     "metadata": {},
     "output_type": "execute_result"
    }
   ],
   "source": [
    "x1"
   ]
  },
  {
   "cell_type": "code",
   "execution_count": 425,
   "id": "85232053-c156-4b80-b191-c50ae31a6cc6",
   "metadata": {},
   "outputs": [],
   "source": [
    "x2 = x.ravel()"
   ]
  },
  {
   "cell_type": "code",
   "execution_count": 426,
   "id": "4e88107c-d45f-4bea-b302-7a8a055b1507",
   "metadata": {},
   "outputs": [
    {
     "data": {
      "text/plain": [
       "array([ 1,  2,  3,  4,  5,  6,  7,  8,  9, 10, 11, 12])"
      ]
     },
     "execution_count": 426,
     "metadata": {},
     "output_type": "execute_result"
    }
   ],
   "source": [
    "x2"
   ]
  },
  {
   "cell_type": "code",
   "execution_count": 427,
   "id": "68ac0eab-f10b-477b-8585-d0f2956c4973",
   "metadata": {},
   "outputs": [],
   "source": [
    "x2[0] = 88"
   ]
  },
  {
   "cell_type": "code",
   "execution_count": 428,
   "id": "08bc6248-3776-4804-997b-6ddc64ae7aed",
   "metadata": {},
   "outputs": [
    {
     "data": {
      "text/plain": [
       "array([88,  2,  3,  4,  5,  6,  7,  8,  9, 10, 11, 12])"
      ]
     },
     "execution_count": 428,
     "metadata": {},
     "output_type": "execute_result"
    }
   ],
   "source": [
    "x2"
   ]
  },
  {
   "cell_type": "code",
   "execution_count": null,
   "id": "5a21e965-6de4-4a7d-9bcc-139bbf5c01bd",
   "metadata": {},
   "outputs": [],
   "source": []
  }
 ],
 "metadata": {
  "kernelspec": {
   "display_name": "Python 3 (ipykernel)",
   "language": "python",
   "name": "python3"
  },
  "language_info": {
   "codemirror_mode": {
    "name": "ipython",
    "version": 3
   },
   "file_extension": ".py",
   "mimetype": "text/x-python",
   "name": "python",
   "nbconvert_exporter": "python",
   "pygments_lexer": "ipython3",
   "version": "3.11.5"
  }
 },
 "nbformat": 4,
 "nbformat_minor": 5
}
