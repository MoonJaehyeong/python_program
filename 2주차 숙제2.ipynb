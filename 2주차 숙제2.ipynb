{
 "cells": [
  {
   "cell_type": "code",
   "execution_count": 1,
   "id": "0e8a93bc-afa3-4542-b375-7abe43f0b1d3",
   "metadata": {},
   "outputs": [],
   "source": [
    "# 이름: 문재형\n",
    "# 학번: 2022177357"
   ]
  },
  {
   "cell_type": "code",
   "execution_count": null,
   "id": "c55b4846-344c-40a0-93f2-ac064fa179be",
   "metadata": {},
   "outputs": [],
   "source": []
  },
  {
   "cell_type": "code",
   "execution_count": null,
   "id": "4090a528-f264-4dd1-85ae-b533b548e302",
   "metadata": {},
   "outputs": [],
   "source": [
    "#Ex1"
   ]
  },
  {
   "cell_type": "code",
   "execution_count": 5,
   "id": "c01a0ad7-c77b-474e-b99f-ed67202cd535",
   "metadata": {},
   "outputs": [
    {
     "data": {
      "text/plain": [
       "'1'"
      ]
     },
     "execution_count": 5,
     "metadata": {},
     "output_type": "execute_result"
    }
   ],
   "source": [
    "A = \"1\"\n",
    "A"
   ]
  },
  {
   "cell_type": "code",
   "execution_count": null,
   "id": "a8a6b63f-4d2e-4b30-92f5-7fc2d0ae317f",
   "metadata": {},
   "outputs": [],
   "source": []
  },
  {
   "cell_type": "code",
   "execution_count": null,
   "id": "144e6965-d55a-490e-b21e-f8985f946294",
   "metadata": {},
   "outputs": [],
   "source": [
    "#Ex2"
   ]
  },
  {
   "cell_type": "code",
   "execution_count": 6,
   "id": "325561d8-3b32-4fbd-95d8-4f31b8a9e9c9",
   "metadata": {},
   "outputs": [
    {
     "data": {
      "text/plain": [
       "'2'"
      ]
     },
     "execution_count": 6,
     "metadata": {},
     "output_type": "execute_result"
    }
   ],
   "source": [
    "B = \"2\"\n",
    "B"
   ]
  },
  {
   "cell_type": "code",
   "execution_count": null,
   "id": "3d3eb46a-74f2-49a8-8473-987d12cee849",
   "metadata": {},
   "outputs": [],
   "source": []
  },
  {
   "cell_type": "code",
   "execution_count": null,
   "id": "19ef9cf1-b9d4-4c6b-a870-52b80dc65733",
   "metadata": {},
   "outputs": [],
   "source": [
    "#Ex3"
   ]
  },
  {
   "cell_type": "code",
   "execution_count": 8,
   "id": "6033492d-24de-4854-bb57-597bfa2dd0a9",
   "metadata": {},
   "outputs": [
    {
     "data": {
      "text/plain": [
       "'12'"
      ]
     },
     "execution_count": 8,
     "metadata": {},
     "output_type": "execute_result"
    }
   ],
   "source": [
    "C = A + B\n",
    "C"
   ]
  },
  {
   "cell_type": "code",
   "execution_count": null,
   "id": "28da377d-03dd-47ce-93a0-c143dd673526",
   "metadata": {},
   "outputs": [],
   "source": []
  },
  {
   "cell_type": "code",
   "execution_count": null,
   "id": "312eabe8-bf88-4f00-a51b-883c53fbdc44",
   "metadata": {},
   "outputs": [],
   "source": [
    "#Ex4"
   ]
  },
  {
   "cell_type": "code",
   "execution_count": 15,
   "id": "579d1b35-1edc-4cfd-9330-2cd0dfe281d9",
   "metadata": {},
   "outputs": [
    {
     "name": "stdout",
     "output_type": "stream",
     "text": [
      "ABC\n"
     ]
    }
   ],
   "source": [
    "D = \"ABCDEFG\"\n",
    "print(D[0:3])"
   ]
  },
  {
   "cell_type": "code",
   "execution_count": 14,
   "id": "900c53b0-f64f-4d44-8a4d-923b7841ff53",
   "metadata": {},
   "outputs": [
    {
     "data": {
      "text/plain": [
       "'ABC'"
      ]
     },
     "execution_count": 14,
     "metadata": {},
     "output_type": "execute_result"
    }
   ],
   "source": [
    "D[0:3]"
   ]
  },
  {
   "cell_type": "code",
   "execution_count": null,
   "id": "1801b046-e411-42b8-9f21-25cd78ade04a",
   "metadata": {},
   "outputs": [],
   "source": []
  },
  {
   "cell_type": "code",
   "execution_count": null,
   "id": "4f3964df-9baf-464a-9869-f2f59040c1ec",
   "metadata": {},
   "outputs": [],
   "source": [
    "#Ex5"
   ]
  },
  {
   "cell_type": "code",
   "execution_count": 19,
   "id": "ca857c2f-950b-487f-9190-44591e765454",
   "metadata": {},
   "outputs": [
    {
     "name": "stdout",
     "output_type": "stream",
     "text": [
      "correct\n"
     ]
    }
   ],
   "source": [
    "E = \"clocrkr1e1c1t\"\n",
    "print(E[::2])"
   ]
  },
  {
   "cell_type": "code",
   "execution_count": 18,
   "id": "f7b812a6-d3ab-40a8-8a80-baebfbf24e15",
   "metadata": {},
   "outputs": [
    {
     "data": {
      "text/plain": [
       "'correct'"
      ]
     },
     "execution_count": 18,
     "metadata": {},
     "output_type": "execute_result"
    }
   ],
   "source": [
    "E[::2]"
   ]
  },
  {
   "cell_type": "code",
   "execution_count": null,
   "id": "6c4c0637-f337-4e80-ab8e-c7b5d00b6dcf",
   "metadata": {},
   "outputs": [],
   "source": []
  },
  {
   "cell_type": "code",
   "execution_count": 20,
   "id": "93a54d9a-bbf9-429c-91e7-be00594ddcff",
   "metadata": {},
   "outputs": [],
   "source": [
    "#Ex6"
   ]
  },
  {
   "cell_type": "code",
   "execution_count": 26,
   "id": "b62ba06a-b3e6-4565-a64f-c56cbb971c53",
   "metadata": {},
   "outputs": [
    {
     "name": "stdout",
     "output_type": "stream",
     "text": [
      "\\\n"
     ]
    }
   ],
   "source": [
    "print(\"\\\\\")"
   ]
  },
  {
   "cell_type": "code",
   "execution_count": null,
   "id": "4e34c3f1-2b22-48ab-9e2c-4d03d910af7d",
   "metadata": {},
   "outputs": [],
   "source": []
  },
  {
   "cell_type": "code",
   "execution_count": 28,
   "id": "d3da79dd-2c0e-49b8-8c39-fbf3acdf3595",
   "metadata": {},
   "outputs": [],
   "source": [
    "#Ex7"
   ]
  },
  {
   "cell_type": "code",
   "execution_count": 30,
   "id": "99654ae2-42f2-46dd-9901-8cefa3995e1d",
   "metadata": {},
   "outputs": [
    {
     "name": "stdout",
     "output_type": "stream",
     "text": [
      "YOU ARE WRONG\n"
     ]
    }
   ],
   "source": [
    "F = \"You are wrong\"\n",
    "print(F.upper())"
   ]
  },
  {
   "cell_type": "code",
   "execution_count": null,
   "id": "7c8ceada-3ec6-4902-859a-1973c2451f33",
   "metadata": {},
   "outputs": [],
   "source": []
  },
  {
   "cell_type": "code",
   "execution_count": 31,
   "id": "86f7c19e-8b10-4400-aac7-5eee0a00c87c",
   "metadata": {},
   "outputs": [],
   "source": [
    "#Ex8"
   ]
  },
  {
   "cell_type": "code",
   "execution_count": 43,
   "id": "3eefb98e-e446-4c44-a553-0dfd325e8224",
   "metadata": {},
   "outputs": [
    {
     "data": {
      "text/plain": [
       "95"
      ]
     },
     "execution_count": 43,
     "metadata": {},
     "output_type": "execute_result"
    }
   ],
   "source": [
    "G = \"Mary had a little lamb Little lamb, little lamb Mary had a little lamb \\\n",
    "Its fleece was white as snow And everywhere that Mary went Mary went, Mary went \\\n",
    "Everywhere that Mary went The lamb was sure to go\"\n",
    "G.find(\"snow\")"
   ]
  },
  {
   "cell_type": "code",
   "execution_count": 44,
   "id": "1a5707b8-5069-421f-9550-5a918f0e67b1",
   "metadata": {},
   "outputs": [
    {
     "data": {
      "text/plain": [
       "'Bob had a little lamb Little lamb, little lamb Bob had a little lamb Its fleece was white as snow And everywhere that Bob went Bob went, Bob went Everywhere that Bob went The lamb was sure to go'"
      ]
     },
     "execution_count": 44,
     "metadata": {},
     "output_type": "execute_result"
    }
   ],
   "source": [
    "G.replace(\"Mary\", \"Bob\")"
   ]
  },
  {
   "cell_type": "code",
   "execution_count": null,
   "id": "c1067aac-e566-4f66-af97-0d7595b90e93",
   "metadata": {},
   "outputs": [],
   "source": []
  }
 ],
 "metadata": {
  "kernelspec": {
   "display_name": "Python 3 (ipykernel)",
   "language": "python",
   "name": "python3"
  },
  "language_info": {
   "codemirror_mode": {
    "name": "ipython",
    "version": 3
   },
   "file_extension": ".py",
   "mimetype": "text/x-python",
   "name": "python",
   "nbconvert_exporter": "python",
   "pygments_lexer": "ipython3",
   "version": "3.11.5"
  }
 },
 "nbformat": 4,
 "nbformat_minor": 5
}
