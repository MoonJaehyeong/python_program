{
  "nbformat": 4,
  "nbformat_minor": 0,
  "metadata": {
    "colab": {
      "provenance": [],
      "authorship_tag": "ABX9TyOV5eCY8g+95mdU+sfxXyVm",
      "include_colab_link": true
    },
    "kernelspec": {
      "name": "python3",
      "display_name": "Python 3"
    },
    "language_info": {
      "name": "python"
    }
  },
  "cells": [
    {
      "cell_type": "markdown",
      "metadata": {
        "id": "view-in-github",
        "colab_type": "text"
      },
      "source": [
        "<a href=\"https://colab.research.google.com/github/MoonJaehyeong/python_program/blob/main/7%EC%A3%BC%EC%B0%A8_%EC%88%99%EC%A0%9C2.ipynb\" target=\"_parent\"><img src=\"https://colab.research.google.com/assets/colab-badge.svg\" alt=\"Open In Colab\"/></a>"
      ]
    },
    {
      "cell_type": "code",
      "execution_count": 1,
      "metadata": {
        "id": "wDTr1eQpzznZ"
      },
      "outputs": [],
      "source": [
        "# 이름: 문재형\n",
        "# 학번: 2022177357"
      ]
    },
    {
      "cell_type": "code",
      "source": [
        "from google.colab import drive\n",
        "drive.mount('/content/gdrive')"
      ],
      "metadata": {
        "colab": {
          "base_uri": "https://localhost:8080/"
        },
        "id": "vj_oD7apSBA6",
        "outputId": "7048cacf-d2bb-4ab5-8e3f-07aa6d4fea3f"
      },
      "execution_count": 2,
      "outputs": [
        {
          "output_type": "stream",
          "name": "stdout",
          "text": [
            "Mounted at /content/gdrive\n"
          ]
        }
      ]
    },
    {
      "cell_type": "code",
      "source": [
        "# 해당 폴더에 example2.txt 파일을 생성해서 거기에 내용을 작성할 께,, 그 작성 내용은 writefile에서 읽을 거야\n",
        "with open('/content/gdrive/My Drive/Colab Notebooks/python_program/example2.txt', 'w') as writefile:\n",
        "      writefile.write(\"This is line A\") #writefile에 \"This is line A\" 문구를 작성해줘"
      ],
      "metadata": {
        "id": "AUs4gbU_SOpF"
      },
      "execution_count": 5,
      "outputs": []
    },
    {
      "cell_type": "code",
      "source": [
        "with open('/content/gdrive/My Drive/Colab Notebooks/python_program/example2.txt', 'r') as testwritefile:\n",
        "    print(testwritefile.read())"
      ],
      "metadata": {
        "colab": {
          "base_uri": "https://localhost:8080/"
        },
        "id": "2Bxhc1PvSz3X",
        "outputId": "5d535a29-755c-4f8b-ba38-f2da468aa200"
      },
      "execution_count": 6,
      "outputs": [
        {
          "output_type": "stream",
          "name": "stdout",
          "text": [
            "This is line A\n"
          ]
        }
      ]
    },
    {
      "cell_type": "code",
      "source": [
        "with open('/content/gdrive/My Drive/Colab Notebooks/python_program/example2.txt', 'w') as writefile:\n",
        "    writefile.write(\"This is line A\\n\") #writefile에 첫번째 줄에 \"This is line A\" 문구를 작성해줘\n",
        "    writefile.write(\"This is line B\\n\") #writefile에 두번째 줄에 \"This is line B\" 문구를 작성해줘\n",
        "    writefile.write(\"This is line 10\") #writefile에 세번째 줄에 \"This is line 10\" 문구를 작성해줘"
      ],
      "metadata": {
        "id": "8Sns3-mAS54v"
      },
      "execution_count": 10,
      "outputs": []
    },
    {
      "cell_type": "code",
      "source": [
        "with open('/content/gdrive/My Drive/Colab Notebooks/python_program/example2.txt', 'r') as testwritefile:\n",
        "    print(testwritefile.read())"
      ],
      "metadata": {
        "colab": {
          "base_uri": "https://localhost:8080/"
        },
        "id": "E1_Ym6TdTEhu",
        "outputId": "bfba2cae-8242-45ae-f3e4-1e82d9290364"
      },
      "execution_count": 9,
      "outputs": [
        {
          "output_type": "stream",
          "name": "stdout",
          "text": [
            "This is line A\n",
            "This is line B\n",
            "This is line 10\n",
            "\n"
          ]
        }
      ]
    },
    {
      "cell_type": "code",
      "source": [
        "with open('/content/gdrive/My Drive/Colab Notebooks/python_program/example2.txt', 'r') as testwritefile:\n",
        "    print(testwritefile.read()) #example2의 내용을 testwritefile에서 읽을 거야,,"
      ],
      "metadata": {
        "colab": {
          "base_uri": "https://localhost:8080/"
        },
        "id": "o0tIK15jTGgP",
        "outputId": "2cd19da3-f7da-4e1d-8cc3-1e8f7f8a8491"
      },
      "execution_count": 12,
      "outputs": [
        {
          "output_type": "stream",
          "name": "stdout",
          "text": [
            "This is line A\n",
            "This is line B\n",
            "This is line 10\n"
          ]
        }
      ]
    },
    {
      "cell_type": "code",
      "source": [
        "with open('/content/gdrive/My Drive/Colab Notebooks/python_program/example2.txt', 'w') as testwritefile:\n",
        "    testwritefile.write(\"This is line C\\n\") #testwritefile에 첫번째 줄에 \"This is line C\" 문구를 작성해줘"
      ],
      "metadata": {
        "id": "8wBVluVdU0gP"
      },
      "execution_count": 14,
      "outputs": []
    },
    {
      "cell_type": "code",
      "source": [
        "with open('/content/gdrive/My Drive/Colab Notebooks/python_program/example2.txt', 'r') as testwritefile:\n",
        "    print(testwritefile.read())"
      ],
      "metadata": {
        "colab": {
          "base_uri": "https://localhost:8080/"
        },
        "id": "EJ_5IkgKVPBJ",
        "outputId": "9b69d447-37af-47f8-cdfa-15ae2ec70772"
      },
      "execution_count": 15,
      "outputs": [
        {
          "output_type": "stream",
          "name": "stdout",
          "text": [
            "This is line C\n",
            "\n"
          ]
        }
      ]
    },
    {
      "cell_type": "code",
      "source": [
        "Lines = [\"This is line A\\n\", \"This is line B\\n\", \"This is line C\\n\"] # Lines이라는 list를 정의할께\n",
        "Lines"
      ],
      "metadata": {
        "colab": {
          "base_uri": "https://localhost:8080/"
        },
        "id": "kjjFabv6Vedc",
        "outputId": "84594bd7-ef87-4d42-f135-e79a275ba369"
      },
      "execution_count": 16,
      "outputs": [
        {
          "output_type": "execute_result",
          "data": {
            "text/plain": [
              "['This is line A\\n', 'This is line B\\n', 'This is line C\\n']"
            ]
          },
          "metadata": {},
          "execution_count": 16
        }
      ]
    },
    {
      "cell_type": "code",
      "source": [
        "with open('/content/gdrive/My Drive/Colab Notebooks/python_program/example11.txt', 'w') as WriteFile:\n",
        "     for line in Lines: # Line이라는 list안에서 마지막 line까지 반복해줘,, 뭘?\n",
        "         print(line) # 각 line의 값을 출력해줘\n",
        "         WriteFile.write(line) # example11.txt에 각 line의 값을 작성해줘"
      ],
      "metadata": {
        "colab": {
          "base_uri": "https://localhost:8080/"
        },
        "id": "FthJs8eOVlP6",
        "outputId": "28bfd118-7fc3-42ca-edac-5d71831bc7b8"
      },
      "execution_count": 22,
      "outputs": [
        {
          "output_type": "stream",
          "name": "stdout",
          "text": [
            "This is line A\n",
            "\n",
            "This is line B\n",
            "\n",
            "This is line C\n",
            "\n"
          ]
        }
      ]
    },
    {
      "cell_type": "code",
      "source": [
        "with open('/content/gdrive/My Drive/Colab Notebooks/python_program/example11.txt', 'r') as WriteFile:\n",
        "     print(WriteFile.read())"
      ],
      "metadata": {
        "colab": {
          "base_uri": "https://localhost:8080/"
        },
        "id": "5nM12Q1bV1gC",
        "outputId": "eadff1f7-cb35-4f87-a3b8-1af80b212dba"
      },
      "execution_count": 24,
      "outputs": [
        {
          "output_type": "stream",
          "name": "stdout",
          "text": [
            "This is line A\n",
            "This is line B\n",
            "This is line C\n",
            "\n"
          ]
        }
      ]
    },
    {
      "cell_type": "code",
      "source": [
        "with open('/content/gdrive/My Drive/Colab Notebooks/python_program/example11.txt', 'r') as readfile1: # example11.txt을 읽어서\n",
        "    with open('/content/gdrive/My Drive/Colab Notebooks/python_program/example12.txt', 'w') as readfile2: # example12.txt로 작성해줘\n",
        "          for line in readfile1: # readfile1 안에서 마지막 line까지 반복해줘,, 뭘?\n",
        "               readfile2.write(line) #readfile2에서 작성해줘,,"
      ],
      "metadata": {
        "id": "N6d0APeAXKLd"
      },
      "execution_count": 31,
      "outputs": []
    },
    {
      "cell_type": "code",
      "source": [
        " with open('/content/gdrive/My Drive/Colab Notebooks/python_program/example12.txt', 'r') as readFile3:\n",
        "     print(readFile3.read())"
      ],
      "metadata": {
        "colab": {
          "base_uri": "https://localhost:8080/"
        },
        "id": "CV7arKVjXmdn",
        "outputId": "f3a31031-925c-4b22-955a-8c016ad605f0"
      },
      "execution_count": 32,
      "outputs": [
        {
          "output_type": "stream",
          "name": "stdout",
          "text": [
            "This is line A\n",
            "This is line B\n",
            "This is line C\n",
            "\n"
          ]
        }
      ]
    },
    {
      "cell_type": "code",
      "source": [],
      "metadata": {
        "id": "PyQgY5-sYTMn"
      },
      "execution_count": null,
      "outputs": []
    }
  ]
}