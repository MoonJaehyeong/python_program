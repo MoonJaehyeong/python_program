{
  "nbformat": 4,
  "nbformat_minor": 0,
  "metadata": {
    "colab": {
      "provenance": [],
      "authorship_tag": "ABX9TyOoSchoUp1q8/h5RV4IjC1k",
      "include_colab_link": true
    },
    "kernelspec": {
      "name": "python3",
      "display_name": "Python 3"
    },
    "language_info": {
      "name": "python"
    }
  },
  "cells": [
    {
      "cell_type": "markdown",
      "metadata": {
        "id": "view-in-github",
        "colab_type": "text"
      },
      "source": [
        "<a href=\"https://colab.research.google.com/github/MoonJaehyeong/python_program/blob/main/7%EC%A3%BC%EC%B0%A8_%EC%88%99%EC%A0%9C1.ipynb\" target=\"_parent\"><img src=\"https://colab.research.google.com/assets/colab-badge.svg\" alt=\"Open In Colab\"/></a>"
      ]
    },
    {
      "cell_type": "code",
      "source": [
        "# 이름: 문재형\n",
        "# 학번: 2022177357"
      ],
      "metadata": {
        "id": "8Dy_x08X3oI6"
      },
      "execution_count": 2,
      "outputs": []
    },
    {
      "cell_type": "code",
      "source": [
        "# google drive에서 파일을 불러올 수 있도록 접근권한을 허용할께(공식)\n",
        "\n",
        "from google.colab import drive\n",
        "drive.mount('/content/gdrive')"
      ],
      "metadata": {
        "colab": {
          "base_uri": "https://localhost:8080/"
        },
        "id": "QIYSZGhuEk5w",
        "outputId": "1a375757-f1c1-47e6-ddca-c6dba98d392c"
      },
      "execution_count": 4,
      "outputs": [
        {
          "output_type": "stream",
          "name": "stdout",
          "text": [
            "Drive already mounted at /content/gdrive; to attempt to forcibly remount, call drive.mount(\"/content/gdrive\", force_remount=True).\n"
          ]
        }
      ]
    },
    {
      "cell_type": "code",
      "source": [
        "# content > Google Drive > Colab Notebook > python_program 폴더 안에 있는 TopsellingAlbums.csv 파일을 example1으로 정의할께\n",
        "example1 = \"/content/gdrive/My Drive/Colab Notebooks/python_program/TopSellingAlbums.csv\"\n",
        "file1 = open(example1, \"r\") # file1은 example1을 읽을 수 있는(r) 객체로 만든거야 언제든지 읽을 수 있는 상태 --> 반드시 file1.close()로 닫어야 함"
      ],
      "metadata": {
        "id": "sjftDlbSEzu3"
      },
      "execution_count": 41,
      "outputs": []
    },
    {
      "cell_type": "code",
      "source": [
        "file1.name"
      ],
      "metadata": {
        "colab": {
          "base_uri": "https://localhost:8080/",
          "height": 35
        },
        "id": "CtIBt0gEFgqt",
        "outputId": "b6f20d8e-acf4-46d4-aace-f0a30ec47411"
      },
      "execution_count": 11,
      "outputs": [
        {
          "output_type": "execute_result",
          "data": {
            "text/plain": [
              "'/content/gdrive/My Drive/Colab Notebooks/python_program/TopSellingAlbums.csv'"
            ],
            "application/vnd.google.colaboratory.intrinsic+json": {
              "type": "string"
            }
          },
          "metadata": {},
          "execution_count": 11
        }
      ]
    },
    {
      "cell_type": "code",
      "source": [
        "file1.mode # mode는 읽을 수 있는(r) 상태"
      ],
      "metadata": {
        "colab": {
          "base_uri": "https://localhost:8080/",
          "height": 35
        },
        "id": "AJySkJZtHEQF",
        "outputId": "946c5a61-dda3-4ead-cfc5-dddbbf62e2e6"
      },
      "execution_count": 12,
      "outputs": [
        {
          "output_type": "execute_result",
          "data": {
            "text/plain": [
              "'r'"
            ],
            "application/vnd.google.colaboratory.intrinsic+json": {
              "type": "string"
            }
          },
          "metadata": {},
          "execution_count": 12
        }
      ]
    },
    {
      "cell_type": "code",
      "source": [
        "FileContent1 = file1.read() # FileContent는 file1을 읽은 것인데...\n",
        "FileContent1 #FileContent 안에 내용은?? --> csv 파일에 있는 Data Frame을 활용하지 않음,, 그냥 연속된 값으로 표현"
      ],
      "metadata": {
        "colab": {
          "base_uri": "https://localhost:8080/",
          "height": 87
        },
        "id": "VoJqK_QtHHTw",
        "outputId": "11bcc0ed-a85b-4418-ceda-4684b54041d9"
      },
      "execution_count": 42,
      "outputs": [
        {
          "output_type": "execute_result",
          "data": {
            "text/plain": [
              "'Artist,Album,Released,Length,Genre,Music Recording Sales (millions),Claimed Sales (millions),Released,Soundtrack,Rating\\nMichael Jackson,Thriller,1982,0:42:19,\"pop, rock, R&B\",46,65,30-Nov-82,,10\\nAC/DC,Back in Black,1980,0:42:11,hard rock,26.1,50,25-Jul-80,,9.5\\nPink Floyd,The Dark Side of the Moon,1973,0:42:49,progressive rock,24.2,45,01-Mar-73,,9\\nWhitney Houston,The Bodyguard,1992,0:57:44,\"R&B, soul, pop\",27.4,44,17-Nov-92,Y,8.5\\nMeat Loaf,Bat Out of Hell,1977,0:46:33,\"hard rock, progressive rock\",20.6,43,21-Oct-77,,8\\nEagles,Their Greatest Hits (1971-1975),1976,0:43:08,\"rock, soft rock, folk rock\",32.2,42,17-Feb-76,,7.5\\nBee Gees,Saturday Night Fever,1977,1:15:54,disco,20.6,40,15-Nov-77,Y,7\\nFleetwood Mac,Rumours,1977,0:40:01,soft rock,27.9,40,04-Feb-77,,6.5\\n'"
            ],
            "application/vnd.google.colaboratory.intrinsic+json": {
              "type": "string"
            }
          },
          "metadata": {},
          "execution_count": 42
        }
      ]
    },
    {
      "cell_type": "code",
      "source": [
        "file1.read"
      ],
      "metadata": {
        "colab": {
          "base_uri": "https://localhost:8080/"
        },
        "id": "R63RmU_GHODA",
        "outputId": "f8d33d7e-cae9-42d3-c546-69faffe4d120"
      },
      "execution_count": 14,
      "outputs": [
        {
          "output_type": "execute_result",
          "data": {
            "text/plain": [
              "<function TextIOWrapper.read(size=-1, /)>"
            ]
          },
          "metadata": {},
          "execution_count": 14
        }
      ]
    },
    {
      "cell_type": "code",
      "source": [
        "print(FileContent1) # FileContent 안에 내용은?? --> csv 파일에 있는 그대로의 Data Frame을 활용"
      ],
      "metadata": {
        "colab": {
          "base_uri": "https://localhost:8080/"
        },
        "id": "rOfpaKD8HXf_",
        "outputId": "88e455b5-aebb-4443-9cdd-60808cbe6c88"
      },
      "execution_count": 43,
      "outputs": [
        {
          "output_type": "stream",
          "name": "stdout",
          "text": [
            "Artist,Album,Released,Length,Genre,Music Recording Sales (millions),Claimed Sales (millions),Released,Soundtrack,Rating\n",
            "Michael Jackson,Thriller,1982,0:42:19,\"pop, rock, R&B\",46,65,30-Nov-82,,10\n",
            "AC/DC,Back in Black,1980,0:42:11,hard rock,26.1,50,25-Jul-80,,9.5\n",
            "Pink Floyd,The Dark Side of the Moon,1973,0:42:49,progressive rock,24.2,45,01-Mar-73,,9\n",
            "Whitney Houston,The Bodyguard,1992,0:57:44,\"R&B, soul, pop\",27.4,44,17-Nov-92,Y,8.5\n",
            "Meat Loaf,Bat Out of Hell,1977,0:46:33,\"hard rock, progressive rock\",20.6,43,21-Oct-77,,8\n",
            "Eagles,Their Greatest Hits (1971-1975),1976,0:43:08,\"rock, soft rock, folk rock\",32.2,42,17-Feb-76,,7.5\n",
            "Bee Gees,Saturday Night Fever,1977,1:15:54,disco,20.6,40,15-Nov-77,Y,7\n",
            "Fleetwood Mac,Rumours,1977,0:40:01,soft rock,27.9,40,04-Feb-77,,6.5\n",
            "\n"
          ]
        }
      ]
    },
    {
      "cell_type": "code",
      "source": [
        "type(FileContent)"
      ],
      "metadata": {
        "colab": {
          "base_uri": "https://localhost:8080/"
        },
        "id": "OpVFzO1ZHgQ0",
        "outputId": "e0ee6c44-5c8d-43ba-8b36-ba1502b6a7ba"
      },
      "execution_count": 16,
      "outputs": [
        {
          "output_type": "execute_result",
          "data": {
            "text/plain": [
              "str"
            ]
          },
          "metadata": {},
          "execution_count": 16
        }
      ]
    },
    {
      "cell_type": "code",
      "source": [
        "file1.close() # 반드시 file1.close()로 닫어야 함 --> 한번 닫으면,, 처음으로 가서 다시 열어야 함!!!"
      ],
      "metadata": {
        "id": "aRCDO4S0IHpl"
      },
      "execution_count": 44,
      "outputs": []
    },
    {
      "cell_type": "code",
      "source": [
        "FileContent1 # FileContent에는 메모리 활용하여 데이터가 저장됨"
      ],
      "metadata": {
        "colab": {
          "base_uri": "https://localhost:8080/",
          "height": 87
        },
        "id": "lpBSq4WPKoD_",
        "outputId": "8b9928b9-c9d8-4197-8717-e501db560b91"
      },
      "execution_count": 45,
      "outputs": [
        {
          "output_type": "execute_result",
          "data": {
            "text/plain": [
              "'Artist,Album,Released,Length,Genre,Music Recording Sales (millions),Claimed Sales (millions),Released,Soundtrack,Rating\\nMichael Jackson,Thriller,1982,0:42:19,\"pop, rock, R&B\",46,65,30-Nov-82,,10\\nAC/DC,Back in Black,1980,0:42:11,hard rock,26.1,50,25-Jul-80,,9.5\\nPink Floyd,The Dark Side of the Moon,1973,0:42:49,progressive rock,24.2,45,01-Mar-73,,9\\nWhitney Houston,The Bodyguard,1992,0:57:44,\"R&B, soul, pop\",27.4,44,17-Nov-92,Y,8.5\\nMeat Loaf,Bat Out of Hell,1977,0:46:33,\"hard rock, progressive rock\",20.6,43,21-Oct-77,,8\\nEagles,Their Greatest Hits (1971-1975),1976,0:43:08,\"rock, soft rock, folk rock\",32.2,42,17-Feb-76,,7.5\\nBee Gees,Saturday Night Fever,1977,1:15:54,disco,20.6,40,15-Nov-77,Y,7\\nFleetwood Mac,Rumours,1977,0:40:01,soft rock,27.9,40,04-Feb-77,,6.5\\n'"
            ],
            "application/vnd.google.colaboratory.intrinsic+json": {
              "type": "string"
            }
          },
          "metadata": {},
          "execution_count": 45
        }
      ]
    },
    {
      "cell_type": "code",
      "source": [
        "with open(example1, \"r\") as file1: # file1로써,, example1을 읽을 수 있는 상태로 열거야!\n",
        "    FileContent2 = file1.read() # file1을 읽을 건데,, 읽은 내용을 FileContent에 저장해줘 --> 메모리 저장\n",
        "    print(FileContent2) # 저장된 FileContent의 내용을 출력해줘"
      ],
      "metadata": {
        "colab": {
          "base_uri": "https://localhost:8080/"
        },
        "id": "RaxtUR5aIJax",
        "outputId": "1b34a5cc-e5aa-41ef-b117-a55956840dbb"
      },
      "execution_count": 31,
      "outputs": [
        {
          "output_type": "stream",
          "name": "stdout",
          "text": [
            "Artist,Album,Released,Length,Genre,Music Recording Sales (millions),Claimed Sales (millions),Released,Soundtrack,Rating\n",
            "Michael Jackson,Thriller,1982,0:42:19,\"pop, rock, R&B\",46,65,30-Nov-82,,10\n",
            "AC/DC,Back in Black,1980,0:42:11,hard rock,26.1,50,25-Jul-80,,9.5\n",
            "Pink Floyd,The Dark Side of the Moon,1973,0:42:49,progressive rock,24.2,45,01-Mar-73,,9\n",
            "Whitney Houston,The Bodyguard,1992,0:57:44,\"R&B, soul, pop\",27.4,44,17-Nov-92,Y,8.5\n",
            "Meat Loaf,Bat Out of Hell,1977,0:46:33,\"hard rock, progressive rock\",20.6,43,21-Oct-77,,8\n",
            "Eagles,Their Greatest Hits (1971-1975),1976,0:43:08,\"rock, soft rock, folk rock\",32.2,42,17-Feb-76,,7.5\n",
            "Bee Gees,Saturday Night Fever,1977,1:15:54,disco,20.6,40,15-Nov-77,Y,7\n",
            "Fleetwood Mac,Rumours,1977,0:40:01,soft rock,27.9,40,04-Feb-77,,6.5\n",
            "\n"
          ]
        }
      ]
    },
    {
      "cell_type": "code",
      "source": [
        "file1.closed # 얘는 file.closed()가 아니네?? ()가 없네??"
      ],
      "metadata": {
        "colab": {
          "base_uri": "https://localhost:8080/"
        },
        "id": "QOgUp0LRIg70",
        "outputId": "35402415-8180-49fb-f1b5-33c792c3d035"
      },
      "execution_count": 32,
      "outputs": [
        {
          "output_type": "execute_result",
          "data": {
            "text/plain": [
              "True"
            ]
          },
          "metadata": {},
          "execution_count": 32
        }
      ]
    },
    {
      "cell_type": "code",
      "source": [
        "print(FileContent2) # 메모리에 FileContent의 데이터가 저장됨"
      ],
      "metadata": {
        "colab": {
          "base_uri": "https://localhost:8080/"
        },
        "id": "WcE-1Q7DJBRl",
        "outputId": "cd9d91a4-48a2-4ea2-f5e0-3ab3ea64b3f5"
      },
      "execution_count": 33,
      "outputs": [
        {
          "output_type": "stream",
          "name": "stdout",
          "text": [
            "Artist,Album,Released,Length,Genre,Music Recording Sales (millions),Claimed Sales (millions),Released,Soundtrack,Rating\n",
            "Michael Jackson,Thriller,1982,0:42:19,\"pop, rock, R&B\",46,65,30-Nov-82,,10\n",
            "AC/DC,Back in Black,1980,0:42:11,hard rock,26.1,50,25-Jul-80,,9.5\n",
            "Pink Floyd,The Dark Side of the Moon,1973,0:42:49,progressive rock,24.2,45,01-Mar-73,,9\n",
            "Whitney Houston,The Bodyguard,1992,0:57:44,\"R&B, soul, pop\",27.4,44,17-Nov-92,Y,8.5\n",
            "Meat Loaf,Bat Out of Hell,1977,0:46:33,\"hard rock, progressive rock\",20.6,43,21-Oct-77,,8\n",
            "Eagles,Their Greatest Hits (1971-1975),1976,0:43:08,\"rock, soft rock, folk rock\",32.2,42,17-Feb-76,,7.5\n",
            "Bee Gees,Saturday Night Fever,1977,1:15:54,disco,20.6,40,15-Nov-77,Y,7\n",
            "Fleetwood Mac,Rumours,1977,0:40:01,soft rock,27.9,40,04-Feb-77,,6.5\n",
            "\n"
          ]
        }
      ]
    },
    {
      "cell_type": "code",
      "source": [
        "with open(example1, \"r\") as file1:\n",
        "    print(file1.read(4)) # 읽은 file1의 4번째 자리수까지 출력해줘"
      ],
      "metadata": {
        "colab": {
          "base_uri": "https://localhost:8080/"
        },
        "id": "gR6I2UdBJpsI",
        "outputId": "0f3b0e2f-c5d6-4870-fb61-e388cdedc442"
      },
      "execution_count": 46,
      "outputs": [
        {
          "output_type": "stream",
          "name": "stdout",
          "text": [
            "Arti\n"
          ]
        }
      ]
    },
    {
      "cell_type": "code",
      "source": [
        "type(file1.read(4)) #str??"
      ],
      "metadata": {
        "colab": {
          "base_uri": "https://localhost:8080/",
          "height": 178
        },
        "id": "vyQF9TViK3xj",
        "outputId": "5e0e9b2e-304a-450d-9c4a-502e553185d5"
      },
      "execution_count": 53,
      "outputs": [
        {
          "output_type": "error",
          "ename": "ValueError",
          "evalue": "ignored",
          "traceback": [
            "\u001b[0;31m---------------------------------------------------------------------------\u001b[0m",
            "\u001b[0;31mValueError\u001b[0m                                Traceback (most recent call last)",
            "\u001b[0;32m<ipython-input-53-816de60541ee>\u001b[0m in \u001b[0;36m<cell line: 1>\u001b[0;34m()\u001b[0m\n\u001b[0;32m----> 1\u001b[0;31m \u001b[0mtype\u001b[0m\u001b[0;34m(\u001b[0m\u001b[0mfile1\u001b[0m\u001b[0;34m.\u001b[0m\u001b[0mread\u001b[0m\u001b[0;34m(\u001b[0m\u001b[0;36m4\u001b[0m\u001b[0;34m)\u001b[0m\u001b[0;34m)\u001b[0m \u001b[0;31m#str??\u001b[0m\u001b[0;34m\u001b[0m\u001b[0;34m\u001b[0m\u001b[0m\n\u001b[0m",
            "\u001b[0;31mValueError\u001b[0m: I/O operation on closed file."
          ]
        }
      ]
    },
    {
      "cell_type": "code",
      "source": [
        "with open(example1, \"r\") as file1:\n",
        "    print(file1.read(4)) # 첫 4번째 자리수까지\n",
        "    print(file1.read(4)) # 그 뒤 4번째 자리수까지\n",
        "    print(file1.read(7))\n",
        "    print(file1.read(15))"
      ],
      "metadata": {
        "colab": {
          "base_uri": "https://localhost:8080/"
        },
        "id": "-Q7mBTLPLXtJ",
        "outputId": "bbdd5ac0-8343-4f69-9cba-9d7acbe815ac"
      },
      "execution_count": 55,
      "outputs": [
        {
          "output_type": "stream",
          "name": "stdout",
          "text": [
            "Arti\n",
            "st,A\n",
            "lbum,Re\n",
            "leased,Length,G\n"
          ]
        }
      ]
    },
    {
      "cell_type": "code",
      "source": [
        "FileContent3 = file1.read()\n",
        "FileContent3"
      ],
      "metadata": {
        "colab": {
          "base_uri": "https://localhost:8080/",
          "height": 196
        },
        "id": "sgB5NHqSL6Ty",
        "outputId": "729947bc-50d7-436b-c08f-b33cf8e2a7bb"
      },
      "execution_count": 56,
      "outputs": [
        {
          "output_type": "error",
          "ename": "ValueError",
          "evalue": "ignored",
          "traceback": [
            "\u001b[0;31m---------------------------------------------------------------------------\u001b[0m",
            "\u001b[0;31mValueError\u001b[0m                                Traceback (most recent call last)",
            "\u001b[0;32m<ipython-input-56-197d17227e3d>\u001b[0m in \u001b[0;36m<cell line: 1>\u001b[0;34m()\u001b[0m\n\u001b[0;32m----> 1\u001b[0;31m \u001b[0mFileContent3\u001b[0m \u001b[0;34m=\u001b[0m \u001b[0mfile1\u001b[0m\u001b[0;34m.\u001b[0m\u001b[0mread\u001b[0m\u001b[0;34m(\u001b[0m\u001b[0;34m)\u001b[0m\u001b[0;34m\u001b[0m\u001b[0;34m\u001b[0m\u001b[0m\n\u001b[0m\u001b[1;32m      2\u001b[0m \u001b[0mFileContent3\u001b[0m\u001b[0;34m\u001b[0m\u001b[0;34m\u001b[0m\u001b[0m\n",
            "\u001b[0;31mValueError\u001b[0m: I/O operation on closed file."
          ]
        }
      ]
    },
    {
      "cell_type": "code",
      "source": [
        "file1.close"
      ],
      "metadata": {
        "colab": {
          "base_uri": "https://localhost:8080/"
        },
        "id": "gGYam9aLMtCL",
        "outputId": "f6484ed0-dfa0-4e5e-a936-215298b154d6"
      },
      "execution_count": 58,
      "outputs": [
        {
          "output_type": "execute_result",
          "data": {
            "text/plain": [
              "<function TextIOWrapper.close()>"
            ]
          },
          "metadata": {},
          "execution_count": 58
        }
      ]
    },
    {
      "cell_type": "code",
      "source": [
        "with open(example1, \"r\") as file1:\n",
        "    FileContent3 = file1.read() #읽은 file1을 FileContent에 다시 담을 때는 with-as 구문 안에 포함되어야 함\n",
        "    print(FileContent3) # 읽은 file1의 4번째 자리수까지 출력해줘"
      ],
      "metadata": {
        "colab": {
          "base_uri": "https://localhost:8080/"
        },
        "id": "GqtfRb6LNIkq",
        "outputId": "f8d90bab-7f03-4e57-e143-709ac74caf6c"
      },
      "execution_count": 60,
      "outputs": [
        {
          "output_type": "stream",
          "name": "stdout",
          "text": [
            "Artist,Album,Released,Length,Genre,Music Recording Sales (millions),Claimed Sales (millions),Released,Soundtrack,Rating\n",
            "Michael Jackson,Thriller,1982,0:42:19,\"pop, rock, R&B\",46,65,30-Nov-82,,10\n",
            "AC/DC,Back in Black,1980,0:42:11,hard rock,26.1,50,25-Jul-80,,9.5\n",
            "Pink Floyd,The Dark Side of the Moon,1973,0:42:49,progressive rock,24.2,45,01-Mar-73,,9\n",
            "Whitney Houston,The Bodyguard,1992,0:57:44,\"R&B, soul, pop\",27.4,44,17-Nov-92,Y,8.5\n",
            "Meat Loaf,Bat Out of Hell,1977,0:46:33,\"hard rock, progressive rock\",20.6,43,21-Oct-77,,8\n",
            "Eagles,Their Greatest Hits (1971-1975),1976,0:43:08,\"rock, soft rock, folk rock\",32.2,42,17-Feb-76,,7.5\n",
            "Bee Gees,Saturday Night Fever,1977,1:15:54,disco,20.6,40,15-Nov-77,Y,7\n",
            "Fleetwood Mac,Rumours,1977,0:40:01,soft rock,27.9,40,04-Feb-77,,6.5\n",
            "\n"
          ]
        }
      ]
    },
    {
      "cell_type": "code",
      "source": [
        "file1.close #with-as 구문에서 파일을 열었을 경우, 닫을 때 close 옆에 ()를 붙이지 않아도 됨"
      ],
      "metadata": {
        "colab": {
          "base_uri": "https://localhost:8080/"
        },
        "id": "J7RBXd47NQpo",
        "outputId": "69ae935b-dc4f-4e5e-cc8f-9d132d04159b"
      },
      "execution_count": 61,
      "outputs": [
        {
          "output_type": "execute_result",
          "data": {
            "text/plain": [
              "<function TextIOWrapper.close()>"
            ]
          },
          "metadata": {},
          "execution_count": 61
        }
      ]
    },
    {
      "cell_type": "code",
      "source": [
        "with open(example1, \"r\") as file1:\n",
        "    print(file1.read(16))\n",
        "    print(file1.read(5))\n",
        "    print(file1.read(9))"
      ],
      "metadata": {
        "colab": {
          "base_uri": "https://localhost:8080/"
        },
        "id": "4P6OlcQZNtPF",
        "outputId": "3bac0245-acfa-411a-f956-4bd4bcc28885"
      },
      "execution_count": 62,
      "outputs": [
        {
          "output_type": "stream",
          "name": "stdout",
          "text": [
            "Artist,Album,Rel\n",
            "eased\n",
            ",Length,G\n"
          ]
        }
      ]
    },
    {
      "cell_type": "code",
      "source": [
        "with open(example1, \"r\") as file1:\n",
        "    print(\"first line: \", file1.readline()) # 첫번째 행 호출\n",
        "    print(\"second line: \", file1.readline()) # 두번째 행 호출\n",
        "    print(\"third line: \", file1.readline()) # 세번째 행 호출"
      ],
      "metadata": {
        "colab": {
          "base_uri": "https://localhost:8080/"
        },
        "id": "uCDKiNAQN33K",
        "outputId": "7c70d6f7-e29a-4c9b-ea54-3d6e70228fee"
      },
      "execution_count": 67,
      "outputs": [
        {
          "output_type": "stream",
          "name": "stdout",
          "text": [
            "first line:  Artist,Album,Released,Length,Genre,Music Recording Sales (millions),Claimed Sales (millions),Released,Soundtrack,Rating\n",
            "\n",
            "second line:  Michael Jackson,Thriller,1982,0:42:19,\"pop, rock, R&B\",46,65,30-Nov-82,,10\n",
            "\n",
            "third line:  AC/DC,Back in Black,1980,0:42:11,hard rock,26.1,50,25-Jul-80,,9.5\n",
            "\n"
          ]
        }
      ]
    },
    {
      "cell_type": "code",
      "source": [
        "with open(example1,\"r\") as file1:\n",
        "        i = 0;\n",
        "        for line in file1: # 읽을 수 있는 상태로 열린 file1에서 맨 마지막 line까지 반복해서 호출해줘,,\n",
        "            print(\"Iteration\", str(i), \": \", line) # 호출한 line값과 나머지를 출력해줘,,, str(i)는 문자열로서의 i\n",
        "            i = i + 1; # i는 1씩 증가해서 line 마지막 수 까지,,,"
      ],
      "metadata": {
        "colab": {
          "base_uri": "https://localhost:8080/"
        },
        "id": "OEhcMlHmN5_b",
        "outputId": "04021aaa-74b6-4bdc-e9b7-59f74234c56e"
      },
      "execution_count": 69,
      "outputs": [
        {
          "output_type": "stream",
          "name": "stdout",
          "text": [
            "Iteration 0 :  Artist,Album,Released,Length,Genre,Music Recording Sales (millions),Claimed Sales (millions),Released,Soundtrack,Rating\n",
            "\n",
            "Iteration 1 :  Michael Jackson,Thriller,1982,0:42:19,\"pop, rock, R&B\",46,65,30-Nov-82,,10\n",
            "\n",
            "Iteration 2 :  AC/DC,Back in Black,1980,0:42:11,hard rock,26.1,50,25-Jul-80,,9.5\n",
            "\n",
            "Iteration 3 :  Pink Floyd,The Dark Side of the Moon,1973,0:42:49,progressive rock,24.2,45,01-Mar-73,,9\n",
            "\n",
            "Iteration 4 :  Whitney Houston,The Bodyguard,1992,0:57:44,\"R&B, soul, pop\",27.4,44,17-Nov-92,Y,8.5\n",
            "\n",
            "Iteration 5 :  Meat Loaf,Bat Out of Hell,1977,0:46:33,\"hard rock, progressive rock\",20.6,43,21-Oct-77,,8\n",
            "\n",
            "Iteration 6 :  Eagles,Their Greatest Hits (1971-1975),1976,0:43:08,\"rock, soft rock, folk rock\",32.2,42,17-Feb-76,,7.5\n",
            "\n",
            "Iteration 7 :  Bee Gees,Saturday Night Fever,1977,1:15:54,disco,20.6,40,15-Nov-77,Y,7\n",
            "\n",
            "Iteration 8 :  Fleetwood Mac,Rumours,1977,0:40:01,soft rock,27.9,40,04-Feb-77,,6.5\n",
            "\n"
          ]
        }
      ]
    },
    {
      "cell_type": "code",
      "source": [
        "with open(example1, \"r\") as file1:\n",
        "    FileasList = file1.readlines() # file1.read는 자리수 하나하나를 호출하는 것이고,, .readlines는 line 전체,, 즉 한 행을 호출하는 것,,, 따라서 대게는 list일 수 있음"
      ],
      "metadata": {
        "id": "nZKiLB5XOO68"
      },
      "execution_count": 70,
      "outputs": []
    },
    {
      "cell_type": "code",
      "source": [
        "FileasList"
      ],
      "metadata": {
        "colab": {
          "base_uri": "https://localhost:8080/"
        },
        "id": "0VMtkU2nPc6F",
        "outputId": "d1344e6f-4dac-4965-f23c-702123437d92"
      },
      "execution_count": 71,
      "outputs": [
        {
          "output_type": "execute_result",
          "data": {
            "text/plain": [
              "['Artist,Album,Released,Length,Genre,Music Recording Sales (millions),Claimed Sales (millions),Released,Soundtrack,Rating\\n',\n",
              " 'Michael Jackson,Thriller,1982,0:42:19,\"pop, rock, R&B\",46,65,30-Nov-82,,10\\n',\n",
              " 'AC/DC,Back in Black,1980,0:42:11,hard rock,26.1,50,25-Jul-80,,9.5\\n',\n",
              " 'Pink Floyd,The Dark Side of the Moon,1973,0:42:49,progressive rock,24.2,45,01-Mar-73,,9\\n',\n",
              " 'Whitney Houston,The Bodyguard,1992,0:57:44,\"R&B, soul, pop\",27.4,44,17-Nov-92,Y,8.5\\n',\n",
              " 'Meat Loaf,Bat Out of Hell,1977,0:46:33,\"hard rock, progressive rock\",20.6,43,21-Oct-77,,8\\n',\n",
              " 'Eagles,Their Greatest Hits (1971-1975),1976,0:43:08,\"rock, soft rock, folk rock\",32.2,42,17-Feb-76,,7.5\\n',\n",
              " 'Bee Gees,Saturday Night Fever,1977,1:15:54,disco,20.6,40,15-Nov-77,Y,7\\n',\n",
              " 'Fleetwood Mac,Rumours,1977,0:40:01,soft rock,27.9,40,04-Feb-77,,6.5\\n']"
            ]
          },
          "metadata": {},
          "execution_count": 71
        }
      ]
    },
    {
      "cell_type": "code",
      "source": [
        "FileasList[0]"
      ],
      "metadata": {
        "colab": {
          "base_uri": "https://localhost:8080/",
          "height": 35
        },
        "id": "_wsB064LPi6X",
        "outputId": "2cf3a210-47a7-403a-da4c-eacc4e95d9ee"
      },
      "execution_count": 72,
      "outputs": [
        {
          "output_type": "execute_result",
          "data": {
            "text/plain": [
              "'Artist,Album,Released,Length,Genre,Music Recording Sales (millions),Claimed Sales (millions),Released,Soundtrack,Rating\\n'"
            ],
            "application/vnd.google.colaboratory.intrinsic+json": {
              "type": "string"
            }
          },
          "metadata": {},
          "execution_count": 72
        }
      ]
    },
    {
      "cell_type": "code",
      "source": [
        "type(FileasList)"
      ],
      "metadata": {
        "colab": {
          "base_uri": "https://localhost:8080/"
        },
        "id": "elp6CO3ePpK6",
        "outputId": "0f5b1cd0-cb4b-4c8b-c5df-14b6d903912c"
      },
      "execution_count": 73,
      "outputs": [
        {
          "output_type": "execute_result",
          "data": {
            "text/plain": [
              "list"
            ]
          },
          "metadata": {},
          "execution_count": 73
        }
      ]
    },
    {
      "cell_type": "code",
      "source": [
        "FileasList[1]"
      ],
      "metadata": {
        "colab": {
          "base_uri": "https://localhost:8080/",
          "height": 35
        },
        "id": "HUzayGDhQFJJ",
        "outputId": "93cc2d98-9f76-425f-96ef-2bd84ffea606"
      },
      "execution_count": 74,
      "outputs": [
        {
          "output_type": "execute_result",
          "data": {
            "text/plain": [
              "'Michael Jackson,Thriller,1982,0:42:19,\"pop, rock, R&B\",46,65,30-Nov-82,,10\\n'"
            ],
            "application/vnd.google.colaboratory.intrinsic+json": {
              "type": "string"
            }
          },
          "metadata": {},
          "execution_count": 74
        }
      ]
    },
    {
      "cell_type": "code",
      "source": [
        "FileasList[2]"
      ],
      "metadata": {
        "colab": {
          "base_uri": "https://localhost:8080/",
          "height": 35
        },
        "id": "eo3Eoj1YQM9A",
        "outputId": "4d962d37-b2d8-405e-c341-d8f9d2034eff"
      },
      "execution_count": 75,
      "outputs": [
        {
          "output_type": "execute_result",
          "data": {
            "text/plain": [
              "'AC/DC,Back in Black,1980,0:42:11,hard rock,26.1,50,25-Jul-80,,9.5\\n'"
            ],
            "application/vnd.google.colaboratory.intrinsic+json": {
              "type": "string"
            }
          },
          "metadata": {},
          "execution_count": 75
        }
      ]
    },
    {
      "cell_type": "code",
      "source": [
        "FileasList[100]"
      ],
      "metadata": {
        "colab": {
          "base_uri": "https://localhost:8080/",
          "height": 178
        },
        "id": "5Tcjk3EqQOn_",
        "outputId": "141e34b3-d621-4960-9b78-d1f8cff6e447"
      },
      "execution_count": 76,
      "outputs": [
        {
          "output_type": "error",
          "ename": "IndexError",
          "evalue": "ignored",
          "traceback": [
            "\u001b[0;31m---------------------------------------------------------------------------\u001b[0m",
            "\u001b[0;31mIndexError\u001b[0m                                Traceback (most recent call last)",
            "\u001b[0;32m<ipython-input-76-775061a93e75>\u001b[0m in \u001b[0;36m<cell line: 1>\u001b[0;34m()\u001b[0m\n\u001b[0;32m----> 1\u001b[0;31m \u001b[0mFileasList\u001b[0m\u001b[0;34m[\u001b[0m\u001b[0;36m100\u001b[0m\u001b[0;34m]\u001b[0m\u001b[0;34m\u001b[0m\u001b[0;34m\u001b[0m\u001b[0m\n\u001b[0m",
            "\u001b[0;31mIndexError\u001b[0m: list index out of range"
          ]
        }
      ]
    },
    {
      "cell_type": "code",
      "source": [],
      "metadata": {
        "id": "3otsAGQpQRxZ"
      },
      "execution_count": null,
      "outputs": []
    }
  ]
}